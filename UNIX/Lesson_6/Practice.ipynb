{
 "cells": [
  {
   "cell_type": "markdown",
   "id": "dcba7e5c-9f88-4a55-a0e6-0b94d8ecef1e",
   "metadata": {},
   "source": [
    "## Here I will be practicing examples from the lecture notes"
   ]
  },
  {
   "cell_type": "markdown",
   "id": "e181cbd8-752d-4733-b284-a9e22706315b",
   "metadata": {},
   "source": [
    "#### Create a script that will: \n",
    "1. Use grep to capture all lines in the provided CCDS.current.txt file that have chromosome 1."
   ]
  },
  {
   "cell_type": "code",
   "execution_count": 1,
   "id": "1d38a656-9950-4b25-b1a9-336e5075f577",
   "metadata": {
    "scrolled": true
   },
   "outputs": [
    {
     "name": "stdout",
     "output_type": "stream",
     "text": [
      "/mnt/c/Users/tiffa/OneDrive/Desktop/UNIX_LINUX4Bioinf/Lesson6_ShellScript2\n"
     ]
    }
   ],
   "source": [
    "!pwd"
   ]
  },
  {
   "cell_type": "code",
   "execution_count": 1,
   "id": "43cc1304-1172-42dd-91ea-58c98b6e1719",
   "metadata": {},
   "outputs": [],
   "source": [
    "!grep '^1\\>' CCDS.current.txt > exercise1_out.txt\n",
    "#This pattern is only for 1 at the beginning of the line, and nothing after 1"
   ]
  },
  {
   "cell_type": "markdown",
   "id": "cce17b57-0c77-4109-9ed3-6c81343c6828",
   "metadata": {},
   "source": [
    "2. Pipe the output to uniq to only remove repeat. Pass this to a new file\n",
    "3. Pipe the output wc -l to see if the number of lines have changed after piping to uniq."
   ]
  },
  {
   "cell_type": "code",
   "execution_count": 9,
   "id": "4faee4a7-3091-478d-8555-4b7d25eddb4d",
   "metadata": {},
   "outputs": [],
   "source": [
    "!uniq -u exercise1_out.txt exercise2_out.txt"
   ]
  },
  {
   "cell_type": "code",
   "execution_count": 10,
   "id": "46dd5b5c-f41a-47ef-ab5f-990961a7865c",
   "metadata": {},
   "outputs": [
    {
     "name": "stdout",
     "output_type": "stream",
     "text": [
      "2611 exercise2_out.txt\n"
     ]
    }
   ],
   "source": [
    "!wc -l exercise2_out.txt"
   ]
  },
  {
   "cell_type": "code",
   "execution_count": 11,
   "id": "b37b47d1-a2c4-479c-9465-078cdf1080d5",
   "metadata": {},
   "outputs": [
    {
     "name": "stdout",
     "output_type": "stream",
     "text": [
      "2611 exercise1_out.txt\n"
     ]
    }
   ],
   "source": [
    "!wc -l exercise1_out.txt"
   ]
  },
  {
   "cell_type": "code",
   "execution_count": 3,
   "id": "2b230e61-f604-4aa0-8f1a-3fc63afd422b",
   "metadata": {},
   "outputs": [],
   "source": [
    "!awk '{printf \"Gene Name: [%s], Gene ID: %s, CCDS ID: %s\\n\", $4, $5, $3}' CCDS.current.txt > extracted_ccds_data.txt"
   ]
  },
  {
   "cell_type": "code",
   "execution_count": 7,
   "id": "946c2557-726b-40cb-9de3-f7b28f1ab7a1",
   "metadata": {},
   "outputs": [],
   "source": [
    "!awk '$1 == \"14\" && $6 == \"Public\" {printf \"Gene Name: %s, Gene ID: %s, CCDS ID: %s\\n\", $4, $5, $3}' CCDS.current.txt > filtered_ccds_data.txt"
   ]
  },
  {
   "cell_type": "code",
   "execution_count": null,
   "id": "e7f0dd1e-878b-4612-af1a-80cd4e8776b9",
   "metadata": {},
   "outputs": [],
   "source": []
  }
 ],
 "metadata": {
  "kernelspec": {
   "display_name": "Python 3 (ipykernel)",
   "language": "python",
   "name": "python3"
  },
  "language_info": {
   "codemirror_mode": {
    "name": "ipython",
    "version": 3
   },
   "file_extension": ".py",
   "mimetype": "text/x-python",
   "name": "python",
   "nbconvert_exporter": "python",
   "pygments_lexer": "ipython3",
   "version": "3.10.12"
  }
 },
 "nbformat": 4,
 "nbformat_minor": 5
}
