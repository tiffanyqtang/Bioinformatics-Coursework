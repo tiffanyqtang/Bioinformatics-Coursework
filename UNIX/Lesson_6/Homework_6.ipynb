{
 "cells": [
  {
   "cell_type": "markdown",
   "id": "c7247687-4ee8-4071-9581-58c69dc3aa7d",
   "metadata": {},
   "source": [
    "### Assignment 6\n",
    "##### Tiffany Tang\n",
    "##### tt2405"
   ]
  },
  {
   "cell_type": "markdown",
   "id": "a07b1d45-d4ec-46b3-9cba-73dbe883caa5",
   "metadata": {},
   "source": [
    "\n",
    "Submit the code with the jupyter notebook and turn in all output files.  Points will only be awarded for correct code and output files.\n",
    "\n",
    "Note:To create multiline commands you have to escape the pipe on each line with the UNIX Escape Character (\"\\\").  \n",
    "\n",
    "Each is 1pt for a total of 5pts."
   ]
  },
  {
   "cell_type": "markdown",
   "id": "1ea7b24c-766e-4b32-b555-1c362ba0f5af",
   "metadata": {},
   "source": [
    "1. **Use esearch command to access the clinvar database and query with the search term \"KRAS mutations”; pipe the output to efetch command, use the  parameters -start 1, -stop  75  and -format docsum then pipe the output to the xtract command. Use the parameters -pattern DocumentSummary -sep”| element ID accession title chr trait_name gene_sort band clinical_significance. Output to a file KRAS_parsed.txt.**"
   ]
  },
  {
   "cell_type": "code",
   "execution_count": 1,
   "id": "0889bf67-c2fd-405a-a751-799f587a295a",
   "metadata": {},
   "outputs": [],
   "source": [
    "import os\n",
    "\n",
    "os.environ[\"PATH\"] += os.pathsep + os.path.expanduser(\"~/edirect\")\n"
   ]
  },
  {
   "cell_type": "markdown",
   "id": "4e0e7452-acfa-4934-8912-a3ce555dbb35",
   "metadata": {},
   "source": [
    "The above line of code is needed to allow for EntrezDirect to work through my Jupyter Notebook"
   ]
  },
  {
   "cell_type": "code",
   "execution_count": 2,
   "id": "7cc01777-5ff1-48e0-871a-c89bd540a0f4",
   "metadata": {},
   "outputs": [],
   "source": [
    "%%bash\n",
    "\n",
    "esearch -db clinvar -query \"KRAS mutations\"|\\\n",
    "efetch -format docsum -start 1 -stop 75 |\\\n",
    "xtract -pattern DocumentSummary -sep \"|\" -element ID accession title chr trait_name gene_sort band clinical_significance > KRAS_parsed.txt"
   ]
  },
  {
   "cell_type": "markdown",
   "id": "9fc6729c-15fb-49ae-b219-1ed0b56e380e",
   "metadata": {},
   "source": [
    "2. **Create a list of refs IDs. Use the esearch command to access the gene database and query with the search term “Pancreatic Cancer Biomarker”; pipe the output to elink command, use the  parameter -target protein then pipe the output to the esummary command and then the xtract command. Use the parameters -pattern DocumentSummary -sep”| element ID accession title chr trait_name gene_sort band clinical_significance. Output to a file refseqIDs.txt.**"
   ]
  },
  {
   "cell_type": "code",
   "execution_count": 10,
   "id": "80657da6-5c8a-4479-bf78-1d284dcd0984",
   "metadata": {
    "scrolled": true
   },
   "outputs": [],
   "source": [
    "%%bash\n",
    "\n",
    "esearch -db gene -query \"Pancreatic Cancer Biomarker\" | \\\n",
    "elink -target protein | \\\n",
    "esummary | \\\n",
    "xtract -pattern DocumentSummary -sep \"|\" -element Id accession title chr gene gene_sort band clinical_significance > refseqIDs.txt"
   ]
  },
  {
   "cell_type": "markdown",
   "id": "bc356172-0eb0-489c-abee-75d2ea16c666",
   "metadata": {},
   "source": [
    "3. **Use esearch to query gene database with term \"breast cancer AND HUMAN AND Epidermal Growth Factor Receptor” then pipe the output to the efetch command with the parameter -format docsum. The pipe the output to the extract command sith the following  parameters -pattern DocumentSummary -element Name OtherAliases OtherDesignations. Send the output to a file named Human_EGFR.TXT.**"
   ]
  },
  {
   "cell_type": "code",
   "execution_count": 4,
   "id": "8a2d5589-cd6f-4e09-b1f7-3ed971c9f17b",
   "metadata": {},
   "outputs": [],
   "source": [
    "%%bash\n",
    "\n",
    "esearch -db gene -query \"breast cancer AND HUMAN AND Epidermal Growth Factor Receptor\" | \\\n",
    "efetch -format docsum | \\\n",
    "xtract -pattern DocumentSummary -element Name OtherAliases OtherDesignations > Human_EGFR.TXT\n"
   ]
  },
  {
   "cell_type": "markdown",
   "id": "39c8619b-7eae-45a7-bdab-68234218efb2",
   "metadata": {},
   "source": [
    "4. **Use the esearch command to query to the protein db with the search term \"KRAS[Gene]\"  and then pipe the output to efetch parameter -format fasta then output to file named  kras_pancreas_sequences.fasta.**"
   ]
  },
  {
   "cell_type": "code",
   "execution_count": 1,
   "id": "0e829957-f7ad-42f0-97ee-8b624b4e9f8b",
   "metadata": {},
   "outputs": [],
   "source": [
    "%%bash\n",
    "\n",
    "esearch -db protein -query \"KRAS[Gene]\" |\\\n",
    "efetch -format fasta > kras_pancreas_sequences.fasta"
   ]
  },
  {
   "cell_type": "markdown",
   "id": "eb3a96b8-4415-4c6c-9c46-9a77d227304f",
   "metadata": {},
   "source": [
    "5. **Use the esearch command to query pubmed based on the search term \"pancreatic cancer biomarker[MeSH Terms] AND 2024[PDAT]”, then pipe the output to the efetch command withe parameter -format abstract, then output to a file called article_details.txt**"
   ]
  },
  {
   "cell_type": "code",
   "execution_count": 3,
   "id": "042eb74b-2cfd-416b-a68a-3615adcad639",
   "metadata": {},
   "outputs": [],
   "source": [
    "%%bash \n",
    "\n",
    "esearch -db pubmed -query \"pancreatic cancer biomarker[MeSH Terms] AND 2024[PDAT]\" |\\\n",
    "efetch -format abstract > article_details.txt\n"
   ]
  },
  {
   "cell_type": "code",
   "execution_count": null,
   "id": "a823a539-d77a-432e-9b43-ee7ea62db942",
   "metadata": {},
   "outputs": [],
   "source": []
  }
 ],
 "metadata": {
  "kernelspec": {
   "display_name": "Python 3 (ipykernel)",
   "language": "python",
   "name": "python3"
  },
  "language_info": {
   "codemirror_mode": {
    "name": "ipython",
    "version": 3
   },
   "file_extension": ".py",
   "mimetype": "text/x-python",
   "name": "python",
   "nbconvert_exporter": "python",
   "pygments_lexer": "ipython3",
   "version": "3.10.12"
  }
 },
 "nbformat": 4,
 "nbformat_minor": 5
}
