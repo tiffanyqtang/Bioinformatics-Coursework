{
 "cells": [
  {
   "cell_type": "code",
   "execution_count": null,
   "id": "4da25711-6fa0-498b-8cdd-52a27044c1f3",
   "metadata": {},
   "outputs": [],
   "source": []
  }
 ],
 "metadata": {
  "kernelspec": {
   "display_name": "",
   "name": ""
  },
  "language_info": {
   "name": ""
  }
 },
 "nbformat": 4,
 "nbformat_minor": 5
}
