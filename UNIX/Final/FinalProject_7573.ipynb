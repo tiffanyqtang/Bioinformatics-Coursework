{
 "cells": [
  {
   "cell_type": "markdown",
   "id": "6150b3a9-34dc-4a4e-b02a-dc7933a73140",
   "metadata": {},
   "source": [
    "# <center><font color=navy> 7573 UNIX For Bioinformatics Final Project </font></center>\n",
    "\n",
    "## <font color= green>Query One Entrez (5pts):</font>\n",
    "1. Perform an analysis with both ‘ALK’ and  ‘EGFR’ as the search term AND human[organism].\n",
    "2. Query gene.\n",
    "3. Link to protein as the target, then parse the output to a file that has a delimiter which separates the columns based on Id, Source, Title, NlmUniqueID.\n",
    "4. Obtain a summary with esummary.\n",
    "5. Parse the xml file.  The final output file with have the Caption and SourceDb data as the content on each line of the file.\n",
    "\n",
    "## <font color= green>Query Two Entrez (5pts):</font>\n",
    "1. Query the pubmed db with  ‘ALK’ and  ‘EGFR’  as the search term .\n",
    "2. Pipe the esearch query output to efetch and format it as `medline`.\n",
    "3. Next step is to get the output to a file.\n",
    "\n",
    "## <font color= green>Query Three Entrez (5pts):</font>\n",
    "1. Perform a query of the clinvar db with  ‘ALK’and  ‘EGFR’ as the search term.\n",
    "2. Use efetch to get the first 100 datapoints and format it in the docsum for file output.\n",
    "3. Extract the xml file based on the DocumentSummary pattern. Use the \"|\" as the column separator and parse the elements Id accession title chr trait_name gene_sort band clinical_significance to a final text file.\n",
    "\n",
    "## <font color= green>Question Four (5pts):</font>\n",
    "Find the mutation/s that determines whether  ‘ALK’ and  ‘EGFR’  will be toxic or non-toxic for non-small cell squamous lung cancer(NSCLC) patient drug treatment. Create a table that has the headers  Toxic and Non-toxic. The lines will have the gene and the mutation.  Example, \n",
    "<font color=purple>ALK - 92C>G (p.Pro31Arg)</font>. The dash is the tab separator.\n",
    "\n",
    "## <font color= green>Summary (10pts)</font>\n",
    "\n",
    "Write up, using jupyter notebook markup language, a comparison and contrast of the two resources. You should address the following:\n",
    "1. What are the strengths of Entrez EDirect?\n",
    "2. How is it useful in analyzing a personal treatment for a given cancer?\n",
    "3. What did you learn from the literature searches concerning the mutation for non-small cell squamous lung cancer(NSCLC)?\n",
    "4. Which NCBI databases provided the information concerning the mutation and it’s sequence info? Describe the databases and the data that they hold.\n",
    "5. How does the mutation inform the patients response to treatment?\n",
    "\n",
    "## <font color=red>Before submitting the jupyter notebook, do the following:</font>\n",
    "1. `Go to the 'Kernel' button and select 'Restart and Clear Output'.`\n",
    "2. `Add all output files and the jupyter notebook to a folder.`\n",
    "3. `Compress it then upload to Brightspace.`\n",
    "\n"
   ]
  },
  {
   "cell_type": "markdown",
   "id": "255bac8a-8d0f-4f67-beeb-86162939c0ca",
   "metadata": {},
   "source": [
    "#### My Solutions are below"
   ]
  },
  {
   "cell_type": "markdown",
   "id": "151ea93b-17fc-4506-9890-69e69f78f5e8",
   "metadata": {},
   "source": [
    "#### **Question 1**\n",
    "1. Perform an analysis with both ‘ALK’ and ‘EGFR’ as the search term AND human[organism].\n",
    "2. Query gene.\n",
    "3. Link to protein as the target, then parse the output to a file that has a delimiter which separates the columns based on Id, Source, Title, NlmUniqueID.\n",
    "4. Obtain a summary with esummary.\n",
    "5. Parse the xml file. The final output file with have the Caption and SourceDb data as the content on each line of the file."
   ]
  },
  {
   "cell_type": "markdown",
   "id": "1fe08403-3f9a-4782-89e2-d5fecaa823d4",
   "metadata": {},
   "source": [
    "***Note: I used the search `(ALK AND EGFR) AND human[organizm]` after the professor suggested it over an email***"
   ]
  },
  {
   "cell_type": "code",
   "execution_count": null,
   "id": "ee3f0895-d212-41fd-b717-e42a56532db2",
   "metadata": {},
   "outputs": [],
   "source": [
    "#answers question 3\n",
    "!esearch -db gene -query \"(ALK AND EGFR) AND human[organism]\" | \\\n",
    "elink -target protein | \\\n",
    "efetch -format docsum | \\\n",
    "xtract -pattern DocumentSummary -element Id Source Title NlmUniqueID > output_1_1.txt"
   ]
  },
  {
   "cell_type": "code",
   "execution_count": null,
   "id": "1c2584d2-1600-457c-82ee-9c05c5c4b862",
   "metadata": {},
   "outputs": [],
   "source": [
    "#answers question 5\n",
    "!esearch -db gene -query \"(ALK AND EGFR)AND human[organism]\"|\\\n",
    "elink -target protein|\\\n",
    "esummary|\\\n",
    "xtract -pattern DocumentSummary -element Caption SourceDb > output_1_2.txt"
   ]
  },
  {
   "cell_type": "markdown",
   "id": "c58b9ff0-f444-4d1d-adb4-dc0037e59a8b",
   "metadata": {},
   "source": [
    "#### **Question 2**\n",
    "1. Query the pubmed db with ‘ALK’ and ‘EGFR’ as the search term .\n",
    "2. Pipe the esearch query output to efetch and format it as medline.\n",
    "3. Next step is to get the output to a file."
   ]
  },
  {
   "cell_type": "markdown",
   "id": "99ec416f-f8e4-42be-a1a5-0e894a9bbe23",
   "metadata": {},
   "source": [
    "**I needed to limit my results to the first 500 as NCBI was giving me an ERROR for too many results to write out to a document**"
   ]
  },
  {
   "cell_type": "code",
   "execution_count": null,
   "id": "6bafdc54-c4ce-489d-870f-da373b68f138",
   "metadata": {},
   "outputs": [],
   "source": [
    "!esearch -db pubmed -query \"ALK AND EGFR\"  |\\\n",
    "efetch -start 0 -stop 500 -format medline > output_2.txt"
   ]
  },
  {
   "cell_type": "markdown",
   "id": "20cfdc16-aa73-4c77-9250-e91b395a847d",
   "metadata": {},
   "source": [
    "#### **Question 3**\n",
    "1. Perform a query of the clinvar db with ‘ALK’and ‘EGFR’ as the search term.\n",
    "2. Use efetch to get the first 100 datapoints and format it in the docsum for file output.\n",
    "3. Extract the xml file based on the DocumentSummary pattern. Use the \"|\" as the column separator and parse the elements Id accession title chr trait_name gene_sort band clinical_significance to a final text file."
   ]
  },
  {
   "cell_type": "code",
   "execution_count": null,
   "id": "baca0d95-fc86-42f0-80e1-9495e1d68a68",
   "metadata": {},
   "outputs": [],
   "source": [
    "!esearch -db clinvar -query \"ALK OR EGFR\"|\\\n",
    "efetch -format docsum -start 0 -stop 100|\\\n",
    "xtract -pattern DocumentSummary -sep \"|\" -element Id accession title chr trait_name gene_sort band clinical_significance > output_3.txt"
   ]
  },
  {
   "cell_type": "markdown",
   "id": "e7df3875-84e8-4114-9087-1ff3005fb01b",
   "metadata": {},
   "source": [
    "#### **Question 4**\n",
    "Find the mutation/s that determines whether ‘ALK’ and ‘EGFR’ will be toxic or non-toxic for non-small cell squamous lung cancer(NSCLC) patient drug treatment. Create a table that has the headers Toxic and Non-toxic. The lines will have the gene and the mutation. Example, ALK - 92C>G (p.Pro31Arg). The dash is the tab separator"
   ]
  },
  {
   "cell_type": "markdown",
   "id": "ea9b6e1a-db2b-457f-9aaf-689507f878d3",
   "metadata": {},
   "source": [
    "*Thought Process*\n",
    "1. I use esearch to extract the refseqID from the clinvar database. My query will be for ALK or EGFR and NSCLC.\n",
    "2. From this I want to make sure that I only use results that have lung carcinoma (per my office hours with the Professor). I can achieve this by using grep.\n",
    "3. Next I can use a python script to get only the unique refseq- not including the variation. Please refer to my python code comments for a breakdown of each line.\n",
    "4. I will use these unique ID's as my search in COSMIC. I look under the drug resistance histogram and populate my table manually (like we discussed in office hours)\n",
    "5. Drug Resistant Mutations go under toxic,\n",
    "6. I cannot manually write down all mutations (there an few hundred for each refseqID) so I have chosen a few to use as my example\n",
    "   **Note: There were mutations that had N/A for drug resistance, so I included this as an extra column in my excel sheet**"
   ]
  },
  {
   "cell_type": "code",
   "execution_count": null,
   "id": "f94adc09-f345-43c9-85b7-4fea008ec906",
   "metadata": {},
   "outputs": [],
   "source": [
    "!esearch -db clinvar -query \"(ALK OR EGFR) AND NSCLC\"|\\\n",
    "efetch -format docsum |\\\n",
    "xtract -pattern DocumentSummary -sep \"|\" -element title trait_name |\\\n",
    "grep -i 'lung carcinoma' > refseqID_output4.txt\n",
    "\n",
    "#get unique NM- & parse based on lung cancer\n",
    "#then put into cosmic- resistant mutation yes = toxic\n",
    "#write up and explain what I did\n",
    "#want to only use the first part NM_005228- https://cancer.sanger.ac.uk/cosmic/csamples/details?all_data=&coords=AA%3AAA&dr=&drug_pie=187320824&end=1211&gd=&id=251203&ln=EGFR&seqlen=1211&start=1#\n",
    "#go into drug resistance, look up resistant mutation"
   ]
  },
  {
   "cell_type": "code",
   "execution_count": null,
   "id": "5249fd96-22de-4212-aa41-1137246acd0d",
   "metadata": {},
   "outputs": [],
   "source": [
    "import re\n",
    "\n",
    "with open(\"refseqID_output4.txt\", 'r') as file: #open my file for reading\n",
    "    lines = file.readlines()\n",
    "\n",
    "uniqID = {} #initialize my dictionary of unique ID's\n",
    "refSeqPattern = re.compile(r\"(NM_\\d+)(?=\\.)\") #define the pattern for the ref seq, I want everything after the first NM_ and before the first .\n",
    "mutationPattern = re.compile(r\"(?<=:)[^\\s]+\") #define the pattern for the mutatino, I want everything between : and the first space it encounters\n",
    "\n",
    "for line in lines:\n",
    "    refseq_match = refSeqPattern.search(line)\n",
    "    mutation_match = mutationPattern.search(line)\n",
    "    # If a match is found, add it to the dictionary\n",
    "    \n",
    "    if match:\n",
    "        # Get the matches\n",
    "        nm_id = refseq_match.group(1)\n",
    "        mutation= mutation_match.group(0)\n",
    "        \n",
    "        # only add it to the dictionary if it is not present!\n",
    "        if nm_id not in uniqID:\n",
    "            uniqID[nm_id] = [mutation]  # Initialize as a list with the first mutation\n",
    "        else:\n",
    "            uniqID[nm_id].append(mutation)  # Append subsequent mutations to the list\n",
    "# Print the resulting dictionary \n",
    "display(uniqID)\n",
    "    \n"
   ]
  },
  {
   "cell_type": "markdown",
   "id": "1c734b10-f688-4023-ae30-ae16c637c0e1",
   "metadata": {},
   "source": [
    "The unique refseqID's are: NM_005228, NM_004304, NM_004985\n",
    "I will manually put this into the COSMIC database and look up some of the mutations independently. Based on what the drug resistance information is for each mutation, I will update my sheet accordingly.\n",
    "\n",
    "NM_004985 is KRAS so I will *NOT* be including this in my final sheet. "
   ]
  },
  {
   "cell_type": "markdown",
   "id": "e21591dd-309c-4532-aa8a-8ddcd7d28ceb",
   "metadata": {},
   "source": [
    "#### **Question 5**\n",
    "1. **What are the strengths of Entrez EDirect?**\n",
    "\n",
    "    Entrez EDirect connects the user with a suite of command line tools provided by the NCBI. This allows users to directly query, retrieve and process data from the NCBI databases. Entrez EDirect supports many databases- such a PubMed, Gene, ClinVar and SNP, which makes it a highly versatile tool in bioinformatics research. EDirect can also handle large amounts of data with its commands like esearch and efetch. By combinging this with other UNIX commands- such as grep and awk- the user is also able to manipulate the data and pipe commands and scripts for seamless data processing.\n",
    "   \n",
    "2. **How is it useful in analyzing a personal treatment for a given cancer?**\n",
    "\n",
    "    Following what I just mentioned above, we can use the tools of Entrez to search for relevant biomedicat data- such as gene mutations, drug efficacy, clinical outcomes from databases such as PubMed and ClinVar. For example, the user can search for specific gene variants and link it to treatment outcomes, or drug resistance, in a matter of minutes. The tool allows the user to search through large databases for specific information that can personalize a treatment plan.\n",
    "\n",
    "3. **What did you learn from the literature searches concerning the mutation for non-small cell squamous lung cancer(NSCLC)?**\n",
    "\n",
    "    In my literature searches containing mutations with NSCLC I was able to find that specific mutations in these genes can determine whether a patient will respond positively or experience toxic effects from certain treatments. Studies showed that certain mutations will respond to specific drug therapies, while others will not. This highlights the importance of a personalized treatment approach. Being able to identify specific gene mutations can help optimize a treatment plan for someone with NSCLC.\n",
    "\n",
    "4. **Which NCBI databases provided the information concerning the mutation and it’s sequence info? Describe the databases and the data that they hold.**\n",
    "    \n",
    "    ClinVar- A publicly accessible database that compiles information about genetic variations and their clinical significance.  ClinVar contains records of mutations, including pathogenicity, clinical significance, supporting evidence, and links to published research. It is often used for understanding the clinical relevance of genetic variants in diseases..\n",
    "\n",
    "   Gene- A comprehensive resource that consolidates information on gene-specific data, such as gene structure, function, and variations.It includes information on gene sequences, gene structure, related protein products, gene pathways, and mutations in the gene. Gene records link to multiple external databases, such as RefSeq and OMIM, for further sequence and mutation data\n",
    "\n",
    "   dbSNP- This database houses data on genetic variations, including single nucleotide polymorphisms (SNPs). It provides information on the location of SNPs, allele frequencies, genotype frequencies, and the phenotypic effects of the variants when available..\n",
    "\n",
    "6. **How does the mutation inform the patients response to treatment?**\n",
    "\n",
    "   \n",
    "    In answering the questions for the final, I saw that mutations in genes like ALK and EGFR directly influence a patient's response to treatment in NSCLC by altering the behavior of cancer cells. Specific mutations can make cancer cells more susceptible to targeted therapies, for example, such as tyrosine kinase inhibitors (TKIs), which are designed to block the abnormal signaling caused by these mutations (Learned this while reading through pubmed abstracts from an esearch query!). Some mutations can enhance a drug's efficacy and, some mutations may confer resistance to these therapies and can cause toxic side effects. Therefore, identifying these mutations helps tailor treatment to maximize therapeutic benefit while minimizing toxicity and resistance."
   ]
  },
  {
   "cell_type": "code",
   "execution_count": null,
   "id": "25b1d038-c703-4d53-a203-2c4aab8cb4b9",
   "metadata": {},
   "outputs": [],
   "source": []
  }
 ],
 "metadata": {
  "kernelspec": {
   "display_name": "Python 3 (ipykernel)",
   "language": "python",
   "name": "python3"
  },
  "language_info": {
   "codemirror_mode": {
    "name": "ipython",
    "version": 3
   },
   "file_extension": ".py",
   "mimetype": "text/x-python",
   "name": "python",
   "nbconvert_exporter": "python",
   "pygments_lexer": "ipython3",
   "version": "3.10.12"
  }
 },
 "nbformat": 4,
 "nbformat_minor": 5
}
