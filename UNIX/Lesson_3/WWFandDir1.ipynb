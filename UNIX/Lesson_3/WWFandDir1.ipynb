{
 "cells": [
  {
   "cell_type": "markdown",
   "id": "ee9edd33-90f0-474b-bdee-8a374b29e6a1",
   "metadata": {},
   "source": [
    "# <ins><center><font color=blue>Working With Files and Directories I</font></center></ins>"
   ]
  },
  {
   "cell_type": "markdown",
   "id": "ae2ae964-89f9-4cc0-83dd-7dac5ac99398",
   "metadata": {},
   "source": [
    "## <center><font color=purple><b>Lesson Objective</b></font></center> \n",
    "### <center><font color=purple>Manipulation of files and directories with the following commands:</font></center>\n",
    "<ul>\n",
    "     <li>move a file</li>\n",
    "    <li>remove a directory</li>\n",
    "    <li>more</li>\n",
    "    <li>Change file or directory permissions</li>\n",
    "    <li>output redirection</li> \n",
    "<li>cat</li>\n",
    "<li>wildcards</li>    \n",
    "</ul>"
   ]
  },
  {
   "cell_type": "markdown",
   "id": "53e1133c-a527-4812-9dc8-966aa2d7bf28",
   "metadata": {},
   "source": [
    "## <center><font color=green> The <b>move</b> command</font></font></center>\n",
    "Rename or Moving a file or directory -> <b>mv</b>\n",
    "<br><code> file_to_move mv files_new_location</code>"
   ]
  },
  {
   "cell_type": "code",
   "execution_count": 1,
   "id": "ef53bd9f-2a85-4b0f-a90e-3a899639fe57",
   "metadata": {},
   "outputs": [],
   "source": [
    "#example I am going to move AA, the fasta file, to Lesson3_filesDir"
   ]
  },
  {
   "cell_type": "markdown",
   "id": "8ec8f429-bd71-4c88-9d72-f3a1008a886c",
   "metadata": {},
   "source": [
    "**First we need to see where we are**"
   ]
  },
  {
   "cell_type": "code",
   "execution_count": 1,
   "id": "2077e47c-0578-4e07-8f98-27e0bc9d7185",
   "metadata": {},
   "outputs": [
    {
     "name": "stdout",
     "output_type": "stream",
     "text": [
      "/mnt/c/Users/tiffa/OneDrive/Desktop/UNIX_LINUX4Bioinf/Lesson3_FilesDir1\n"
     ]
    }
   ],
   "source": [
    "! pwd"
   ]
  },
  {
   "cell_type": "code",
   "execution_count": 4,
   "id": "9cb9f7a1-d915-4f8d-8c80-0684e9fa0989",
   "metadata": {},
   "outputs": [],
   "source": [
    "! mv /mnt/c/Users/tiffa/OneDrive/Desktop/UNIX_LINUX4Bioinf/Lesson3_FilesDir1/WWFD_input4exercises/AA.fasta /mnt/c/Users/tiffa/OneDrive/Desktop/UNIX_LINUX4Bioinf/Lesson3_FilesDir1/"
   ]
  },
  {
   "cell_type": "code",
   "execution_count": 5,
   "id": "c0732394-6b22-4772-a948-3e90fbff4e65",
   "metadata": {},
   "outputs": [
    {
     "name": "stdout",
     "output_type": "stream",
     "text": [
      "AA.fasta  WWFD_input4exercises\tWWFD_input4exercises.zip  WWFandDir1.ipynb  gi\n"
     ]
    }
   ],
   "source": [
    "! ls\n",
    "#We can see that the file has been moved!"
   ]
  },
  {
   "cell_type": "markdown",
   "id": "aaae46e7-d401-488b-8473-7d343caf39e8",
   "metadata": {},
   "source": [
    "## <center><font color=green> <b>Removing a Directory</b></font></font></center>\n",
    "\n",
    "Removing an empty directory. \n",
    "<br><code>rmdir directory_name</code><br>\n",
    "If the directory isn't empty then you use\n",
    "<br><code>rm -r directory_name</code>"
   ]
  },
  {
   "cell_type": "markdown",
   "id": "48c02ce7-ce37-46b9-aca2-29a42875db2f",
   "metadata": {},
   "source": [
    "## <center><font color=green> <b>Quickly Scroll Through Large Files with <b><i>more</i></b></font></font></center>\n",
    "You can scroll through large files a page at a time. You can exit the command by pressing <b><font color=navy>q</font></b> key.<br>\n",
    "<code> more filename.txt</code>"
   ]
  },
  {
   "cell_type": "code",
   "execution_count": null,
   "id": "54ad5a71-0666-4175-8deb-310c0ff03f97",
   "metadata": {},
   "outputs": [
    {
     "name": "stdout",
     "output_type": "stream",
     "text": [
      ">gi|62722539|gb|AAX94572.1| beta-tubulin [Metarhizium anisopliae]\n",
      "MREIVHLQTGQCGNQIGAAFWQTISGEHGLDSNGVYNGTSELQLERMSVYFNEASGNKYVPRAVLVDLEP\n",
      "GTMDAVRAGPFGQLFRPDNFVFGQSGAGNNWAKGHYTEGAELVDNVLDVVRREAEGCDCLQGFQITHSLG\n",
      "GGTGAGMGTLLISKIREEFPDRMMATFSVVPSPKVSDTVVEPYNATLSVHQLVENSDETFCIDNEALYDI\n",
      "CMRTLKLSNPSYGDLNYLVSAVMSGVTTCLRFPGQLNSDLRKLAVNMVPFPRLHFFMVGFAPLTSRGAHS\n",
      "FRAVSVPELTQQMFDPKNMMAASDFRNGRYLTCSAIFRGKVAMKEVEDQMRNVQNKNSSYFVEWIPNNIQ\n",
      "TALCAIPPRGLKMSSTFIGNSTSIQELFKRVGEQFTAMFRRKAFLHWYTGEGMDEMEFTEAESNMNDLVS\n",
      "EYQQYQDAGVDEEEEEYDEEAPVEEPLE\n",
      "\n",
      ">gi|1835118|emb|CAA71314.1| CRR1 protein [Metarhizium anisopliae]\n",
      "MQRSQSAVDFTNLLNPSAQADHNSRSRQADAAMASASVTVIKPNGPLPGAQASDTTNELPRPYKCPLCDK\n",
      "AFHRLEHQTRHIRTHTGEKPHACQFPGCSKKFSRSDELTRHSRIHNNPNSRRGNKGQHHHHQHHHHHHHQ\n",
      "GLPPHMHHEGMMAPPPAPKTIRSAPTSTLASPNVSPPHSFASFAQHPHPPPMHPYSRGGDISMLAKAATQ\n",
      "VERETLTAPPSHSARHYYGHSMHSSRGHPNGLSSYHMARSHSSEDHDDHYNGMRHAKRSRPNSPNSTAPS\n",
      "SPTFSHDSLSPTPDHTPIATPAHSPRLRPFSGYELPSIRNLSLHHNTTPALAPMEPHLDAPQFPPQLNAP\n",
      "RSNGMSLTDIISRPDGAQRKLPVPQVPKVAVQDLLSDSGYSNSGRSSTAGSLAGGDLMDRV\n",
      "\n",
      ">gi|6624950|emb|CAB63907.1| Subtilisin-like protease PR1H [Metarhizium anisoplia\n",
      "e]\n",
      "MHTLVAAVALSVVGVAQAGFSTETIHRESAPILTHVDAEVVPDSYIIKFKDHVNEAAVNDHHSWIQSIHK\n",
      "DGEEQRLELRKRSLGSSPVEAFAGLKHTYNIANGFKGYSGHFHESVIEKVRNHGDVEFIEKDTIARILRP\n",
      "VTPDESVQEDCTPETEKQAPWGLARVSHRKGLSFGTYNKYLYAADGGEGVDAYVIDTGTNTGHVDFEGRA\n",
      "KWGKTIPAGDADEDGNGHGTHCSGTIAGKKYGVAKKANVYAVKVLRSNGSGTMADVVKGVEFAATSHVEQ\n",
      "\u001b[7m--More--(28%)\u001b[m"
     ]
    }
   ],
   "source": [
    "#lets scroll through the AA file\n",
    "\n",
    "!more AA.fasta"
   ]
  },
  {
   "cell_type": "markdown",
   "id": "09ae3855-ea7f-4c5f-b18a-368dd0d8ede9",
   "metadata": {},
   "source": [
    "## <center><font color=green> Changing File or Directory Permissions with <b>chmod</b></font></font></center>\n",
    "The syntax is:<br>\n",
    "<code>chmod [permissions] [file/directory name]</code><br>\n",
    "Notation can be either symbolic or numeric.<br>\n",
    "### <font color=navy>Symbolic Permissions</font>\n",
    "<ul>\n",
    "<li>User is represented by 'u'</li>\n",
    "<li>Group is 'g'</li>\n",
    " <li>Others is 'o'</li> \n",
    "    <li>All is 'a'</li>\n",
    "    <li>Add permission with '+'</li>\n",
    "    <li>Remove permission with '-'</li>\n",
    "    <li>Set permission with '='</li>  \n",
    "</ul>\n",
    "<br>\n",
    "Example: If you want to execute permission for the user<br>\n",
    "\n",
    "<code>chmod u+x filename</code>\n",
    "\n",
    "### <font color=navy>Numeric Permissions</font>\n",
    "The numbers 0-7 (calculated using binary notation) represent different permissions: \n",
    "<ul>\n",
    "<li>4 stands for 'read'</li>\n",
    "<li>2 for 'write'</li>\n",
    " <li>1 for 'execute'</li>  \n",
    "</ul>\n",
    "The resultant is calculated by adding up the numbers of the permissions you want to set, and typically there are three digits representing user, group, and others respectively.\n",
    "<br>\n",
    "Example: To set read, write, execute permissions for user, read, write for group and read for others:\n",
    "<br>\n",
    "\n",
    "<code>chmod 764 filename</code>\n",
    "\n",
    "<font color=red>Note: Exercise caution when changing file permissions to avoid inadvertent security risks!</font>"
   ]
  },
  {
   "cell_type": "code",
   "execution_count": null,
   "id": "3210a167-3a1a-4b57-aba0-6944a9967451",
   "metadata": {},
   "outputs": [],
   "source": [
    "#EXAMPLE"
   ]
  },
  {
   "cell_type": "markdown",
   "id": "16d76204-0a02-4dea-906d-30cabbdf05fe",
   "metadata": {},
   "source": [
    "## <center><font color=green> Output Redirection</font></font></center>\n",
    "Output redirection is a powerful feature in Unix that allows you to control and manipulate command output effectively.  It is a way to redirect the output of a command to a file or another command.<br>\n",
    "\n",
    "Here are some example:<br>\n",
    "\n",
    "Redirecting standard output (stdout):\n",
    "Using <font color=navy><b>></b></font> symbol, you can redirect standard output to a file. <br>\n",
    "\n",
    "<code>ls -l > files.txt</code>\n",
    "\n",
    "Appending standard output to a file: Using <font color=navy><b>>></b></font> symbol, you can append standard output to a file.<br>\n",
    "\n",
    "<code>echo \"additional text\" >> files.txt</code>\n",
    "\n",
    "Redirecting standard error (stderr):\n",
    "Using <font color=navy><b>2></b></font> symbol, you can redirect standard error to a file.<br>\n",
    "\n",
    "<code>ls nothing 2> error_log.txt</code>\n"
   ]
  },
  {
   "cell_type": "code",
   "execution_count": null,
   "id": "a47b5bd0-eb64-4e65-856a-3ced497e8017",
   "metadata": {},
   "outputs": [],
   "source": [
    "#EXAMPLES"
   ]
  },
  {
   "cell_type": "markdown",
   "id": "3886d599-52b6-4346-9a6e-356d5cac1824",
   "metadata": {},
   "source": [
    "## <center><font color=green> cat command</font></font></center>\n",
    "The ```cat``` command is short for concatenate. It's a versative tool for simple text file manipulation. It's used for the following:\n",
    "<ol>\n",
    "    <li>Display the contents of files: It can read files and output their contents to the standard output (usually the terminal).\n",
    "</li>\n",
    "    <li>Concatenate files: It can combine multiple files and display their contents sequentially.\n",
    "</li>\n",
    "    <li>Create new files: By redirecting the output, you can create new files with the contents displayed by `cat`.</li>\n",
    "</ol>\n",
    "<br>\n",
    "```Basic syntax -> cat [OPTION]... [FILE]...```\n",
    "<br>\n",
    "<font color=orange>Options</font>\n",
    "<br>\n",
    "<ul>\n",
    "    <li>-n: Number all output lines.</li>\n",
    "    <li>-b: Number only nonempty output lines.</li>\n",
    "    <li>-s: Squeeze multiple adjacent blank lines into a single blank line.</li>\n",
    "    <li>-v: Display non-printing characters (except for tabs and the end of line).</li>\n",
    "</ul>\n",
    "<br>\n",
    "<font color=orange>Code Examples</font><br>\n",
    "\n",
    "\n",
    "#Display the contents of a file\n",
    "<code>cat filename.txt</code>  \n",
    "\n",
    "#Concatenate and display the contents of multiple files\n",
    "<code>cat file1.txt file2.txt</code>\n",
    "\n",
    "#Create a new file by redirecting output\n",
    "<code>cat file1.txt file2.txt > newfile.txt</code>\n",
    "\n",
    "#Append the contents of one file to another\n",
    "<code>cat file1.txt >> file2.txt</code>\n",
    "\n",
    "#Display the contents of a file with line numbers\n",
    "<code>cat -n filename.txt</code>\n",
    "\n",
    "#Exclude empty lines from being numbered\n",
    "<code>cat -b filename.txt</code>\n",
    "\n",
    "\n"
   ]
  },
  {
   "cell_type": "markdown",
   "id": "e5815acd-f7fb-4730-8faf-13d5db3d6074",
   "metadata": {},
   "source": [
    "## <center><font color=green> Wildcards </font></font></center>\n",
    "The wildcard symbols are characters that allow you to represent multiple characters or filenames in a command. Wildcards are a convenient way to work with multiple files without having to specify each filename explicitly. They are widely used in Unix commands to perform bulk operations on files matching a certain pattern. We'll demonstrate the two most common wildcard symbols.<br>\n",
    "\n",
    "\n",
    "1. The <font color=navy><b>*</b></font> (Asterisk): Stands for zero or more characters. When used in a command, the asterisk matches any sequence of characters in a filename. To list all of the files in your current directory with the <font color=navy><b>.txt</b></font> type: <br>\n",
    "\n",
    "<code> ls *.txt</code>\n",
    "\n",
    "2. The <font color=navy><b>?</b></font> (Question mark): Stands for a single character. When used in a command, the question mark matches any single character in a filename. To list all file names that share the same name followed by a single digit, the command is:<br>\n",
    "\n",
    "<code> ls file?.txt</code>\n"
   ]
  },
  {
   "cell_type": "code",
   "execution_count": null,
   "id": "773649ec-6e1d-4948-a9a1-aece691267d0",
   "metadata": {},
   "outputs": [],
   "source": [
    "#EXAMPLES"
   ]
  },
  {
   "cell_type": "code",
   "execution_count": null,
   "id": "65b57bbc-b40b-4a69-80da-76734c9ab015",
   "metadata": {},
   "outputs": [],
   "source": []
  }
 ],
 "metadata": {
  "kernelspec": {
   "display_name": "Python 3 (ipykernel)",
   "language": "python",
   "name": "python3"
  },
  "language_info": {
   "codemirror_mode": {
    "name": "ipython",
    "version": 3
   },
   "file_extension": ".py",
   "mimetype": "text/x-python",
   "name": "python",
   "nbconvert_exporter": "python",
   "pygments_lexer": "ipython3",
   "version": "3.10.12"
  }
 },
 "nbformat": 4,
 "nbformat_minor": 5
}
