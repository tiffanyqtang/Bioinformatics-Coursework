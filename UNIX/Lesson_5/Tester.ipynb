{
 "cells": [
  {
   "cell_type": "code",
   "execution_count": 2,
   "id": "7c774efb-e601-416c-a48d-220275decc77",
   "metadata": {},
   "outputs": [
    {
     "name": "stdout",
     "output_type": "stream",
     "text": [
      "CreatingShellScript.ipynb  ShellScript_I.ipynb\tTester.ipynb  example.txt\n"
     ]
    }
   ],
   "source": [
    "!ls"
   ]
  },
  {
   "cell_type": "code",
   "execution_count": 3,
   "id": "fc16d104-8611-49f1-8e78-2542395cf388",
   "metadata": {},
   "outputs": [],
   "source": [
    "!grep 'value' *.txt | sort -n -o value_sorted.txt"
   ]
  },
  {
   "cell_type": "code",
   "execution_count": 4,
   "id": "35fd2e7f-2c92-40a8-ba40-5a5a1255c344",
   "metadata": {},
   "outputs": [
    {
     "name": "stdout",
     "output_type": "stream",
     "text": [
      "CreatingShellScript.ipynb  Tester.ipynb  value_sorted.txt\n",
      "ShellScript_I.ipynb\t   example.txt\n"
     ]
    }
   ],
   "source": [
    "!ls"
   ]
  },
  {
   "cell_type": "code",
   "execution_count": null,
   "id": "e998d890-118a-4170-9a4f-33793be63f75",
   "metadata": {},
   "outputs": [],
   "source": []
  }
 ],
 "metadata": {
  "kernelspec": {
   "display_name": "Python 3 (ipykernel)",
   "language": "python",
   "name": "python3"
  },
  "language_info": {
   "codemirror_mode": {
    "name": "ipython",
    "version": 3
   },
   "file_extension": ".py",
   "mimetype": "text/x-python",
   "name": "python",
   "nbconvert_exporter": "python",
   "pygments_lexer": "ipython3",
   "version": "3.10.12"
  }
 },
 "nbformat": 4,
 "nbformat_minor": 5
}
