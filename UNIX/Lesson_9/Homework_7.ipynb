{
 "cells": [
  {
   "cell_type": "markdown",
   "id": "767ab492-e88c-4da8-b9eb-dd22e0710d0b",
   "metadata": {},
   "source": [
    "**Use the esearch command to query to the protein db with the search term \"KRAS[Gene]\"  and then pipe the output to efetch parameter -format fasta then output to file named  kras_pancreas_sequences.fasta. \n",
    "Next pipe the file  kras_pancreas_sequences.fasta to Muscle5 or Clustal to generate a multiple sequence alignment.**"
   ]
  },
  {
   "cell_type": "code",
   "execution_count": 6,
   "id": "e2a8ae50-4ad9-4ffb-a6ff-aa08e7f4f116",
   "metadata": {},
   "outputs": [],
   "source": [
    "import os\n",
    "\n",
    "os.environ[\"PATH\"] += os.pathsep + os.path.expanduser(\"~/edirect\")"
   ]
  },
  {
   "cell_type": "markdown",
   "id": "0e82df27-bec6-4bcd-9306-e61251b5319a",
   "metadata": {},
   "source": [
    "I need the above code to allow Entrez to run in my jupyter notebook"
   ]
  },
  {
   "cell_type": "code",
   "execution_count": 7,
   "id": "39e0d884-cf09-49e1-af2e-1760f6588caf",
   "metadata": {},
   "outputs": [],
   "source": [
    "%%bash \n",
    "\n",
    "esearch -db protein -query \"KRAS[Gene]\" | \\\n",
    "efetch -format fasta > kras_pancreas_sequences.fasta\n"
   ]
  },
  {
   "cell_type": "code",
   "execution_count": 9,
   "id": "5c8f2b63-fc86-4a99-8b91-ca13bfe46792",
   "metadata": {},
   "outputs": [
    {
     "name": "stderr",
     "output_type": "stream",
     "text": [
      "\n",
      "muscle 5.1.linux64 [12f0e2]  8.0Gb RAM, 12 cores\n",
      "Built Jan 13 2022 23:17:13\n",
      "(C) Copyright 2004-2021 Robert C. Edgar.\n",
      "https://drive5.com\n",
      "\n",
      "Input: 2052 seqs, length avg 191 max 859\n",
      "\n",
      "00:00 5.1Mb   100.0% Derep 497 uniques, 1554 dupes\n",
      "00:00 5.4Mb  CPU has 12 cores, running 12 threads                   \n",
      "00:08 32Mb    100.0% UCLUST 497 seqs EE<0.01, 94 centroids, 402 members\n",
      "00:09 383Mb   100.0% UCLUST 94 seqs EE<0.30, 10 centroids, 83 members  \n",
      "00:09 383Mb   100.0% Make cluster MFAs                               \n",
      "10 clusters pass 1                    \n",
      "10 clusters pass 2\n",
      "00:09 383Mb  \n",
      "00:09 383Mb  Align cluster 1 / 10 (19 seqs)\n",
      "00:09 383Mb  \n",
      "00:10 853Mb   100.0% Calc posteriors\n",
      "00:10 853Mb   100.0% Consistency (1/2)\n",
      "00:10 853Mb   100.0% Consistency (2/2)\n",
      "00:10 853Mb   100.0% UPGMA5           \n",
      "00:10 853Mb   100.0% Refining\n",
      "00:10 853Mb                  \n",
      "00:10 853Mb  Align cluster 2 / 10 (3 seqs)\n",
      "00:10 853Mb  \n",
      "00:10 853Mb   100.0% Calc posteriors\n",
      "00:10 853Mb   100.0% Consistency (1/2)\n",
      "00:10 853Mb   100.0% Consistency (2/2)\n",
      "00:10 853Mb   100.0% UPGMA5           \n",
      "00:10 853Mb   100.0% Refining\n",
      "00:10 853Mb  Align cluster 3 / 10 (1 seq)\n",
      "00:10 853Mb  \n",
      "00:10 853Mb  Align cluster 4 / 10 (2 seqs)\n",
      "00:10 853Mb  \n",
      "00:10 853Mb   100.0% Calc posteriors\n",
      "00:10 853Mb   100.0% UPGMA5         \n",
      "00:10 853Mb                \n",
      "00:10 853Mb  Align cluster 5 / 10 (63 seqs)\n",
      "00:10 853Mb  \n",
      "00:11 853Mb   100.0% Calc posteriors\n",
      "00:11 853Mb   100.0% Consistency (1/2)\n",
      "00:11 853Mb   100.0% Consistency (2/2)\n",
      "00:11 853Mb   100.0% UPGMA5           \n",
      "00:11 853Mb   100.0% Refining\n",
      "00:11 853Mb  Align cluster 6 / 10 (1 seq)\n",
      "00:11 853Mb  \n",
      "00:11 853Mb  Align cluster 7 / 10 (2 seqs)\n",
      "00:11 853Mb  \n",
      "00:11 853Mb   100.0% Calc posteriors\n",
      "00:11 853Mb   100.0% UPGMA5         \n",
      "00:11 853Mb  Align cluster 8 / 10 (1 seq)\n",
      "00:11 853Mb  Align cluster 9 / 10 (1 seq)\n",
      "00:11 853Mb  Align cluster 10 / 10 (1 seq)\n",
      "00:11 853Mb   100.0% Consensus sequences\n",
      "00:11 853Mb   100.0% 10 consensus seqs, mean EE 0.67\n",
      "00:11 853Mb   100.0% UPGMA5                         \n",
      "00:11 853Mb   100.0% Join 1 / 9 [1 x 1, 1 pairs]\n",
      "00:13 853Mb   100.0% Join 2 / 9 [19 x 63, 1197 pairs]\n",
      "00:13 853Mb   100.0% Join 3 / 9 [2 x 82, 164 pairs]  \n",
      "00:14 853Mb   100.0% Join 4 / 9 [3 x 84, 252 pairs]\n",
      "00:14 853Mb   100.0% Join 5 / 9 [1 x 87, 87 pairs] \n",
      "00:14 856Mb   100.0% Join 6 / 9 [2 x 88, 176 pairs]\n",
      "00:14 856Mb   100.0% Join 7 / 9 [2 x 90, 180 pairs]\n",
      "00:14 856Mb   100.0% Join 8 / 9 [1 x 92, 92 pairs] \n",
      "00:14 856Mb   100.0% Join 9 / 9 [1 x 93, 93 pairs]\n",
      "Inserting 1555 dupes... done.                     \n"
     ]
    }
   ],
   "source": [
    "%%bash\n",
    "\n",
    "muscle -super5 kras_pancreas_sequences.fasta -output kras_alignment.aln"
   ]
  },
  {
   "cell_type": "markdown",
   "id": "763d2a48-799c-4fe3-94df-40a3b5ede0a9",
   "metadata": {},
   "source": [
    "Since the file was so big I decided to use super5 command rather than align"
   ]
  },
  {
   "cell_type": "code",
   "execution_count": null,
   "id": "0a88e01f-418d-4e24-bc91-b60d57c00d7c",
   "metadata": {},
   "outputs": [],
   "source": []
  }
 ],
 "metadata": {
  "kernelspec": {
   "display_name": "Python 3 (ipykernel)",
   "language": "python",
   "name": "python3"
  },
  "language_info": {
   "codemirror_mode": {
    "name": "ipython",
    "version": 3
   },
   "file_extension": ".py",
   "mimetype": "text/x-python",
   "name": "python",
   "nbconvert_exporter": "python",
   "pygments_lexer": "ipython3",
   "version": "3.10.12"
  }
 },
 "nbformat": 4,
 "nbformat_minor": 5
}
