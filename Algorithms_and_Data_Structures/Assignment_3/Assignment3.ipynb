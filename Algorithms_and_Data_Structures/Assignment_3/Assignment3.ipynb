{
 "cells": [
  {
   "cell_type": "markdown",
   "metadata": {},
   "source": [
    "## Question 1"
   ]
  },
  {
   "cell_type": "markdown",
   "metadata": {},
   "source": [
    "You are given two strings String1 and String2. In a single shift, you can rotate one line (String1)\n",
    "by 1 element such that its 1st element becomes the last and the second one becomes the first\n",
    "like “abcd” will change to “bcda” after the one-shift operation. You have to find the minimum shift\n",
    "operation required to get the common prefix of maximum length from String1 and String2. Do\n",
    "consider edge cases.\n"
   ]
  },
  {
   "cell_type": "markdown",
   "metadata": {},
   "source": [
    "#### *My Thoughts*\n",
    "\n",
    "- Need to find the indices in string2 that matches the prefix in string1. \n",
    "- Where the start of the matched group is, is the minimum number of shifts.\n",
    "-use naive brute force algorithm\n",
    "\n",
    "For the example given:\n",
    "\n",
    "Example:\n",
    "Input:\n",
    "String1 = ’Bioinformatics’\n",
    "\n",
    "String2 = ’This is Bioinformatics’\n",
    "\n",
    "Output:\n",
    "Shift = 8\n",
    "\n",
    "Prefix = Bioinformatics\n"
   ]
  },
  {
   "cell_type": "markdown",
   "metadata": {},
   "source": [
    "#### *This is the Naive-Matcher pseudocode taken from the powerpoint:*\n",
    "\n",
    "NAIVE-STRING-MATCHER(T, P)\n",
    "\n",
    "n := length[T]\n",
    "\n",
    "m := length[P]\n",
    "\n",
    "for all s in [0..n - m] loop\n",
    "\n",
    "if P[1 . . m] = T[s + 1 . . s + m] then\n",
    "\n",
    "print \"Pattern occurs with shift\"\n",
    "\n",
    "s\n",
    "\n",
    "end{if}\n",
    "\n",
    "end{loop}\n",
    "\n",
    "end{NAIVE-STRING-MATCHER}"
   ]
  },
  {
   "cell_type": "markdown",
   "metadata": {},
   "source": [
    "My thoughts are:\n",
    "- take string 1 and keep it in place, then take string 2, and rotate it one index at a time, until it matches string 1."
   ]
  },
  {
   "cell_type": "code",
   "execution_count": 14,
   "metadata": {},
   "outputs": [
    {
     "name": "stdout",
     "output_type": "stream",
     "text": [
      "Shift is: 4 \n",
      "For prefix: abc\n"
     ]
    }
   ],
   "source": [
    "#from the pseudo code above\n",
    "def naive_matcher(T, P):\n",
    "    n = len(T)#n is the length of the text\n",
    "    m = len(P)#p is the length of the pattern\n",
    "    count= 0 #initialize our counter \n",
    "    #initialize an empty array to store the indices for matches\n",
    "\n",
    "    for s in range(m+1):\n",
    "        #loop through the length of the text, one digit at a time.\n",
    "        #check to see if the pattern matches the prefix\n",
    "        count = count +1 #increment the counter\n",
    "        char1 = T[0] #this is the first letter of the text\n",
    "        charRemain = T[1:]#this is the rest of the text string\n",
    "        T = charRemain + char1#the text is now shifted by one string\n",
    "        #now check to see if the pattern and the text prefix match\n",
    "        prefix = T[0:m]\n",
    "        if prefix == P:\n",
    "    #if the prefix and pattern match, then print out the shift and prefix\n",
    "            print(f'Shift is: {count} \\nFor prefix: {P}')\n",
    "            return\n",
    "        #and exit from the function\n",
    "    \n",
    "\n",
    "\n",
    "String1 = 'abc'\n",
    "String2 = 'czy ab'\n",
    "naive_matcher(String2, String1)\n"
   ]
  },
  {
   "cell_type": "markdown",
   "metadata": {},
   "source": [
    "## Question 2"
   ]
  },
  {
   "cell_type": "markdown",
   "metadata": {},
   "source": [
    "Align the following nucleotide sequences with the following general rules: Mismatch=0,\n",
    "Match=1, Gap=-1. Remember to pick the highest value calculated based on the two potential\n",
    "gaps (horizontal and vertical) and the match/mismatch (diagonal).\n",
    "Global alignment: The first and last bases of the two sequences should be aligned. This is like\n",
    "the example done in class. Negative numbers are allowed. The traceback always begins with\n",
    "the very bottom-right corner"
   ]
  },
  {
   "cell_type": "markdown",
   "metadata": {},
   "source": [
    "### *Reminders*:\n",
    "\n",
    "**First** - create a matrix for comparing sequences, with one sequence along each axis (size is + 1 for each). \n",
    "Then fill in the first row and first column with progressing gap scores.\n",
    "\n",
    "**Left** - take value from left + gap \n",
    "\n",
    "**Top** - take value from top + gap\n",
    "\n",
    "**Diagonal** - take top left + mis/match valule\n",
    "\n",
    "Then take the highest value and put it into the cell."
   ]
  },
  {
   "cell_type": "markdown",
   "metadata": {},
   "source": [
    "Below is my filled in table according to the rules above."
   ]
  },
  {
   "cell_type": "code",
   "execution_count": null,
   "metadata": {},
   "outputs": [],
   "source": [
    "#matrix according to the Needleman- Wunsch algorithm \n",
    "\n",
    "-   -   A   G   C   T   C   A   G\n",
    "-   0  -1  -2  -3  -4  -5  -6  -7\n",
    "G  -1   0   0  -1  -2  -3  -4  -5\n",
    "C  -2  -1   0   1   0  -1  -2  -3\n",
    "A  -3  -1  -1   0   1   0   0  -1\n",
    "G  -4  -2   0  -1   0   1   0   1\n",
    "G  -5  -3  -1   0  -1   0   1   1\n"
   ]
  },
  {
   "cell_type": "markdown",
   "metadata": {},
   "source": [
    "*Global Alignment Trackback Rules*\n",
    "\n",
    "**Left** - gap in the first sequence\n",
    "\n",
    "**Top** - gap in the second sequence\n",
    "\n",
    "**Diagonal**- match or mismatch"
   ]
  },
  {
   "cell_type": "code",
   "execution_count": null,
   "metadata": {},
   "outputs": [],
   "source": [
    "#There are more than one traceback path for the optimal alignment. \n",
    "#I have only included the one I chose to use underneath. \n",
    "#Path is shown with bracketed numbers\n",
    "\n",
    "-   -   A   G   C   T   C   A   G\n",
    "-  [0][-1] -2  -3  -4  -5  -6  -7\n",
    "G  -1   0  [0] -1  -2  -3  -4  -5\n",
    "C  -2  -1   0  [1] [0] -1  -2  -3\n",
    "A  -3  -1  -1   0   1  [0]  0  -1\n",
    "G  -4  -2   0  -1   0   1  [0]  1\n",
    "G  -5  -3  -1   0  -1   0   1  [1]\n",
    "\n",
    "#If we follow the rules above for this path, the alignment is:\n",
    "A G C T C A G\n",
    "- G C - A G G"
   ]
  },
  {
   "cell_type": "markdown",
   "metadata": {},
   "source": [
    "## Question 3"
   ]
  },
  {
   "cell_type": "markdown",
   "metadata": {},
   "source": [
    "Write a script that implements the Rabin-Karp algorithm for string matching a Pattern to Text\n",
    "with a DNA\n",
    "\n",
    "alphabet of A, G, C, T.\n",
    "\n",
    "** Note in class we discussed how we can treat NT sequences as numbers. In slide 18 of\n",
    "lecture 7 it is mentioned that d is the total number of unique characters in the alphabet, in this\n",
    "case d is 4. This means ACGT can be 0,1,2,3. But what value of q can you use? Try a couple of\n",
    "them to see.\n",
    "\n",
    "Text = \"AGCATGCAGCAT\" Pattern = \"GCAG\"\n",
    "\n",
    "matches = rabin_karp(Text, Pattern, d, q)\n",
    "\n",
    "print(matches)\n",
    "\n",
    "This should output [2, 8], which are the starting indices of the matches in the Text."
   ]
  },
  {
   "cell_type": "markdown",
   "metadata": {},
   "source": [
    "*Below is the Rabin_Karp algorithm from the lecture notes*"
   ]
  },
  {
   "cell_type": "code",
   "execution_count": null,
   "metadata": {},
   "outputs": [],
   "source": [
    "#This is the pseudo- code:\n",
    "RABIN-KARP-MATCHER(T, P, d, q)\n",
    "n := length[T]; m := length[P] ;\n",
    "h := d^(m-1) mod q; p := 0; t\n",
    "0\n",
    ":= 0\n",
    "forall i in [1 ..m] loop\n",
    " p := (dp + P[i]) mod q; t\n",
    "0\n",
    ":= (dt\n",
    "0\n",
    " + T[i]) mod q\n",
    "end{loop}\n",
    "forall s in [0 .. n - m] loop\n",
    " if p = t\n",
    "s\n",
    " cand P[1 . . m] == T[s + 1 . . s + m] then\n",
    " \"Pattern occurs with shift\" s\n",
    " end{if}\n",
    " if s < n - m then\n",
    " t\n",
    "s+1\n",
    " := (d(t\n",
    "s\n",
    " - T[s + 1]h) + T[s + m + 1]) mod q\n",
    " end{if}\n",
    "end{loop}\n",
    "end{RABIN-KARP-MATCHER}"
   ]
  },
  {
   "cell_type": "code",
   "execution_count": 16,
   "metadata": {},
   "outputs": [],
   "source": [
    "#My python algorithm from the above pseudocode. \n",
    "def rabin_karp(T, P, d, q):\n",
    "    #P is the pattern\n",
    "    #T is the text\n",
    "    #d is the number of characters in the input alphabet\n",
    "    #q is a prime number\n",
    "    n = len(T) #n is the length of the text\n",
    "    m = len(P) #m is the length of the pattern\n",
    "    h = pow(d, m-1, q) \n",
    "    #h is (d ^(m-1) mod q), written using the pow function\n",
    "    p = 0 #initialize the hash value for the pattern P\n",
    "    t = 0  #initilize the hash value for the text T\n",
    "\n",
    "    indices = [] \n",
    "    #initializes a list to store starting indices of matches\n",
    "    \n",
    "     \n",
    "    for i in range(m):\n",
    "        p = (d * p + ord(P[i])) % q \n",
    "        #Compute the initial hash values for the pattern P\n",
    "        t = (d * t + ord(T[i])) % q\n",
    "        #Compute the initial has values for the text T\n",
    "        \n",
    "    for s in range(n - m + 1):\n",
    "    #This iterates over each possible shift of the pattern within the text\n",
    "        if p == t and P == T[s:s+m]:\n",
    "    #if the hash values match and the substrings match,\n",
    "            indices.append(s) #add this index to our indices array\n",
    "    #print(\"Pattern occurs with shift\", s) \n",
    "    #print the shift, currently don't need to print so it is commented out\n",
    "        \n",
    "        if s < n - m:\n",
    "            t = (d * (t - ord(T[s]) * h) + ord(T[s + m])) % q\n",
    "        #update the hashvalue for the next substring of t\n",
    "    \n",
    "    return indices"
   ]
  },
  {
   "cell_type": "markdown",
   "metadata": {},
   "source": [
    "In the question it suggested that the pattern 'GCAG' occurs at indices 2 and 8, however GCAG only occurs once at index 9, which my algorithm correct prints. \n",
    "\n",
    "Pattern 'GCAT' occurs at index 1 and 8, which is also outputted correctly by my algorithm. "
   ]
  },
  {
   "cell_type": "code",
   "execution_count": 17,
   "metadata": {},
   "outputs": [
    {
     "name": "stdout",
     "output_type": "stream",
     "text": [
      "Pattern GCAT is found in the text \n",
      "using q = 5 Matches found at indices: [1, 8] \n",
      "\n",
      "Pattern GCAT is found in the text \n",
      "using q = 17 Matches found at indices: [1, 8] \n",
      "\n",
      "Pattern GCAT is found in the text \n",
      "using q = 101 Matches found at indices: [1, 8] \n",
      "\n",
      "Pattern GCAG is found in the text \n",
      "using q = 101 Matches found at indices: [5] \n",
      "\n"
     ]
    }
   ],
   "source": [
    "#Example from the question\n",
    "#output needs to be 1 based\n",
    "Text = 'AGCATGCAGCAT'\n",
    "Pattern = 'GCAT'\n",
    "d = 4\n",
    "q = 13\n",
    "q_values = [5, 17, 101]  \n",
    "for q in q_values:\n",
    "    matches = rabin_karp(Text, Pattern, d, q)\n",
    "    print(f'Pattern {Pattern} is found in the text ')\n",
    "    print(\"using q =\", q, \"Matches found at indices:\", matches, '\\n')\n",
    "\n",
    "Pattern = 'GCAG'\n",
    "matches = rabin_karp(Text, Pattern, d, q)\n",
    "print(f'Pattern {Pattern} is found in the text ')\n",
    "print(\"using q =\", q, \"Matches found at indices:\", matches, '\\n')"
   ]
  }
 ],
 "metadata": {
  "kernelspec": {
   "display_name": "base",
   "language": "python",
   "name": "python3"
  },
  "language_info": {
   "codemirror_mode": {
    "name": "ipython",
    "version": 3
   },
   "file_extension": ".py",
   "mimetype": "text/x-python",
   "name": "python",
   "nbconvert_exporter": "python",
   "pygments_lexer": "ipython3",
   "version": "3.11.5"
  }
 },
 "nbformat": 4,
 "nbformat_minor": 2
}
