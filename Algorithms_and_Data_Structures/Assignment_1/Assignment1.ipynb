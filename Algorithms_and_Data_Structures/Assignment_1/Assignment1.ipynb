{
 "cells": [
  {
   "cell_type": "markdown",
   "metadata": {},
   "source": [
    "## Assignment 1\n",
    "Tiffany Tang\n",
    "\n",
    "**NetID**: tt2405"
   ]
  },
  {
   "cell_type": "markdown",
   "metadata": {},
   "source": [
    "### Criteria for evaluation:\n",
    "* Commenting of code\n",
    "* The code file you have submitted needs to be executable for test cases\n",
    "* A clear and comprehensive explanation of your problem solving approach"
   ]
  },
  {
   "cell_type": "markdown",
   "metadata": {},
   "source": [
    "### **Question 1**\n",
    "Find the time complexity of the following pseudo-code:"
   ]
  },
  {
   "cell_type": "markdown",
   "metadata": {},
   "source": [
    "##### **1.1** Below is the pseudo-code written out in the language of python. "
   ]
  },
  {
   "cell_type": "code",
   "execution_count": 5,
   "metadata": {},
   "outputs": [
    {
     "ename": "ModuleNotFoundError",
     "evalue": "No module named 'numpy'",
     "output_type": "error",
     "traceback": [
      "\u001b[1;31m---------------------------------------------------------------------------\u001b[0m",
      "\u001b[1;31mModuleNotFoundError\u001b[0m                       Traceback (most recent call last)",
      "Cell \u001b[1;32mIn[5], line 1\u001b[0m\n\u001b[1;32m----> 1\u001b[0m \u001b[38;5;28;01mimport\u001b[39;00m \u001b[38;5;21;01mnumpy\u001b[39;00m\n\u001b[0;32m      2\u001b[0m \u001b[38;5;66;03m# Two integer type variables are assigned the values 0\u001b[39;00m\n\u001b[0;32m      3\u001b[0m a \u001b[38;5;241m=\u001b[39m \u001b[38;5;241m0\u001b[39m\n",
      "\u001b[1;31mModuleNotFoundError\u001b[0m: No module named 'numpy'"
     ]
    }
   ],
   "source": [
    "import numpy as np\n",
    "# Two integer type variables are assigned the values 0\n",
    "# set N to a desired number\n",
    "a = 0\n",
    "b = 0\n",
    "\n",
    "# For loop, where the iterator starts at 0 and increments by 1 while the iterator, \\\n",
    "#i, is less than N\n",
    "for i in range(N): # N needs to be defined\n",
    "    a = a + np.random.rand() # Update a as the value of itself plus a random number\n",
    "\n",
    "for j in range(M): # same for loop as above but while the iterator j is less than M\n",
    "    b = b + np.random.rand() # update b as the value of itself plus a random number"
   ]
  },
  {
   "cell_type": "markdown",
   "metadata": {},
   "source": [
    "The time complexity for the first for loop is N - since it will run N times before completing. THe iterator i starts at 0, and will increment up to but not including N- thus looping N times\n",
    "\n",
    "\n",
    "The time complexity for the second for loop is M - since it will run M times before completing. Same logic as the above for loop\n",
    "\n",
    "\n",
    "The time complexity to run this code snippet will be **O(N + M)** "
   ]
  },
  {
   "cell_type": "markdown",
   "metadata": {},
   "source": [
    "#### **1.2** Below is the pseudo-code written out in the language python"
   ]
  },
  {
   "cell_type": "code",
   "execution_count": 26,
   "metadata": {},
   "outputs": [
    {
     "name": "stdout",
     "output_type": "stream",
     "text": [
      "650\n"
     ]
    }
   ],
   "source": [
    "# Integer type variables are all assigned the value 0\n",
    "# set n to a desired number\n",
    "n = 100\n",
    "l = n/2 # l starts at n/2\n",
    "t = 2 #t starts off as 2 in the inner for loop\n",
    "k = 0\n",
    "\n",
    "for l in range(n//2, n +1, 1): # outter for loop, where we start at n/2, and \n",
    "    #increment by 1 until we reach and include n (thats why we need to add the +1)\n",
    "    for t in range(2, n +1, t*2):# inner for loop, start at 2, and then we double \n",
    "        #until we reach and include n (thats why we need to add the +1)\n",
    "        k = k + n/2 # update value of k \n",
    "\n",
    "    "
   ]
  },
  {
   "cell_type": "markdown",
   "metadata": {},
   "source": [
    "To find the big O of nested loops, we would multiply the big O of the inner loop, with the big O of the outter loop.\n",
    "\n",
    "Inner loop- starts at 2 and then doubles in value (increasing the value exponentially) until t is greater than n. \n",
    "- the run time for this is log n, \n",
    "\n",
    "Outter loop- starts at n/2, then increases by 1 until n\n",
    "- this is a linear run time of n\n",
    "\n",
    "multiplying the two together we get that the run time is **O(n log n)**"
   ]
  },
  {
   "cell_type": "markdown",
   "metadata": {},
   "source": [
    "#### **1.3** below is my interpretation of the pseudocode in python"
   ]
  },
  {
   "cell_type": "code",
   "execution_count": null,
   "metadata": {},
   "outputs": [],
   "source": [
    "# assign the variables their values\n",
    "# set n as your desired number\n",
    "a = 0\n",
    "i = n\n",
    "\n",
    "while i > 0: #while loop, while i is greater than 0 the loop will continue\n",
    "    a = a + i\n",
    "    i = i /2 # half the value of i each iteration\n",
    "\n"
   ]
  },
  {
   "cell_type": "markdown",
   "metadata": {},
   "source": [
    "The run time will be dependent on the while loop and the variable *i* which has the value *N*.\n",
    "\n",
    "*i* halves in value each iteration- so this is a logarithmic run time. **O(log n)**"
   ]
  },
  {
   "cell_type": "markdown",
   "metadata": {},
   "source": [
    "\n",
    "### **Question 2**\n",
    "\n",
    "Given an array of numbers, find the GCD of the array elements (Hint: Use the Euclidean\n",
    "algorithm discussed in the lecture)\n",
    "\n",
    "*Note*: The GCD of three or more numbers equals the product of the prime factors common to all the numbers. "
   ]
  },
  {
   "cell_type": "markdown",
   "metadata": {},
   "source": [
    "***My problem solving approach:***\n",
    "\n",
    "The GCD can be found by repeatedly taking the GCD of pairs of numbers.\n",
    "\n",
    "GCD(a, b, c) == GCD(a, GCD(b, c)), length of this is 3, need to find the GCD 2 times\n",
    "\n",
    "GCD(a, b, c, d) == GCD(a, GCD(b, GCD(c, d))), length of this is 4, need to find the GCD 3 times.\n",
    "\n",
    "1. Determine how many numbers in the list are there using *len*. Use this number to determine how many times you need to find the GCD.\n",
    "2. Find the GCD the first pair(a, b) (using the Euclidean Algorithm) and assign this value to a variable (gcdPair)\n",
    "3. Then find the GCD of the next value with gcdPair (using the Euclidean algorithm)\n",
    "4. Repeat 2 and 3 (len - 1) times. This final value should be the GCD of the list\n"
   ]
  },
  {
   "cell_type": "code",
   "execution_count": null,
   "metadata": {},
   "outputs": [],
   "source": [
    "#include <iostream>\n",
    "using namespace std;\n",
    "\n",
    "/*Euclidean Algorithm written out in C++ \n",
    "I am more comfortable programming in C++ so I will write the algorithm out in C++ \n",
    "#first before translating it to python\n",
    "*/\n",
    "int main(){\n",
    "int x, y;\n",
    "\n",
    "if(x > y){ //if x is less than y, flip the two variables\n",
    "   int temp = x; //need the temp so we don't lose the x variable;\n",
    "    x = y; //set x equal to y\n",
    "    y = temp // set y equal to the original value of x\n",
    "}\n",
    "while((y % x)!= 0){ //while x cannot divide y, repeat this loop... \n",
    "// this means when x/y there is a remainder\n",
    "    int tempX = x; //tempX will hold the value of x\n",
    "    x = (y % x); //set x to the remainder of x and y\n",
    "    y = tempX; // set y to the value of x\n",
    "}\n",
    "return y; //when the loop is complete it should retun y\n",
    "    \n",
    "    return 0;\n",
    "}"
   ]
  },
  {
   "cell_type": "code",
   "execution_count": 2,
   "metadata": {},
   "outputs": [
    {
     "data": {
      "text/plain": [
       "11"
      ]
     },
     "execution_count": 2,
     "metadata": {},
     "output_type": "execute_result"
    }
   ],
   "source": [
    "#Euclidean algorithm in python. \n",
    "#I am writing this tid-bit here to make sure my code for the Euclidean algorithm \n",
    "#functions properly before putting it in my final solution\n",
    "\n",
    "def euclideanAlgorithm(x, y):\n",
    "    if(x > y): #need to make sure that x is less than y, if not then flip\n",
    "        temp = x #setting temp variable for x to hold onto the value\n",
    "        x = y #value of x is value of y\n",
    "        y = temp #value of y is original value of x\n",
    "    while((y % x) != 0): #while x cannot evenly divide y (so there is a remainder)\n",
    "        tempX = x #holder value for x\n",
    "        x = y % x #set x to the value of the remainder of x/y\n",
    "        y = tempX #set y to the original value of x\n",
    "\n",
    "    return(x) #return the x value\n",
    "\n",
    "#euclideanAlgorithm(18, 12)\n",
    "#euclideanAlgorithm(17, 74)\n",
    "#euclideanAlgorithm(22,121)\n"
   ]
  },
  {
   "cell_type": "markdown",
   "metadata": {},
   "source": [
    "seems like the my euclidean algorithm code works properly on the test cases I put through it"
   ]
  },
  {
   "cell_type": "code",
   "execution_count": 4,
   "metadata": {},
   "outputs": [
    {
     "name": "stdout",
     "output_type": "stream",
     "text": [
      "3\n"
     ]
    }
   ],
   "source": [
    "def gcdFinder(list): #this function assumes that there will be a minimum of 2 \n",
    "    #elements in the list\n",
    "\n",
    "    length = len(list) #This is correlation to my step 1. Find the length of the list\n",
    "    i = 0 #set my iterator to 0\n",
    "    gcdPair = euclideanAlgorithm(list[i], list[i + 1]) #set the variable gcdPair \n",
    "    #to the value of the gcd of the first 2 values in the list\n",
    "\n",
    "    if length > 2: #if there are more than two variables in the list\n",
    "        i = 2 #move the iterator to the third value in the list\n",
    "\n",
    "        while(i < length): #while we are not at the end of the list \n",
    "            gcdPairTemp = gcdPair #variable to hold the value of the gcd of the pair\n",
    "            gcdPair = euclideanAlgorithm(gcdPairTemp, list[i]) #set the value of \n",
    "            #gcdPair to the gcd of the previous pair and the next value in the list\n",
    "            i = i + 1 #increment the iterator\n",
    "\n",
    "    return(gcdPair) #return the gcdPair value back out. This should be the \n",
    "#greatest common divsor out of the list\n",
    "    \n",
    "\n",
    "#test = [128, 28, 36, 48]\n",
    "#test = [24, 36]\n",
    "#test = [42, 15, 36, 9, 213]\n",
    "#print(gcdFinder(test))"
   ]
  },
  {
   "cell_type": "markdown",
   "metadata": {},
   "source": [
    "Looks like the above function works as well"
   ]
  },
  {
   "cell_type": "markdown",
   "metadata": {},
   "source": [
    "### **Question 3**\n",
    "\n",
    "In the context of genetic sequencing, you are given the alignment of two DNA sequences,\n",
    "where one is the reference sequence (REF) and the other is a mutated sequence (MUT). Your\n",
    "task is to design a simple algorithm to detect and report the mutations present in the MUT\n",
    "sequence compared to the REF sequence.\n"
   ]
  },
  {
   "cell_type": "markdown",
   "metadata": {},
   "source": [
    "*My approach:*\n",
    "\n",
    "We need to iterate through both the lists and check if the value at each index is the same. If the value is not the same the indicie and the value should be marked (I will add the index where the values into it's own list).\n",
    "- I am assuming that both sequences will be of the same length \n",
    "\n",
    "1. Check to see if the length of the sequence - since both will be the same length you only need to check one of them \n",
    "2. We will need method of organizing where the mutations occur...Probably would be best to store the positions where they are different, and they use this value to refer back to their original sequences.\n",
    "4. Starting at the head of the list (i=0), compare the value at each index\n",
    "5. If the values are different, store this index value in another list (subsitutionList)\n",
    "\n",
    "The time complexity of this should be **O(n)**, where n is the length of the list. Worst case scenario: every position is subsituted, this would result in needing to go through the list twice- 2n run time. The constant is dropped and the run time is O(n)"
   ]
  },
  {
   "cell_type": "code",
   "execution_count": 6,
   "metadata": {},
   "outputs": [
    {
     "name": "stdout",
     "output_type": "stream",
     "text": [
      "Subsitution at position 3 : T is now  A\n",
      "Subsitution at position 5 : G is now  C\n"
     ]
    }
   ],
   "source": [
    "def mutationPositions(seq1, seq2):\n",
    "    length = len(seq1) #assming that the length of both sequences are the same\n",
    "\n",
    "    subsitutionList = [] #create a list to hold indices where subsitutions occurred\n",
    "    j = 0 #this is your iterator to move through the subsitution list\n",
    "    for i in range(length): #ranged for loop, where we start at 0 then go to then \n",
    "        #end of the sequence\n",
    "        if seq1[i] != seq2[i]: #if the values at the index are not the same, then \n",
    "            #put this index into subsitutionList\n",
    "            subsitutionList.append(i)\n",
    "            j = j + 1 #increment your iterator\n",
    "    \n",
    "    for index in range(len(subsitutionList)): #index will be the index of each character, \n",
    "        #use index to iterate through the sequence\n",
    "        print(\"Subsitution at position\", (subsitutionList[index]+1), \":\", \n",
    "              seq1[subsitutionList[index]], \"is now \", seq2[subsitutionList[index]] )\n",
    "    \n",
    "    \n",
    "\n",
    "#ref = 'CTCGATCGAT'\n",
    "#mut = 'ATCAATCGTC'\n",
    "        \n",
    "#ref = 'CTTAG'\n",
    "#mut = 'CTAAC'\n",
    "\n",
    "mutationPositions(ref, mut)"
   ]
  },
  {
   "cell_type": "markdown",
   "metadata": {},
   "source": [
    "Code looks like it works for the test cases I ran through it"
   ]
  },
  {
   "cell_type": "markdown",
   "metadata": {},
   "source": [
    "The run time for my algorithm is dependent on the two *for* loops I have. \n",
    "\n",
    "The first *for* loop is dependent on the length of the sequence- we will assign the length as variable *n*. \n",
    "- run time O(n) for the first loop\n",
    "\n",
    "The second *for* loop is dependent on the length of the subsitution list. \n",
    "- worst case scenario: every position is subsitutied, and the length of the subsitution list is the length of the sequence-- *n*\n",
    "\n",
    "Adding the run times together you get a total run time of O(2n). The constant can be dropped and the run time for this algorithm is **O(n)**"
   ]
  }
 ],
 "metadata": {
  "kernelspec": {
   "display_name": "Python 3",
   "language": "python",
   "name": "python3"
  },
  "language_info": {
   "codemirror_mode": {
    "name": "ipython",
    "version": 3
   },
   "file_extension": ".py",
   "mimetype": "text/x-python",
   "name": "python",
   "nbconvert_exporter": "python",
   "pygments_lexer": "ipython3",
   "version": "3.11.4"
  }
 },
 "nbformat": 4,
 "nbformat_minor": 2
}
