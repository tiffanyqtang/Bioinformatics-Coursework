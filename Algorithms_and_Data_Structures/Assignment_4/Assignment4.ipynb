{
 "cells": [
  {
   "cell_type": "markdown",
   "metadata": {},
   "source": [
    "## Assignment 4"
   ]
  },
  {
   "cell_type": "markdown",
   "metadata": {},
   "source": [
    "For this assignment, you will parse the results of an alignment ( called a SAM file ) and compare it to\n",
    "a file that contains gene annotations (GTF) . The goal is to count the number of sequences in the\n",
    "SAM file that match each of the genes in the GTF file"
   ]
  },
  {
   "cell_type": "markdown",
   "metadata": {},
   "source": [
    "#### **My Thoughts**\n",
    "1. read in the SAM file\n",
    "2. split alignments in the SAM file based on chromosomes. Do this by creating a dict where *key*: chromosome, *value*: list of start coordinates\n",
    "\n",
    "**some lines do not have a value for chromosomes which means that sequence did not align to the genome, so we can ignore them** \n",
    "\n",
    "3. go through each exon in the GTF file and count the number of reads that are within the start and end coordinates. \n",
    "- since we know which chromosome the gene is in, should have to go through the start positions one at a time to see how many are within the start and end coordinate"
   ]
  },
  {
   "cell_type": "markdown",
   "metadata": {},
   "source": [
    "##### *Reading in the SAM file*:\n",
    "\n",
    "I am going to read it in, go line by line and for each line I will extract column 3 and 4, then organize it into a dictionary called **alignments**"
   ]
  },
  {
   "cell_type": "code",
   "execution_count": null,
   "metadata": {},
   "outputs": [],
   "source": [
    "#first I need to read in the SAM file and create a dictionary\n",
    "#Column 3 (Chromosome) will be the key and Column 4 (Start Pos) with the value\n",
    "\n",
    "alignments = {} #initialize my empty dictionary\n",
    "\n",
    "sam_file = r'C:\\Users\\tiffa\\OneDrive\\Desktop\\Masters in Bioinformatics\\Algorithms and Data Structures\\sample.sam' \n",
    "# This is the path file to sample.sam\n",
    "with open(sam_file, 'r') as file: \n",
    "#using the open method, open the sam file in reading mode\n",
    "    for line in file: # go through each line in the file\n",
    "        fields = line.strip().split('\\t')\n",
    "#split the line into fields based on the tab\n",
    "\n",
    "        chromosome = fields[2]#the chromosome is in column 3\n",
    "        start_position = int(fields[3])\n",
    "#start pos is in column 4, and change the type to int\n",
    "\n",
    "        if chromosome != '*': #if there is a value for the chromosome\n",
    "            if chromosome not in alignments: \n",
    "#if the chromosome is not in the dictionary, add it\n",
    "                alignments[chromosome]= []\n",
    "            \n",
    "\n",
    "            alignments[chromosome].append(start_position)\n",
    "#Add the start position to the list of start positions for the chromosome\n",
    "\n",
    "display(alignments)#for viewing purposes, looks sorect so far"
   ]
  },
  {
   "cell_type": "markdown",
   "metadata": {},
   "source": [
    "I am going to sort each of the chromosome lists (with merge sort). That way when it comes time to see if it is between the start and end of an exon in a gene, it will be easier. "
   ]
  },
  {
   "cell_type": "code",
   "execution_count": 2,
   "metadata": {},
   "outputs": [],
   "source": [
    "import math\n",
    "# need the math library to do floor rounding\n",
    "# this merge sort algorithm is taken from the lecture notes!\n",
    "\n",
    "def merge_sort(A, p, r):\n",
    "#merge_sort is recursive\n",
    "#as long as p is < r, it will recursively call on itself until it hits the base case\n",
    "#then which the smaller arrays will be joined together with the merge function. \n",
    "\n",
    "    if p < r:\n",
    "#recursively call the function as long as p is less than r\n",
    "        q = math.floor((p + r) / 2)\n",
    "        merge_sort(A, p, q)\n",
    "        merge_sort(A, q + 1, r)\n",
    "        merge(A, p, q, r)\n",
    "    \n",
    "    return A #return the array\n",
    "\n",
    "\n",
    "\n",
    "def merge(A, p, q, r):\n",
    "#initialize the n1 and n2 variables\n",
    "    n1 = q - p + 1\n",
    "    n2 = r - q\n",
    "    \n",
    "#initialize arrays\n",
    "    L = [0] * (n1 + 1)\n",
    "    R = [0] * (n2 + 1)\n",
    "    \n",
    "#fill in our temporary left and right arrays\n",
    "    for i in range(n1):\n",
    "        L[i] = A[p + i]\n",
    "    for j in range(n2):\n",
    "        R[j] = A[q + j + 1]\n",
    "    \n",
    "#float('inf) is infinity, these are our sentinels\n",
    "    L[n1] = float('inf')\n",
    "    R[n2] = float('inf')\n",
    "    \n",
    "#reset our counters for the temp arrays\n",
    "    i = 0\n",
    "    j = 0\n",
    "    \n",
    "#Compare the temp arrays to order them properly\n",
    "    for k in range(p, r + 1):\n",
    "        if L[i] <= R[j]:\n",
    "            A[k] = L[i]\n",
    "            i += 1\n",
    "        else:\n",
    "            A[k] = R[j]\n",
    "            j += 1\n",
    "\n"
   ]
  },
  {
   "cell_type": "code",
   "execution_count": 3,
   "metadata": {},
   "outputs": [
    {
     "name": "stdout",
     "output_type": "stream",
     "text": [
      "[1, 2, 2, 3, 4, 5, 6, 6]\n"
     ]
    }
   ],
   "source": [
    "#just an example to test my merge algorithm\n",
    "#it appears to work correctly\n",
    "array = [5, 2, 4, 6, 1, 3, 2, 6]\n",
    "length = len(array)\n",
    "merge_sort(array, 0, length-1)\n",
    "print(array)"
   ]
  },
  {
   "cell_type": "code",
   "execution_count": null,
   "metadata": {},
   "outputs": [],
   "source": [
    "#merge sorting the alignments dictionary\n",
    "\n",
    "sorted_alignments = {}\n",
    "#initialize our sorted dictionary\n",
    "\n",
    "\n",
    "for chromosomes, start_pos in alignments.items():\n",
    "    sorted_alignments[chromosomes] = merge_sort(start_pos, 0, len(start_pos)-1)\n",
    "\n",
    "display(sorted_alignments) \n",
    "#for viweing purposes, appears to have sorted my lists of start positions\n",
    "#I needed to clear the outputs from this cell \n",
    "#or else the submission would be unreasonable long"
   ]
  },
  {
   "cell_type": "markdown",
   "metadata": {},
   "source": [
    "##### *Reading in the GTF file*:\n",
    "I am going to do the same with the GTF as the SAM. I will read it in line by line, extract the chromosome, start position and end position. Then compare it to the alignments dictionary. If the value in the dictionary is greater than the start AND less than the end, I will incrememnt a counter.\n",
    "- I will need separate counters for each of the genes! (doing this with a dictionary)\n",
    "- associate with gene_name\n",
    "- only interested in exons"
   ]
  },
  {
   "cell_type": "markdown",
   "metadata": {},
   "source": [
    "***The below code is being done without sorting the arrays!***"
   ]
  },
  {
   "cell_type": "code",
   "execution_count": null,
   "metadata": {},
   "outputs": [],
   "source": [
    "#UNSORTED \n",
    "\n",
    "import re\n",
    "#I will be extracting the gene name from column 9 with regex\n",
    "import time\n",
    "start_time = time.process_time()\n",
    "\n",
    "#Time counting function given in the assignment\n",
    "\n",
    "gtf_file = r'C:\\Users\\tiffa\\OneDrive\\Desktop\\Masters in Bioinformatics\\Algorithms and Data Structures\\Arabidopsis.gtf'\n",
    "#file path for thee GTF file\n",
    "total_count = 0 #intialize total count for the unsorted arrays \n",
    "with open(gtf_file, 'r') as file:#open the file in reading mode\n",
    "    gene_counter = {}\n",
    "#initialize our counter\n",
    "\n",
    "    for line in file: #going line by line through the file\n",
    "        fields = line.strip().split('\\t') \n",
    "#split the fields in the same manner as above\n",
    "\n",
    "        if fields[2] == 'exon': # we only want information for exons!\n",
    "            start = int(fields[3])#start position is column 4, modify to type int\n",
    "            end = int(fields[4]) #end positions is column 5, modify to type int\n",
    "            curr_chr = fields[0] #extract which chromosome we are working on\n",
    "            \n",
    "            match = re.search(r'gene_name \"([^\"]+)\"', fields[8])\n",
    "#extracting the gene name from the ninth column using regex\n",
    "#I only want what is between quotes after gene_name\n",
    "\n",
    "            curr_start_pos = alignments.get(curr_chr, [])\n",
    "#get the list of start positions for this chromosome from the UNSORTED alignments dictionary\n",
    "\n",
    "            if match: \n",
    "#if there is gene name in the string, then we assign it to the variable as gene_name\n",
    "                gene_name = match.group(1)\n",
    "# Print the gene name for testing purposes\n",
    "                #print(gene_name)\n",
    "\n",
    "            if gene_name not in gene_counter:\n",
    "                gene_counter[gene_name] = 0 \n",
    "#if the gene name is not in the counter dictionary, initialize the counter to 0 and add it to the dictionary\n",
    "\n",
    "            for position in curr_start_pos:\n",
    "#loop through each start position, check to see if it between the start and end position of the chromosome\n",
    "                if start <= position <= end:\n",
    "#if it is, then add to the counter for this gene\n",
    "                    gene_counter[gene_name] +=1\n",
    "                    total_count += 1\n",
    "\n",
    "#I will be exporting the dictionary into a separate textfile since the output is so large. \n",
    "#Below is the code to write out the dictionary\n",
    "outfile = r'C:\\Users\\tiffa\\OneDrive\\Desktop\\Masters in Bioinformatics\\Algorithms and Data Structures\\Assignment 4\\HW4_Unsorted_Output.txt'\n",
    "#Define the outfile path\n",
    "\n",
    "with open(outfile, 'w') as file:\n",
    "    #use the open method to open the file in writing mode\n",
    "    file.write(\"UNSORTED OUTPUT \\n\")\n",
    "#Write my header for the file\n",
    "    for gene, count in gene_counter.items():\n",
    "        #go through each line of the dictionary\n",
    "        file.write(f\"{gene}: {count}\\n\")\n",
    "        #write out the gene and the count\n",
    "\n",
    "display(gene_counter) #for viewing purposes\n",
    "print(time.process_time() - start_time) #time calculation.\n",
    "#I needed to clear the outputs from this cell \n",
    "#or else the submission would be unreasonable long\n",
    "\n",
    "\n",
    "\n",
    "#Count outputs follow the code in the PDF\n",
    "#Time and total count is below\n",
    "        "
   ]
  },
  {
   "cell_type": "code",
   "execution_count": 6,
   "metadata": {},
   "outputs": [
    {
     "name": "stdout",
     "output_type": "stream",
     "text": [
      "226612\n"
     ]
    }
   ],
   "source": [
    "print(total_count)"
   ]
  },
  {
   "cell_type": "markdown",
   "metadata": {},
   "source": [
    "**UnSorted Array**: \n",
    "*Total Count*: 226612\n",
    "\n",
    "*Time*: 1892.390625\n",
    "\n",
    "**Output is in the file HW4_Unsorted_Output.txt**"
   ]
  },
  {
   "cell_type": "markdown",
   "metadata": {},
   "source": [
    "***Below is the code with the sorted array!***"
   ]
  },
  {
   "cell_type": "code",
   "execution_count": null,
   "metadata": {},
   "outputs": [],
   "source": [
    "#SORTED\n",
    "\n",
    "#for the sorted array I am going to negate everything after the end position. \n",
    "#This should cut down on run times. \n",
    "start_time = time.process_time()\n",
    "gtf_file = r'C:\\Users\\tiffa\\OneDrive\\Desktop\\Masters in Bioinformatics\\Algorithms and Data Structures\\Arabidopsis.gtf'\n",
    "sorted_total_count = 0 #initial total count for the sorted\n",
    "\n",
    "with open(gtf_file, 'r') as file: #opening file in same manner as above\n",
    "    sorted_gene_counter = {} #initialized the sorted gene counter\n",
    "\n",
    "    for line in file:# go line by line through the file\n",
    "        fields = line.strip().split('\\t')#split into fields\n",
    "        if fields[2] == 'exon': #only want exons\n",
    "            start = int(fields[3])#start position is column 4, modify to type int\n",
    "            end = int(fields[4]) #end positions is column 5, modify to type int\n",
    "            curr_chr = fields[0] #extract which chromosome we are working on\n",
    "            match = re.search(r'gene_name \"([^\"]+)\"', fields[8])\n",
    "\n",
    "            curr_start_pos = sorted_alignments.get(curr_chr, [])\n",
    "#get SORTED list of start positions\n",
    "\n",
    "            if match: \n",
    "#if there is gene name in the string, then we assign it to the variable as gene_name\n",
    "                gene_name = match.group(1)\n",
    "# Print the gene name for testing purposes\n",
    "                #print(gene_name)\n",
    "\n",
    "            if gene_name not in sorted_gene_counter:\n",
    "                sorted_gene_counter[gene_name] = 0 \n",
    "#if the gene name is not in the counter dictionary, initialize the counter to 0 and add it to the dictionary\n",
    "\n",
    "            for position in curr_start_pos:\n",
    "#loop through each start position, check to see if it between the start and end position of the chromosome\n",
    "                if start <= position <= end:\n",
    "#if it is, then add to the counter for this gene\n",
    "                    sorted_gene_counter[gene_name] +=1   \n",
    "                    sorted_total_count += 1\n",
    "\n",
    "#if the position is greater than the end, then we will move onto the next line in the file\n",
    "                if position > end:\n",
    "                    break\n",
    "\n",
    "#In the same manner as above, I will write out my dictionary to a separte output file\n",
    "\n",
    "sorted_outfile = r'C:\\Users\\tiffa\\OneDrive\\Desktop\\Masters in Bioinformatics\\Algorithms and Data Structures\\Assignment 4\\HW4_Sorted_Output.txt'\n",
    "#define my path\n",
    "\n",
    "with open(sorted_outfile, 'w') as file:\n",
    "    #open my file\n",
    "    file.write('SORTED OUTPUT \\n')\n",
    "    #write in my header\n",
    "    for gene, count in sorted_gene_counter.items():\n",
    "        #go through line by line and write out the gene and count\n",
    "        file.write(f\"{gene}: {count}\\n\")\n",
    "\n",
    "print(time.process_time() - start_time) #Time calculations\n",
    "display(sorted_gene_counter)#for viewing purposes\n",
    "#I needed to clear the outputs from this cell \n",
    "#or else the submission would be unreasonable long\n",
    "\n",
    "\n",
    "\n",
    "#Count outputs follow the code in the PDF\n",
    "#Time and total count is below"
   ]
  },
  {
   "cell_type": "code",
   "execution_count": 8,
   "metadata": {},
   "outputs": [
    {
     "name": "stdout",
     "output_type": "stream",
     "text": [
      "226612\n"
     ]
    }
   ],
   "source": [
    "print(sorted_total_count)"
   ]
  },
  {
   "cell_type": "markdown",
   "metadata": {},
   "source": [
    "**Sorted Array**: \n",
    "\n",
    "*Time*: 586.515625\n",
    "\n",
    "*Total Count*: 226612\n",
    "\n",
    "**Output is in file HW4_Sorted_Output.txt**\n"
   ]
  },
  {
   "cell_type": "markdown",
   "metadata": {},
   "source": [
    "The sorted array is faster to parse and get counts for since it does not need to go through every start position of every chromosome. In the worst case (lets say all positions for a chromosome lies between the start and end in the given GTF) it would need to go through each one- at this rate the running time would be equal to parsing through the unsorted array. Where as the unsorted array you MUST go through every start position for the chromosome and compare it to the start and end in the GTF. Even if going through the sorted array you can skip one start position for a chromosome (since it would be greater than the end of an exon) it would save you time. \n",
    "\n",
    "You can see from the run times themselves, 586.515625 for the sorted array and 1892.390625 for the unsorted. "
   ]
  }
 ],
 "metadata": {
  "kernelspec": {
   "display_name": "base",
   "language": "python",
   "name": "python3"
  },
  "language_info": {
   "codemirror_mode": {
    "name": "ipython",
    "version": 3
   },
   "file_extension": ".py",
   "mimetype": "text/x-python",
   "name": "python",
   "nbconvert_exporter": "python",
   "pygments_lexer": "ipython3",
   "version": "3.11.5"
  }
 },
 "nbformat": 4,
 "nbformat_minor": 2
}
