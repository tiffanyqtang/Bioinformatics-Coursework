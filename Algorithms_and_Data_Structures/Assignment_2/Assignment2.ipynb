{
 "cells": [
  {
   "cell_type": "markdown",
   "metadata": {},
   "source": [
    "### Question 1\n",
    "For this homework, we will use a gene network graph from Biogrid (https://thebiogrid.org/) for\n",
    "the species Arabidopsis thaliana. The gene interaction network provided is called large.graph.\n",
    "The Gene names in this species start with AT, followed by chromosome number, followed by G\n",
    "for gene, and finally, unique identifier. For example, we will use AT5G49450 as our source.\n"
   ]
  },
  {
   "cell_type": "markdown",
   "metadata": {},
   "source": [
    "#### Part 1\n",
    "\n",
    "**Implement a breadth-first search algorithm using any programming language of\n",
    "your choice.**\n",
    "\n",
    "I will be writing the breadth first search algorithm in python"
   ]
  },
  {
   "cell_type": "markdown",
   "metadata": {},
   "source": [
    "**Step 1:** Initialize the verticies. \n",
    "For graph G = (V, E), we start at the source- S.\n",
    "\n",
    "Initially all of the verticies are *white*, they get colored *gray* when they are explored for the first time, they are colored *black* when they are explored for the second time. Initially are verticies have a distance of *INF* and a parent of *NIL*\n",
    "- need to color all verticies white, and initialize their distance and parents. "
   ]
  },
  {
   "cell_type": "markdown",
   "metadata": {},
   "source": [
    "**My Thoughts**\n",
    "\n",
    " <s>probably need to make a node class- easiest way to keep track of each node and their attributes. </s>\n",
    "\n",
    "Assuming that an adjacency list will be the input in the form of a dictionary?\n",
    "    - I need to organize the graph file into an adjacency list so it can be put into the BFS function\n",
    "\n",
    "Going to get a graph input (as adjacency list, dict,) and a source node\n",
    "<s>- the adjacency lists tell you what it's connected to, so let's iterate through the adjacency list and initialize our list of nodes- make this the *queue*? </s>\n",
    "\n",
    "Ok no node class. It ended up making things way more complicated than needed. \n",
    "- separate lists for color distance and parent"
   ]
  },
  {
   "cell_type": "markdown",
   "metadata": {},
   "source": [
    "Below is my bfs search. I am creating separate lists for the color, distance and parent."
   ]
  },
  {
   "cell_type": "code",
   "execution_count": 5,
   "metadata": {},
   "outputs": [],
   "source": [
    "#BFS algorithm\n",
    "\n",
    "def bfs(graph, s):\n",
    "    #here we are initializing data structures\n",
    "    color = {} #initialize empty color dictionary\n",
    "    d = {} #initialize empty distance dictionary\n",
    "    parent = {} #initialize empty parent dictionary\n",
    "#I chose to do dictionaries for this to ensure that there would only be \n",
    "#one value for each node (dictionaries do not allow for duplicate keys)\n",
    "#They cannot be lists because list indices cannot be strings, \n",
    "#whereas dictionary indices can\n",
    "    for vertex in graph: #This loop initializes all the vertices\n",
    "        color[vertex] = 'white' #sets the color to white\n",
    "        d[vertex] = float('inf')#sets the vertex to inf\n",
    "        parent[vertex] = None #sets the parent to none\n",
    "   \n",
    "\n",
    "    #s will need to be colored as gray and \n",
    "    #with a distance 0 and parent set to none.\n",
    "    color[s] = 'gray'\n",
    "    d[s] = 0\n",
    "    parent[s] = None\n",
    "\n",
    "    queue = []#initialize empty queue which would be of type 'list'\n",
    "\n",
    "    #initialize the queue with the start vertex\n",
    "    queue.append(s)\n",
    "\n",
    "    #the bottom is the code for step 2, running through the queue\n",
    "    while queue:#while the queue is not empty \n",
    "        u = queue.pop(0) #remove pop the first item in the queue\n",
    "        for v in graph[u]: #explore the adjacency list for this vertex (its neighbors)\n",
    "            if color[v] == 'white':#if the color of a neighboring vertex is white\n",
    "                color[v] = 'gray' #set the color to gray\n",
    "                d[v] = d[u] +1 #the distance of v is one more than the distance of u\n",
    "                parent[v] = u #set the parent of v to u\n",
    "                queue.append(v) #add v to the end of the queue\n",
    "        color[u] = 'black' \n",
    "        #color u to be black once it's neighbors have been fully explored.\n",
    "    return color, d, parent\n"
   ]
  },
  {
   "cell_type": "code",
   "execution_count": 6,
   "metadata": {},
   "outputs": [
    {
     "data": {
      "text/plain": [
       "({'5': 'black',\n",
       "  '3': 'black',\n",
       "  '2': 'black',\n",
       "  '8': 'black',\n",
       "  '7': 'black',\n",
       "  '4': 'black'},\n",
       " {'5': 0, '3': 1, '2': 2, '8': 2, '7': 1, '4': 2},\n",
       " {'5': None, '3': '5', '2': '3', '8': '7', '7': '5', '4': '3'})"
      ]
     },
     "execution_count": 6,
     "metadata": {},
     "output_type": "execute_result"
    }
   ],
   "source": [
    "#this is a small test graph I created to help me work through kinks in my bfs function.\n",
    "graph = { #test graph\n",
    "  '5' : ['3','7'],\n",
    "  '3' : ['2', '4'],\n",
    "  '2' : [],\n",
    "  '8' : [],\n",
    "  '7' : ['8'],\n",
    "  '4' : ['8'],\n",
    "}\n",
    "\n",
    "bfs(graph, '5')\n",
    "#print out put to see that the attribute lists are updated\n",
    "#appears to work for the test case"
   ]
  },
  {
   "cell_type": "code",
   "execution_count": 2,
   "metadata": {},
   "outputs": [
    {
     "ename": "NameError",
     "evalue": "name 'bfs' is not defined",
     "output_type": "error",
     "traceback": [
      "\u001b[1;31m---------------------------------------------------------------------------\u001b[0m",
      "\u001b[1;31mNameError\u001b[0m                                 Traceback (most recent call last)",
      "Cell \u001b[1;32mIn[2], line 29\u001b[0m\n\u001b[0;32m     25\u001b[0m \u001b[38;5;66;03m# Print the adjacency list to check that it is creating it correctly\u001b[39;00m\n\u001b[0;32m     26\u001b[0m \u001b[38;5;66;03m#for node, neighbors in adjacency_list.items():\u001b[39;00m\n\u001b[0;32m     27\u001b[0m     \u001b[38;5;66;03m#print(f\"{node}: {neighbors}\")\u001b[39;00m\n\u001b[0;32m     28\u001b[0m s \u001b[38;5;241m=\u001b[39m \u001b[38;5;124m'\u001b[39m\u001b[38;5;124mAT5G49450\u001b[39m\u001b[38;5;124m'\u001b[39m  \u001b[38;5;66;03m#this is our source node\u001b[39;00m\n\u001b[1;32m---> 29\u001b[0m colorList, distanceList, parentList \u001b[38;5;241m=\u001b[39m \u001b[43mbfs\u001b[49m(adjacency_list, s)\n\u001b[0;32m     30\u001b[0m \u001b[38;5;66;03m#just a print function to look at my parent list\u001b[39;00m\n\u001b[0;32m     31\u001b[0m \u001b[38;5;66;03m# for parent, child in parentList.items(): \u001b[39;00m\n\u001b[0;32m     32\u001b[0m \u001b[38;5;66;03m#     print(f\"{parent}: {child}\")\u001b[39;00m\n",
      "\u001b[1;31mNameError\u001b[0m: name 'bfs' is not defined"
     ]
    }
   ],
   "source": [
    "import csv\n",
    "# Initialize an empty dictionary to represent the adjacency list\n",
    "adjacency_list = {}#prime my empty adjacency dictionary\n",
    "\n",
    "# Open the CSV file\n",
    "with open('large.graph', 'r') as file: #need 'r' for the reading mode\n",
    "    # Iterate over each line in the file\n",
    "    for line in file:#for each line in the file\n",
    "        # Remove leading/trailing whitespaces and \n",
    "        #split the line into two nodes at the tab point\n",
    "        node1, node2 = line.strip().split('\\t')\n",
    "        \n",
    "        # Add node2 to the adjacency list (neighbors)of node1\n",
    "        #need to add node2 as a key and prime empty list, \n",
    "        #in case node2 is at the end of the tree\n",
    "        if node1 in adjacency_list: \n",
    "            #if node1 already exits, update to add node2 to list of neighbors\n",
    "            adjacency_list[node1].append(node2)\n",
    "        else:#if node 1 does not exist create new key value pair\n",
    "            adjacency_list[node1] = [node2] \n",
    "        if node2 not in adjacency_list: #if node 2 is not in the list \n",
    "            #create it as a key with an empty neighbor list\n",
    "            adjacency_list[node2] = []\n",
    "\n",
    "# Print the adjacency list to check that it is creating it correctly\n",
    "#for node, neighbors in adjacency_list.items():\n",
    "    #print(f\"{node}: {neighbors}\")\n",
    "s = 'AT5G49450'  #this is our source node\n",
    "colorList, distanceList, parentList = bfs(adjacency_list, s)\n",
    "#just a print function to look at my parent list\n",
    "# for parent, child in parentList.items(): \n",
    "#     print(f\"{parent}: {child}\")\n"
   ]
  },
  {
   "cell_type": "markdown",
   "metadata": {},
   "source": [
    "### Part 2 Determining the shortest path\n",
    "\n",
    "S will be AT5G49450\n",
    "\n",
    "V will be AT5G65210"
   ]
  },
  {
   "cell_type": "markdown",
   "metadata": {},
   "source": [
    "**BFS shortest path is recursive**\n",
    "\n",
    "*Pseudo-code*\n",
    "\n",
    "Print_path(G, s, v)\n",
    "\n",
    "if v== s then\n",
    "\n",
    "    - print s\n",
    "\n",
    "elif Parent[v] == NIL then \n",
    "\n",
    "    - print \"no path exists\"\n",
    "\n",
    "else\n",
    "\n",
    "    - Print_path(G, s, Parent[v])\n",
    "    - print out the current vertex it is on\n",
    "\n",
    "end(if)\n",
    "\n",
    "end(Print_path)\n",
    "\n",
    "\n",
    "if this runs properly, it will output the path back to the source"
   ]
  },
  {
   "cell_type": "code",
   "execution_count": 29,
   "metadata": {},
   "outputs": [],
   "source": [
    "#shortest path function\n",
    "def Print_path(graph, s, v, parent): #we need to put in 4 inputs,\n",
    "    #the graph in the form of an adjacency list, the source, the end vertex\n",
    "    #and the list of parents that we generated from our BFS algorithm\n",
    "    #if the vertex is equal to the source then the distance is just the source\n",
    "    if v == s: \n",
    "        print(s) #this is also the base case of our recursive algorithm\n",
    "    elif parent[v] == None: #if there is no relation, then no possible path,\n",
    "        print(\"no path from\", s, \"to\", v, \"exists\")\n",
    "    else:\n",
    "        Print_path(graph, s, parent[v], parent)\n",
    "        #keep recursively tracking the distance back to the \n",
    "        #source by printing out the genes along the way\n",
    "        #on each iteration were are putting back in the parent of the \n",
    "        #current gene to track the ancestors\n",
    "        print(v)#output the current gene"
   ]
  },
  {
   "cell_type": "code",
   "execution_count": 30,
   "metadata": {},
   "outputs": [
    {
     "name": "stdout",
     "output_type": "stream",
     "text": [
      "AT5G49450\n",
      "AT4G34590\n",
      "AT2G31070\n",
      "AT5G65210\n"
     ]
    }
   ],
   "source": [
    "#running code for question 2\n",
    "source = 'AT5G49450'\n",
    "end = 'AT5G65210'\n",
    "Print_path(adjacency_list, source, end, parentList)"
   ]
  },
  {
   "cell_type": "markdown",
   "metadata": {},
   "source": [
    "## Question 2\n",
    "In a directed graph with A nodes, given a matrix B of size M x 2 representing M edges such that\n",
    "\n",
    "there is an edge directed from node B[i][0] to node B[i][1], the task is to determine if the graph\n",
    "\n",
    "contains a cycle. Return 1 if a cycle is present, and 0 otherwise. The cycle must include at least\n",
    "\n",
    "two nodes, and there are no self-loops or multiple edges between nodes. The graph may or\n",
    "\n",
    "may not be connected. Nodes are numbered from 1 to A. The solution should handle multiple\n",
    "\n",
    "test cases\n",
    "\n"
   ]
  },
  {
   "cell_type": "markdown",
   "metadata": {},
   "source": [
    "We need to implement the depth first search algorithm, as DFS will find cycles in graphs.\n",
    "- if there is a back edge in the graph, then the graph is cyclic\n",
    "- back edges are edges that go from a descendant to an ancestor"
   ]
  },
  {
   "cell_type": "markdown",
   "metadata": {},
   "source": [
    "Since the question specifies that a directed graph will be given, the nodes will be directional. \n",
    "\n",
    "Specifically the node B[i][0] will go to B[i][1]. In our matrix we will represent this by only\n",
    " \n",
    "marking a position in this direction and not the reverse."
   ]
  },
  {
   "cell_type": "markdown",
   "metadata": {},
   "source": [
    "*I attempted to do this first my creating an adjacency matrix- see my first cell below.*\n",
    "\n",
    "*However, I found it quite difficult to iterate through a matrix, so I am taking* \n",
    "\n",
    "*the matrix input and converting it to an adjacency list.*"
   ]
  },
  {
   "cell_type": "code",
   "execution_count": 2,
   "metadata": {},
   "outputs": [
    {
     "name": "stdout",
     "output_type": "stream",
     "text": [
      "[0, 1, 1, 0, 0]\n",
      "[0, 0, 0, 1, 0]\n",
      "[0, 0, 0, 1, 0]\n",
      "[1, 0, 0, 0, 0]\n",
      "[0, 1, 0, 0, 0]\n"
     ]
    }
   ],
   "source": [
    "#Code to take input and turn it into an adjacency matrix\n",
    "#I will be using the example provided in the HW\n",
    "A = 5 #this is the number of nodes in the graph\n",
    "#Below represents all the edges in the graph\n",
    "B = [ [1, 2], [4, 1], [2, 4], [3, 4], [5, 2], [1, 3] ] \n",
    "\n",
    "#create a blank matrix that is A x A\n",
    "adjacency_matrix = [[0]*A for _ in range(A)]\n",
    "for edge in B:\n",
    "    node1, node2 = edge #the first value in each edge will be node1\n",
    "    #the second value in each edge will be node2\n",
    "    #since the matrix is index 0, we need to -1 from each node value so it will plot properly\n",
    "    adjacency_matrix[node1 -1][node2 -1] =1 #a 1 appears where there is an edge\n",
    "#print function to test\n",
    "for row in adjacency_matrix:\n",
    "    print(row)\n",
    "\n",
    "#I DID NOT END UP USING THIS FOR MY FINAL SOLUTION.\n",
    "#only included this to show my thought process. "
   ]
  },
  {
   "cell_type": "markdown",
   "metadata": {},
   "source": [
    "Below is my code for taking the given input and creating an adjacency list. \n",
    "\n",
    "It is much easier for me to navigate through an adjacency list than an adjacency matrix"
   ]
  },
  {
   "cell_type": "code",
   "execution_count": 1,
   "metadata": {},
   "outputs": [
    {
     "name": "stdout",
     "output_type": "stream",
     "text": [
      "Node 1: [2, 3]\n",
      "Node 2: [4]\n",
      "Node 3: [4]\n",
      "Node 4: [1]\n",
      "Node 5: [2]\n"
     ]
    }
   ],
   "source": [
    "A = 5\n",
    "B = [[1, 2], [4, 1], [2, 4], [3, 4], [5, 2], [1, 3]]\n",
    "\n",
    "# Initialize an empty adjacency list of type dictionary with A amount of nodes\n",
    "adj_list = {node: [] for node in range(1, A + 1)}\n",
    "\n",
    "# Populate the adjacency dictionary based on the edges\n",
    "for from_node, to_node in B: \n",
    "#first item in the line is the from node, second item is the to node\n",
    "    adj_list[from_node].append(to_node) \n",
    "#directional, first item is the from node, second item is the to node\n",
    "\n",
    "# Print the adjacency list just to check it.\n",
    "# for node, neighbors in adj_list.items():\n",
    "#     print(f\"Node {node}: {neighbors}\")\n",
    "\n"
   ]
  },
  {
   "cell_type": "code",
   "execution_count": 14,
   "metadata": {},
   "outputs": [
    {
     "name": "stdout",
     "output_type": "stream",
     "text": [
      "Node 1: [2]\n",
      "Node 2: [3]\n",
      "Node 3: [4]\n",
      "Node 4: [1, 5]\n",
      "Node 5: []\n"
     ]
    }
   ],
   "source": [
    "#this is a test input to test my above code in a different scenario\n",
    "A = 5\n",
    "B = [[1, 2], [2,3],[3,4],[4,1],[4,5]]\n",
    "adj_list = {node: [] for node in range(1, A + 1)}\n",
    "\n",
    "# Populate the adjacency dictionary based on the edges\n",
    "for from_node, to_node in B: #first item in the line is the from node, second item is the to node\n",
    "    adj_list[from_node].append(to_node) \n",
    "    #directional, first item is the from node, second item is the to node\n",
    "\n",
    "# Print the adjacency list just to check it.\n",
    "# for node, neighbors in adj_list.items():\n",
    "#     print(f\"Node {node}: {neighbors}\")\n",
    "    #looks to work for this test case"
   ]
  },
  {
   "cell_type": "markdown",
   "metadata": {},
   "source": [
    "Below is the DFS algorithm written out in python based on the pseudocode that was presented in the lecture. "
   ]
  },
  {
   "cell_type": "code",
   "execution_count": 3,
   "metadata": {},
   "outputs": [
    {
     "name": "stdout",
     "output_type": "stream",
     "text": [
      "discovery time: 1: 1\n",
      "discovery time: 2: 2\n",
      "discovery time: 4: 3\n",
      "discovery time: 3: 6\n",
      "discovery time: 5: 9\n",
      "finish time: 4: 4\n",
      "finish time: 2: 5\n",
      "finish time: 3: 7\n",
      "finish time: 1: 8\n",
      "finish time: 5: 10\n"
     ]
    }
   ],
   "source": [
    "#input the graph as an adjacency list, created from the input matrix above \n",
    "#I was just struggling too hard using an adjacency matrix\n",
    "\n",
    "def DFS(G):\n",
    "    def DFS_visit(u):\n",
    "        nonlocal time  \n",
    "        #time is a global variable, need to state as nonlocal in nested function\n",
    "        color[u] = 'gray' #set color to gray\n",
    "        time += 1 #increment the time\n",
    "        d_time[u] = time #update the discovery time\n",
    "        for v in G[u]: \n",
    "            if color[v] == 'white': #if the color of v is white, then..\n",
    "                parent[v] = u #set the parent of v as u\n",
    "                DFS_visit(v) #recursivle call this function back for v\n",
    "        color[u] = 'black' #once you are done with u, set the color to black\n",
    "        time += 1 #increment the time\n",
    "        f_time[u] = time #update the finish time\n",
    "    #function for DFS_visit ends here\n",
    "    color = {}\n",
    "    parent = {}\n",
    "    d_time = {}\n",
    "    f_time = {}\n",
    "    time = 0\n",
    "#initialize all of the vertex as color white and parent to none\n",
    "    for u in G.keys(): \n",
    "        color[u] = 'white'\n",
    "        parent[u] = None\n",
    "    \n",
    "    for u in G.keys():\n",
    "        if color[u] == 'white': #if the color is white then run DFS_visit\n",
    "            DFS_visit(u)\n",
    "\n",
    "    return parent, d_time, f_time, color\n",
    "\n",
    "testP, testD, testF, testColor = DFS(adj_list)\n",
    "\n",
    "#print function for test\n",
    "# for key, value in testD.items():\n",
    "#     print(f'discovery time: {key}: {value}')\n",
    "# for key, value in testF.items():\n",
    "#     print(f'finish time: {key}: {value}')"
   ]
  },
  {
   "cell_type": "markdown",
   "metadata": {},
   "source": [
    "To detect a back edge during a depth first search, we need to keep track of if we have visited a node or not before. If you have visited it when you visit it again, then it is cyclical.\n",
    "- if we visit a vertex and the color is gray, that means we have already been here, and then the graph must be cyclic.\n",
    "\n",
    "I can modify my DFS code to add a boolean flag 'isCyclic', which will return true on the condition of if we have already visited a vertex that we are now at again."
   ]
  },
  {
   "cell_type": "code",
   "execution_count": 13,
   "metadata": {},
   "outputs": [
    {
     "name": "stdout",
     "output_type": "stream",
     "text": [
      "0\n"
     ]
    }
   ],
   "source": [
    "#this is the modified DFS code (from above) with the boolean flag\n",
    "#it returns true if the graph is cyclic\n",
    "#the time components are unnecessary for determining if the graph is cyclic or not.\n",
    "#the parent list is also not necessary, \n",
    "#but I will keep it in for bookkeeping purposes\n",
    "def DFS_cyclic(G):\n",
    "    def DFS_visit(u):\n",
    "        nonlocal isCyclic \n",
    "        #boolean flag for if it is true or not, needs to be a global variable\n",
    "        color[u] = 'gray' \n",
    "        #set color of current node to gray\n",
    "        for v in G[u]: \n",
    "            if color[v] == 'white': \n",
    "                #if the color of v(who is a child of u) is white, then..\n",
    "                parent[v] = u #set the parent of v as u\n",
    "                DFS_visit(v) #recursively call this function back for v\n",
    "            elif color[v] == 'gray': \n",
    "            #else if the color is gray, then set the flag to true\n",
    "                isCyclic = True\n",
    "        color[u] = 'black' #once you are done with u, set the color to black\n",
    "        \n",
    "\n",
    "    #function for DFS_visit ends here\n",
    "    #create and initialize empty lists for attributes of our vertex\n",
    "    color = {}\n",
    "    parent = {}\n",
    "    isCyclic = False #initialize our flag to false\n",
    "    #only if a node is visited twice will our flag be turned to true.\n",
    "    #initialize all of the vertex as color white and parent to none\n",
    "    for u in G.keys(): \n",
    "        color[u] = 'white'\n",
    "        parent[u] = None\n",
    "    \n",
    "    for u in G.keys():\n",
    "        #if the color is white for this node then run DFS_visit\n",
    "        if color[u] == 'white': \n",
    "            DFS_visit(u)\n",
    "\n",
    "    if(isCyclic == True):#if the graph is cyclic, then return 1\n",
    "        return 1\n",
    "    else: #else, return 0\n",
    "        return 0\n",
    "\n",
    "#print(DFS_cyclic(adj_list)) #test print, looks to work on the given matrix for the hw\n",
    "\n",
    "#test cases\n",
    "# test1 = {1:[2], 2:[3], 3:[4], 4: [5, 6], 5: [], 6: []}\n",
    "# print(DFS_cyclic(test1)) #no is not cyclic\n",
    "    \n",
    "# test2 = {1:[2], 2:[3], 3:[1]}\n",
    "# print(DFS_cyclic(test2)) #yes is cyclic\n",
    "    \n",
    "# test3 ={1:[2,3], 3:[2], 2:[]}\n",
    "# print(DFS_cyclic(test3)) #no is not cyclic\n",
    "    \n",
    "#works for all of my test cases"
   ]
  },
  {
   "cell_type": "markdown",
   "metadata": {},
   "source": [
    "The time complexity of the above would be O(V + E), where V is the number of vertices and E is the number of edges. \n",
    "\n",
    "It takes time O(V) to go through each vertex and initialize the parent, color and time lists. You can drop the coefficient from the variable. \n",
    "It takes O(E) time to go through the adjacency list of each vertex, where we traverse each edge once. \n",
    "\n",
    "Adding the two pieces together gives you a total time complexity of O(V+E). \n",
    "\n",
    "The space complexity would be dependent on the number of verticies of the graph. The amount of space that is needed is increased linearly with the increase of vertices. \n",
    "Space complexity is O(V)"
   ]
  }
 ],
 "metadata": {
  "kernelspec": {
   "display_name": "Python 3",
   "language": "python",
   "name": "python3"
  },
  "language_info": {
   "codemirror_mode": {
    "name": "ipython",
    "version": 3
   },
   "file_extension": ".py",
   "mimetype": "text/x-python",
   "name": "python",
   "nbconvert_exporter": "python",
   "pygments_lexer": "ipython3",
   "version": "3.11.5"
  }
 },
 "nbformat": 4,
 "nbformat_minor": 2
}
