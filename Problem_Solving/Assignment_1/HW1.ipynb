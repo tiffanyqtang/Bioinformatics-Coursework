{
 "cells": [
  {
   "cell_type": "markdown",
   "metadata": {},
   "source": [
    "## Instructions\n",
    "\n",
    "Use of Generative AI or no code comments will result in a zero grade. The total for the assignment is five points. You'll be graded on the \n",
    "\n",
    "implementation of the string methods (count and rindex) and functions (print and len) 1pt. \n",
    "\n",
    "Operator precedence and the final solution (1pt).\n",
    "\n",
    "Output formatting without string concatenation (1pt).\n",
    "\n",
    "Solutions (2pts).\n",
    "\n",
    "**Define the sequence then determine the GC content of the sequence using the count method, len function,  and operator precedence.** \"ATGCGACCCTCCGGGACGGCCGGGGCAGCGCTCCTGGCGCTGCTGGCTGCGCTCTGCCCGGCGAGTCGGGCTCTGGAGGAAAAGAAAGTTTGCCAAGGCACGAGTAACAAGCTCACGCAGTTGGGCACTTTTGAAGATCATTTTCTCAGCCTCCAGAGGATGTTCAATAACTGTGAGGTGGTCCTTGGGAATTTGGAAATTACCTATGTGCAGAGGAATTATGATCTTTCCTTCTTAAAGACCATCCAGGAGGTGGCTGGTTATGTCCTCATTGCCCTCAACACAGTGGAGCGAATTCCTTTGGAAAACCTGCAGATCATCAGAGGAAATATGTACTACGAAAATTCCTATGCCTTAGCAGTCTTATCTAACTATGATGCAAATAAAACCGGACTGAAGGAGCTGCCCATGAGAAATTTACAGGAAATCCTGCATGGCGCCGTGCGGTTCAGCAACAACCCTGCCCTGTGCAACGTGGAGAGCATCCAGTGGCGGGACATAGTCAGCAGTGACTTTCTCAGCAACATGTCGATGGACTTCCAGAACCACCTGGGCAGCTGCCAAAAGTGTGATCCAAGCTGTCCCAATGGGAGCTGCTGGGGTGCAGGAGAGGAGAACTGCCAGAAACTGACCAAAATCATCTGTGCCCAGCAGTGCTCCGGGCGCTGCCGTGGCAAGTCCCCCAGTGACTGCTGCCACAACCAGTGTGCTGCAGGCTGCACAGGCCCCCGGGAGAGCGACTGCCTGGTCTGCCGCAAATTCCGAGACGA\" \n",
    "\n",
    "\n",
    "**Use the method ‘rindex’ and the ‘len’ function to locate  the beginning and end indices of the substrings  RSDELTR, RSDNLRA, and DPRCLSR which are the binding motifs of Zinc Finger Proteins within the sequence**\n",
    "\"GTERPYACPVESCDRRFSRSDELTRHIRIHTGQKPFQCRICMRNFSRSDNLRAHIXTHTGEKPFACDICGRKFXDPRCLSRHTKIHLRGS\"\n"
   ]
  },
  {
   "cell_type": "markdown",
   "metadata": {},
   "source": [
    "want total amount of G and total amount of C and the total percent overall"
   ]
  },
  {
   "cell_type": "markdown",
   "metadata": {},
   "source": [
    "#### Question 1."
   ]
  },
  {
   "cell_type": "code",
   "execution_count": 2,
   "metadata": {},
   "outputs": [
    {
     "name": "stdout",
     "output_type": "stream",
     "text": [
      "G count is:  214 C count is:  202\n",
      "Sequence length is:  770\n",
      "The percent of the sequence that is G and C is: 54.02597402597402\n",
      "The percentage of just G is 27.79220779220779 and the percentage of just C is 26.233766233766232\n"
     ]
    }
   ],
   "source": [
    "#below we are assigning the variable seq, with the string sequence value\n",
    "seq = 'ATGCGACCCTCCGGGACGGCCGGGGCAGCGCTCCTGGCGCTGCTGGCTGCGCTCTGCCCGGCGAGTCGGGCTCTGGAGGAAAAGAAAGTTTGCCAAGGCACGAGTAACAAGCTCACGCAGTTGGGCACTTTTGAAGATCATTTTCTCAGCCTCCAGAGGATGTTCAATAACTGTGAGGTGGTCCTTGGGAATTTGGAAATTACCTATGTGCAGAGGAATTATGATCTTTCCTTCTTAAAGACCATCCAGGAGGTGGCTGGTTATGTCCTCATTGCCCTCAACACAGTGGAGCGAATTCCTTTGGAAAACCTGCAGATCATCAGAGGAAATATGTACTACGAAAATTCCTATGCCTTAGCAGTCTTATCTAACTATGATGCAAATAAAACCGGACTGAAGGAGCTGCCCATGAGAAATTTACAGGAAATCCTGCATGGCGCCGTGCGGTTCAGCAACAACCCTGCCCTGTGCAACGTGGAGAGCATCCAGTGGCGGGACATAGTCAGCAGTGACTTTCTCAGCAACATGTCGATGGACTTCCAGAACCACCTGGGCAGCTGCCAAAAGTGTGATCCAAGCTGTCCCAATGGGAGCTGCTGGGGTGCAGGAGAGGAGAACTGCCAGAAACTGACCAAAATCATCTGTGCCCAGCAGTGCTCCGGGCGCTGCCGTGGCAAGTCCCCCAGTGACTGCTGCCACAACCAGTGTGCTGCAGGCTGCACAGGCCCCCGGGAGAGCGACTGCCTGGTCTGCCGCAAATTCCGAGACGA'\n",
    "#we can use the count method to count the occurrences of  'G' and 'C' in seq\n",
    "G_count= seq.count('G') #we will assign this value to the variable G_count, total amount of G in the string\n",
    "C_count = seq.count('C') #we will assign this value to the variable C_count, total amount of C in the string\n",
    "print('G count is: ', G_count, 'C count is: ', C_count),  #this will print out the total amounts of G and C\n",
    "GC_count = G_count + C_count #this is the combined amount of G and C in the sequence\n",
    "#we can use the len function to find the total length of the sequence. s\n",
    "seq_len = len(seq) #assign this value to the variable seq_len\n",
    "print('Sequence length is: ', seq_len)#print out the value of seq_len\n",
    "#to find the GC content of the sequence, we will find the percentage of the occurence of GC in the total function\n",
    "#We will find the percentage by dividing (GC_count ) with (seq_len) and multiplying by 100\n",
    "#we will find the percentage of just C and just G by dividing their counts individually with the \n",
    "#sequence length and multiplying by 100\n",
    "perc_GC = (GC_count)/(seq_len)*100\n",
    "perc_G = (G_count)/seq_len * 100\n",
    "perc_C = (C_count) /seq_len * 100\n",
    "print('The percent of the sequence that is G and C is:', perc_GC) #print out percent GC\n",
    "print(f'The percentage of just G is {perc_G} and the percentage of just C is {perc_C}')\n"
   ]
  },
  {
   "cell_type": "code",
   "execution_count": 3,
   "metadata": {},
   "outputs": [
    {
     "name": "stdout",
     "output_type": "stream",
     "text": [
      "The GC content of the sequence is:  54.02597402597402\n"
     ]
    }
   ],
   "source": [
    "#We can alternatively do this in a condensed manner:\n",
    "print('The GC content of the sequence is: ', (seq.count('G')+seq.count('C'))/(len(seq))*100)\n",
    "#instead of creating multiple variables we can execute the operation in one line of code and print it as well"
   ]
  },
  {
   "cell_type": "markdown",
   "metadata": {},
   "source": [
    "#### Question 2."
   ]
  },
  {
   "cell_type": "code",
   "execution_count": 13,
   "metadata": {},
   "outputs": [
    {
     "name": "stdout",
     "output_type": "stream",
     "text": [
      "motif1 sequence starts at index:  18 and ends at index: 24\n",
      "motif2 sequence starts at index:  46 and ends at index: 52\n",
      "motif3 sequence starts at index:  74 and ends at index: 80\n"
     ]
    }
   ],
   "source": [
    "#assigning the values in of the zinc finger protein sequence to the variable zinc_seq\n",
    "zinc_seq = 'GTERPYACPVESCDRRFSRSDELTRHIRIHTGQKPFQCRICMRNFSRSDNLRAHIXTHTGEKPFACDICGRKFXDPRCLSRHTKIHLRGS'\n",
    "motif1 = 'RSDELTR' #assign the value of the first binding motif to the variable motif1\n",
    "print('motif1 sequence starts at index: ', zinc_seq.rindex(motif1), 'and ends at index:', (len(motif1)-1)+ zinc_seq.rindex(motif1)) #using rindex method to find where this subsequence starts, then adding the length of the sequence to the start to find where the end index is\n",
    "#it needs to be the sequence length -1 since we have already included the index of the first character in the subsequence.\n",
    "#repeat the above for the rest of the subsequences\n",
    "motif2 = 'RSDNLRA'\n",
    "print('motif2 sequence starts at index: ', zinc_seq.rindex(motif2), 'and ends at index:', (len(motif2)-1)+ zinc_seq.rindex(motif2))\n",
    "motif3 = 'DPRCLSR'\n",
    "print('motif3 sequence starts at index: ', zinc_seq.rindex(motif3), 'and ends at index:', (len(motif3)-1)+ zinc_seq.rindex(motif3))"
   ]
  }
 ],
 "metadata": {
  "kernelspec": {
   "display_name": "base",
   "language": "python",
   "name": "python3"
  },
  "language_info": {
   "codemirror_mode": {
    "name": "ipython",
    "version": 3
   },
   "file_extension": ".py",
   "mimetype": "text/x-python",
   "name": "python",
   "nbconvert_exporter": "python",
   "pygments_lexer": "ipython3",
   "version": "3.11.5"
  }
 },
 "nbformat": 4,
 "nbformat_minor": 2
}
