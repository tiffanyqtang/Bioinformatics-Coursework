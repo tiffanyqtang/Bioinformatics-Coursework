{
 "cells": [
  {
   "cell_type": "markdown",
   "metadata": {},
   "source": [
    "1. Create Biopython Entrez session (.5 pts)\n",
    "2. Query protein db with  esearch using the search term 'disease and Nilotinib ', (.5 pts).\n",
    "3. Capture the returned data from esearch. Capture \"IdList\" (.5 pts).4. \n",
    "4. Create an efetch object that captures the \"IdList\", (.5 pts).\n",
    "5. Output efetch query to a file(.5 pts).\n",
    "6. Import the SeqIO module and use the SeqIO parse method to grab the definition line of fasta sequence (.5 pts).\n",
    "7. Create a esearch object where the query parameters are 'db' is pubmed, retmax = 100, term=\"disease AND Nilotinib\" (.5 pts).\n",
    "8. Use the \"IdList\"  as a parameter for the efetch object. You'll need to use the join method, ex. id_list = \",\".join('list name') (.5 pts).\n",
    "9. Create a handle object with efetch where the parameters are pubmed for db, joined id list, from #8 as id, rettype is abstract and retmode is txt (.5). \n",
    "10. Read the handle object  and return the outpu to a file (.5)."
   ]
  },
  {
   "cell_type": "code",
   "execution_count": 26,
   "metadata": {},
   "outputs": [
    {
     "name": "stdout",
     "output_type": "stream",
     "text": [
      "{'Count': '22', 'RetMax': '20', 'RetStart': '0', 'IdList': ['6680828', '129892', '2592805032', '2584225032', '2584224529', '2584224479', '2584224220', '2584224209', '2584224138', '119709814', '8394024', '311771514', '311771518', '313104215', '158431485', '158430355', '158430354', '281500912', '281500911', '281500904'], 'TranslationSet': [], 'TranslationStack': [{'Term': 'disease[All Fields]', 'Field': 'All Fields', 'Count': '72983686', 'Explode': 'N'}, {'Term': 'Nilotinib[All Fields]', 'Field': 'All Fields', 'Count': '42', 'Explode': 'N'}, 'AND', 'GROUP'], 'QueryTranslation': 'disease[All Fields] AND Nilotinib[All Fields]', 'WarningList': {'QuotedPhraseNotFound': [], 'OutputMessage': [], 'PhraseIgnored': ['and']}}\n"
     ]
    }
   ],
   "source": [
    "from Bio import Entrez, SeqIO\n",
    "#importing the biopython library Entrez and SeqIO\n",
    "\n",
    "#Create an Entrez session\n",
    "Entrez.email = \"tt2405@nyu.edu\"  \n",
    "# Set email\n",
    "handle = Entrez.esearch(db=\"protein\", term=\"disease and Nilotinib\")\n",
    "# Query the protein database for disease and nilotinib using esearch method\n",
    "# Create a file handle\n",
    "search_results = Entrez.read(handle)\n",
    "#capture the returned data from the esearch\n",
    "\n",
    "print(search_results)\n",
    "#print to see my results\n"
   ]
  },
  {
   "cell_type": "code",
   "execution_count": 27,
   "metadata": {},
   "outputs": [],
   "source": [
    "id_list = search_results['IdList']\n",
    "#I only want the id list because this is where the dataresides\n",
    "handle.close\n",
    "# close the session!\n",
    "\n",
    "# print(id_list)\n",
    "#     #print to check\n",
    "\n",
    "# Create efetch object to fetch sequences\n",
    "efetch_handle = Entrez.efetch(db=\"protein\", id=\",\".join(id_list), rettype=\"fasta\", retmode=\"text\")\n",
    "#efetch sends a request to the Entrez database to retrieve data\n",
    "# where the list of IDs retrieved from the previous 'esearch' call joined by commas, \n",
    "fasta_records = efetch_handle.read()\n",
    "#reads the data returned by the efetch request as a string\n",
    "efetch_handle.close()\n",
    "\n",
    "# print(fasta_records)\n",
    "# #print to check\n",
    "\n",
    "outfile = r'C:\\Users\\tiffa\\OneDrive\\Desktop\\Masters in Bioinformatics\\Problem Solving\\Homeworks\\BiopythonHW\\biopython_out.txt'\n",
    "#define our ouput file path\n",
    "# Output efetch query to a file\n",
    "file_out = open(outfile, 'w')\n",
    "#open our file in writing mode\n",
    "file_out.write(fasta_records)\n",
    "#write out the file records\n",
    "file_out.close()\n",
    "# Remember to close the file!"
   ]
  },
  {
   "cell_type": "code",
   "execution_count": 28,
   "metadata": {},
   "outputs": [
    {
     "name": "stdout",
     "output_type": "stream",
     "text": [
      "NP_031610.1 epithelial discoidin domain-containing receptor 1 isoform 1 precursor [Mus musculus]\n",
      "sp|P16234.1|PGFRA_HUMAN RecName: Full=Platelet-derived growth factor receptor alpha; Short=PDGF-R-alpha; Short=PDGFR-alpha; AltName: Full=Alpha platelet-derived growth factor receptor; AltName: Full=Alpha-type platelet-derived growth factor receptor; AltName: Full=CD140 antigen-like family member A; AltName: Full=CD140a antigen; AltName: Full=Platelet-derived growth factor alpha receptor; AltName: Full=Platelet-derived growth factor receptor 2; Short=PDGFR-2; AltName: CD_antigen=CD140a; Flags: Precursor\n",
      "NP_001411800.1 serine/threonine-protein phosphatase 2A catalytic subunit beta isoform isoform 2 [Mus musculus]\n",
      "NP_001411570.1 epithelial discoidin domain-containing receptor 1 isoform 2 precursor [Mus musculus]\n",
      "NP_001411569.1 epithelial discoidin domain-containing receptor 1 isoform 2 precursor [Mus musculus]\n",
      "NP_001411562.1 epithelial discoidin domain-containing receptor 1 isoform 1 precursor [Mus musculus]\n",
      "NP_001411564.1 epithelial discoidin domain-containing receptor 1 isoform 1 precursor [Mus musculus]\n",
      "NP_001411566.1 epithelial discoidin domain-containing receptor 1 isoform 2 precursor [Mus musculus]\n",
      "NP_001411568.1 epithelial discoidin domain-containing receptor 1 isoform 2 precursor [Mus musculus]\n",
      "NP_766550.1 epithelial discoidin domain-containing receptor 1 isoform 2 precursor [Mus musculus]\n",
      "NP_059070.1 serine/threonine-protein phosphatase 2A catalytic subunit beta isoform isoform 1 [Mus musculus]\n",
      "NP_001185760.1 epithelial discoidin domain-containing receptor 1 isoform 1 precursor [Mus musculus]\n",
      "NP_001185762.1 epithelial discoidin domain-containing receptor 1 isoform 1 precursor [Mus musculus]\n",
      "sp|Q9NYL2.3|M3K20_HUMAN RecName: Full=Mitogen-activated protein kinase kinase kinase 20; AltName: Full=Human cervical cancer suppressor gene 4 protein; Short=HCCS-4; AltName: Full=Leucine zipper- and sterile alpha motif-containing kinase; AltName: Full=MLK-like mitogen-activated protein triple kinase; AltName: Full=Mitogen-activated protein kinase kinase kinase MLT; AltName: Full=Mixed lineage kinase 7; AltName: Full=Mixed lineage kinase-related kinase; Short=MLK-related kinase; Short=MRK; AltName: Full=Sterile alpha motif- and leucine zipper-containing kinase AZK\n",
      "pdb|2Z60|A Chain A, Proto-oncogene tyrosine-protein kinase ABL1\n",
      "pdb|2QOH|B Chain B, Proto-oncogene tyrosine-protein kinase ABL1\n",
      "pdb|2QOH|A Chain A, Proto-oncogene tyrosine-protein kinase ABL1\n",
      "pdb|3KFA|B Chain B, Tyrosine-protein kinase ABL1\n",
      "pdb|3KFA|A Chain A, Tyrosine-protein kinase ABL1\n",
      "pdb|3KF4|B Chain B, Tyrosine-protein kinase ABL1\n"
     ]
    }
   ],
   "source": [
    "# SeqIO module is already imported from above\n",
    "# and use the SeqIO parse method to grab the definition line of fasta sequence \n",
    "# Code is based off of the notes given to us\n",
    "\n",
    "firstLinesFile = SeqIO.parse(outfile, \"fasta\")\n",
    "# Using the description method I can print out each definition line of the fasta file\n",
    "for line in firstLinesFile:\n",
    "    print(line.description)\n",
    "\n",
    "#the code snippet below will create a list of my definition lines, need to comment out previous code for the list to work.\n",
    "definitionLineList = [x.description for x in firstLinesFile]\n"
   ]
  },
  {
   "cell_type": "code",
   "execution_count": 29,
   "metadata": {},
   "outputs": [
    {
     "name": "stdout",
     "output_type": "stream",
     "text": [
      "{'Count': '1210', 'RetMax': '100', 'RetStart': '0', 'IdList': ['38587692', '38538381', '38532120', '38461040', '38450706', '38388649', '38388466', '38387803', '38383841', '38333295', '38331886', '38290200', '38281820', '38273156', '38226405', '38225990', '38202280', '38151389', '38104036', '38094101', '38084162', '38012435', '38006642', '37971354', '37932634', '37914238', '37893474', '37874093', '37873791', '37873185', '37838535', '37721280', '37711100', '37675820', '37627189', '37627140', '37625952', '37572228', '37561957', '37554059', '37479802', '37460041', '37438208', '37409118', '37363972', '37356998', '37354090', '37305536', '37230027', '37194065', '37150084', '37137777', '37133687', '37129800', '37127876', '37121168', '37091188', '37069127', '37065876', '37006069', '36963756', '36949176', '36941833', '36934065', '36913345', '36824461', '36741035', '36717298', '36709147', '36703773', '36696600', '36658586', '36624161', '36580008', '36557263', '36542767', '36524116', '36479203', '36402993', '36376516', '36370466', '36291806', '36283251', '36261247', '36248007', '36204843', '36175789', '36135075', '36109747', '36106102', '36094045', '36079767', '36044785', '36040480', '35999259', '35979529', '35964686', '35932695', '35932628', '35920965'], 'TranslationSet': [{'From': 'disease', 'To': '\"disease\"[MeSH Terms] OR \"disease\"[All Fields] OR \"diseases\"[All Fields] OR \"disease\\'s\"[All Fields] OR \"diseased\"[All Fields]'}, {'From': 'Nilotinib', 'To': '\"nilotinib\"[Supplementary Concept] OR \"nilotinib\"[All Fields] OR \"nilotinib\\'s\"[All Fields]'}], 'QueryTranslation': '(\"disease\"[MeSH Terms] OR \"disease\"[All Fields] OR \"diseases\"[All Fields] OR \"disease s\"[All Fields] OR \"diseased\"[All Fields]) AND (\"nilotinib\"[Supplementary Concept] OR \"nilotinib\"[All Fields])'}\n"
     ]
    }
   ],
   "source": [
    "# Create a esearch object where the query parameters are 'db' is pubmed, retmax = 100, term=\"disease AND Nilotinib\"\n",
    "\n",
    "pubmed_search_handle = Entrez.esearch(db=\"pubmed\", retmax=100, term=\"disease AND Nilotinib\")\n",
    "#esearch query for pubmeb database\n",
    "#save it as an object to pubmed_search_handle\n",
    "\n",
    "pubmed_search_results = Entrez.read(pubmed_search_handle)\n",
    "#similar to above capture the returned data from the esearch\n",
    "print(pubmed_search_results)\n",
    "\n",
    "pubmed_search_handle.close()\n",
    "#dont forget to close out!"
   ]
  },
  {
   "cell_type": "code",
   "execution_count": 30,
   "metadata": {},
   "outputs": [],
   "source": [
    "# Use the \"IdList\"  as a parameter for the efetch object. \n",
    "pubmed_id_list = pubmed_search_results[\"IdList\"]\n",
    "#create an id list from the search results\n",
    "\n",
    "pubmed_efetch_handle = Entrez.efetch(db=\"pubmed\", id=\",\".join(pubmed_id_list), rettype=\"abstract\", retmode=\"text\")\n",
    "#create efetch handle object using the join method and parameters that are specified in part 9\n",
    "\n",
    "pubmed_records = pubmed_efetch_handle.read()\n",
    "#capture this data from the efetch\n",
    "pubmed_efetch_handle.close()\n",
    "#close the handle\n",
    "\n",
    "outfile = r'C:\\Users\\tiffa\\OneDrive\\Desktop\\Masters in Bioinformatics\\Problem Solving\\Homeworks\\BiopythonHW\\pubmed_out.txt'\n",
    "#specify file path\n",
    "\n",
    "file_out = open(outfile, 'w', encoding=\"utf-8\")\n",
    "#open file for writin\n",
    "# I was getting a unicode error and I needed to add 'encoding=\"utf-8\" to allow my file to write out\n",
    "\n",
    "\n",
    "file_out.write(pubmed_records)\n",
    "#write out the pubmed records\n",
    "file_out.close()\n",
    "#don't forget to close the file!"
   ]
  }
 ],
 "metadata": {
  "kernelspec": {
   "display_name": "base",
   "language": "python",
   "name": "python3"
  },
  "language_info": {
   "codemirror_mode": {
    "name": "ipython",
    "version": 3
   },
   "file_extension": ".py",
   "mimetype": "text/x-python",
   "name": "python",
   "nbconvert_exporter": "python",
   "pygments_lexer": "ipython3",
   "version": "3.11.5"
  }
 },
 "nbformat": 4,
 "nbformat_minor": 2
}
