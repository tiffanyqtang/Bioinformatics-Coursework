{
 "cells": [
  {
   "cell_type": "markdown",
   "metadata": {},
   "source": [
    "The binding site for nilotinib on the tyrosine kinase protein ABL1 is primarily located within the ATP-binding pocket of the protein. \n",
    "Nilotinib is a type of tyrosine kinase inhibitor that specifically targets the BCR-ABL fusion protein, which is commonly found in \n",
    "certain types of leukemia, such as chronic myelogenous leukemia (CML). By binding to the ATP-binding pocket of the ABL1 kinase domain, nilotinib inhibits the tyrosine kinase activity of the protein, thereby interfering with the signaling pathways that promote cancer cell growth and proliferation.\n",
    "\n",
    "The ATP-binding pocket of the tyrosine kinase protein ABL1 contains a conserved sequence motif known as the \"hinge region.\"\n",
    "The amino acid sequence within the ATP-binding pocket of the ABL1 kinase domain includes residues that are critical for ATP\n",
    "binding and kinase activity. The specific amino acid sequence varies depending on the region within the ATP-binding pocket. \n",
    "Here is a general representation of the amino acid sequence motif within the ATP-binding pocket of tyrosine kinase proteins like ABL1:\n",
    "\n",
    "GXGXXG (N/C)..... (D/E)\n",
    "\n",
    "In this motif:\n",
    "- \"G\" represents glycine\n",
    "- \"X\" represents any amino acid\n",
    "- \"(N/C)\" indicates either asparagine (N) or cysteine (C)\n",
    "- \"(D/E)\" indicates either aspartic acid (D) or glutamic acid (E)\n",
    "\n",
    "This motif is characteristic of the ATP-binding pockets of many tyrosine kinases, including ABL1. \n",
    "The specific residues and their positions within the ABL1 ATP-binding pocket would need to be \n",
    "confirmed through structural analysis or experimental studies.  Create a regex that will find this binding domain."
   ]
  },
  {
   "cell_type": "code",
   "execution_count": 1,
   "metadata": {},
   "outputs": [],
   "source": [
    "import re\n",
    "\n",
    "ABL1 = \"\"\">pdb|3QRK|A Chain A, Tyrosine-protein kinase ABL1\n",
    "TSMDPSSPNYDKWEMERTDITMKHKLGGGQYGEVYEGVWKKYSLTVAVKTLKEDTMEVEEFLKEAAVMKE\n",
    "IKHPNLVQLLGVCTREPPFYIITEFMTYGNLLDYLRECNRQEVNAVVLLYMATQISSAMEYLEKKNFIHR\n",
    "DLAARNCLVGENHLVKVADFGLSRLMTGDTYTAHAGAKFPIKWTAPESLAYNKFSIKSDVWAFGVLLWEI\n",
    "ATYGMSPYPGIDLSQVYELLEKDYRMERPEGCPEKVYELMRACWQWNPSDRPSFAEIHQAFETMFQE\n",
    "\n",
    ">pdb|3QRJ|B Chain B, Tyrosine-protein kinase ABL1\n",
    "TSMDPSSPNYDKWEMERTDITMKHKLGGGQYGEVYEGVWKKYSLTVAVKTLKEDTMEVEEFLKEAAVMKE\n",
    "IKHPNLVQLLGVCTREPPFYIIIEFMTYGNLLDYLRECNRQEVNAVVLLYMATQISSAMEYLEKKNFIHR\n",
    "DLAARNCLVGENHLVKVADFGLSRLMTGDTYTAHAGAKFPIKWTAPESLAYNKFSIKSDVWAFGVLLWEI\n",
    "ATYGMSPYPGIDLSQVYELLEKDYRMERPEGCPEKVYELMRACWQWNPSDRPSFAEIHQAFETMFQE\n",
    "\n",
    ">pdb|3QRJ|A Chain A, Tyrosine-protein kinase ABL1\n",
    "TSMDPSSPNYDKWEMERTDITMKHKLGGGQYGEVYEGVWKKYSLTVAVKTLKEDTMEVEEFLKEAAVMKE\n",
    "IKHPNLVQLLGVCTREPPFYIIIEFMTYGNLLDYLRECNRQEVNAVVLLYMATQISSAMEYLEKKNFIHR\n",
    "DLAARNCLVGENHLVKVADFGLSRLMTGDTYTAHAGAKFPIKWTAPESLAYNKFSIKSDVWAFGVLLWEI\n",
    "ATYGMSPYPGIDLSQVYELLEKDYRMERPEGCPEKVYELMRACWQWNPSDRPSFAEIHQAFETMFQE\n",
    "\n",
    ">pdb|3QRI|B Chain B, Tyrosine-protein kinase ABL1\n",
    "TSMDPSSPNYDKWEMERTDITMKHKLGGGQYGEVYEGVWKKYSLTVAVKTLKEDTMEVEEFLKEAAVMKE\n",
    "IKHPNLVQLLGVCTREPPFYIITEFMTYGNLLDYLRECNRQEVNAVVLLYMATQISSAMEYLEKKNFIHR\n",
    "DLAARNCLVGENHLVKVADFGLSRLMTGDTYTAHAGAKFPIKWTAPESLAYNKFSIKSDVWAFGVLLWEI\n",
    "ATYGMSPYPGIDLSQVYELLEKDYRMERPEGCPEKVYELMRACWQWNPSDRPSFAEIHQAFETMFQE\n",
    "\n",
    ">pdb|3QRI|A Chain A, Tyrosine-protein kinase ABL1\n",
    "TSMDPSSPNYDKWEMERTDITMKHKLGGGQYGEVYEGVWKKYSLTVAVKTLKEDTMEVEEFLKEAAVMKE\n",
    "IKHPNLVQLLGVCTREPPFYIITEFMTYGNLLDYLRECNRQEVNAVVLLYMATQISSAMEYLEKKNFIHR\n",
    "DLAARNCLVGENHLVKVADFGLSRLMTGDTYTAHAGAKFPIKWTAPESLAYNKFSIKSDVWAFGVLLWEI\n",
    "ATYGMSPYPGIDLSQVYELLEKDYRMERPEGCPEKVYELMRACWQWNPSDRPSFAEIHQAFETMFQE\n",
    "\n",
    ">pdb|3EGU|A Chain A, Proto-oncogene tyrosine-protein kinase ABL1\n",
    "MENDPNLFVALYDFVASGDNTLSITKGEKLRVLGYNHNGEWCEAQTKNGQGWVPSAYITPVNS\n",
    "\n",
    ">pdb|3CS9|D Chain D, Proto-oncogene tyrosine-protein kinase ABL1\n",
    "GAMDPSPNYDKWEMERTDITMKHKLGGGQYGEVYEGVWKKYSLTVAVKTLKEDTMEVEEFLKEAAVMKEI\n",
    "KHPNLVQLLGVCTREPPFYIITEFMTYGNLLDYLRECNRQEVNAVVLLYMATQISSAMEYLEKKNFIHRD\n",
    "LAARNCLVGENHLVKVADFGLSRLMTGDTYTAHAGAKFPIKWTAPESLAYNKFSIKSDVWAFGVLLWEIA\n",
    "TYGMSPYPGIDLSQVYELLEKDYRMERPEGCPEKVYELMRACWQWNPSDRPSFAEIHQAFETMFQES\n",
    "\n",
    ">pdb|3CS9|C Chain C, Proto-oncogene tyrosine-protein kinase ABL1\n",
    "GAMDPSPNYDKWEMERTDITMKHKLGGGQYGEVYEGVWKKYSLTVAVKTLKEDTMEVEEFLKEAAVMKEI\n",
    "KHPNLVQLLGVCTREPPFYIITEFMTYGNLLDYLRECNRQEVNAVVLLYMATQISSAMEYLEKKNFIHRD\n",
    "LAARNCLVGENHLVKVADFGLSRLMTGDTYTAHAGAKFPIKWTAPESLAYNKFSIKSDVWAFGVLLWEIA\n",
    "TYGMSPYPGIDLSQVYELLEKDYRMERPEGCPEKVYELMRACWQWNPSDRPSFAEIHQAFETMFQES\n",
    "\n",
    ">pdb|3CS9|B Chain B, Proto-oncogene tyrosine-protein kinase ABL1\n",
    "GAMDPSPNYDKWEMERTDITMKHKLGGGQYGEVYEGVWKKYSLTVAVKTLKEDTMEVEEFLKEAAVMKEI\n",
    "KHPNLVQLLGVCTREPPFYIITEFMTYGNLLDYLRECNRQEVNAVVLLYMATQISSAMEYLEKKNFIHRD\n",
    "LAARNCLVGENHLVKVADFGLSRLMTGDTYTAHAGAKFPIKWTAPESLAYNKFSIKSDVWAFGVLLWEIA\n",
    "TYGMSPYPGIDLSQVYELLEKDYRMERPEGCPEKVYELMRACWQWNPSDRPSFAEIHQAFETMFQES\n",
    "\n",
    ">pdb|3CS9|A Chain A, Proto-oncogene tyrosine-protein kinase ABL1\n",
    "GAMDPSPNYDKWEMERTDITMKHKLGGGQYGEVYEGVWKKYSLTVAVKTLKEDTMEVEEFLKEAAVMKEI\n",
    "KHPNLVQLLGVCTREPPFYIITEFMTYGNLLDYLRECNRQEVNAVVLLYMATQISSAMEYLEKKNFIHRD\n",
    "LAARNCLVGENHLVKVADFGLSRLMTGDTYTAHAGAKFPIKWTAPESLAYNKFSIKSDVWAFGVLLWEIA\n",
    "TYGMSPYPGIDLSQVYELLEKDYRMERPEGCPEKVYELMRACWQWNPSDRPSFAEIHQAFETMFQES\n",
    "\"\"\""
   ]
  },
  {
   "cell_type": "markdown",
   "metadata": {},
   "source": [
    "I am defining TyrKin and ABL1 by the two files attached with the homework. "
   ]
  },
  {
   "cell_type": "code",
   "execution_count": 2,
   "metadata": {},
   "outputs": [],
   "source": [
    "TyrKin = \"\"\">WP_329174884.1 MULTISPECIES: diacylglycerol kinase family protein [unclassified Streptomyces]\n",
    "MRALLVVNPAATTTSARVRDVISTALASDLKLEVATTEYRGHARDLARRAVEGGEVELVVSLGGDGTVNE\n",
    "IVNGLLHHGPDPDRLPQLAVVPGGSTNVFARALGLPNDAVEATGALLDALRAGSSRTVGLGLVSGTPGTE\n",
    "DEGVPDRWFTFCAGLGFDAGVVGRVEQQRELGKRSTHALYLRQVARQFVADQHRRHGTITLERPGEEPVA\n",
    "GLMTAIVCNTAPWTYLGNRPVYASPDASFDTALDLLGVSKMSTLSGTRYAAQLLRSTPERGPRGKHTVAL\n",
    "HDLTDFTLQSQAALPFQVDGDHLGLRTSASFTGVRRALRVIV\n",
    "\n",
    ">WP_298819651.1 CpsD/CapB family tyrosine-protein kinase [Chloroflexus sp.]\n",
    "MFGWLKNKTNTTVADPPLVIETADGALRRAFAGEQIGQLRRMLTDLLVGQRLPNRIGFTSALRNEGVTCI\n",
    "TLASAVTLAHDTGKRVCVVELNWVAPGMLANLRPLATPEVKSKRKAAQPEEVAPPLPVLPGVADVLRGQA\n",
    "TLDETLLATNYAGLRLLPAGVAALEQRPLLARGTELRNLLDHLNTHFDYVLLDLPAVLETSDTLALAALA\n",
    "TAYAMVVRHGVTPVTEVRRALNDLQHVPVLGVILNQAHIATPRWIHRLIPQE\n",
    "\n",
    ">WP_298815715.1 CpsD/CapB family tyrosine-protein kinase [Chloroflexus sp.]\n",
    "MLVTSSPEQVLITLREPASAAAEAYRTLRTNILFSSLDKPIHTLLLTAAEPTPEKSLTAANLAVTMAQAE\n",
    "QRVLLVDCDLRQPMLHTIFGLSNEHGLTSSILDQDAPLAIQPTEVAGLSLLPSGPLPPRPADLLGSRRME\n",
    "HLLARLRQTADIVIFDTPPVQNVTDALVLATRVDGVLLVVQAGRSRRDRVREARQKLEKVKANVLGVVLS\n",
    "GART\n",
    "\n",
    ">WP_298003881.1 CpsD/CapB family tyrosine-protein kinase, partial [Anaerolinea sp.]\n",
    "SPVTESFRSLRTNVRYASVDHPIRVLMVTSPTPEDGKTTVAINLAVVIAQSGNRCVLIDSDLRRPRIHKI\n",
    "MGLDNRQGLSGLFIQNPLSLNGTIQQTRLETLKVIPSGGTPPTPSELLGSRKMKEIVEAVANDTDMIILD\n",
    "TPPVLSVTDAAVLSPLVDGVLLVVKVGTTKQSALIQAVEQLQQVNARILGVVVNGISPKNSHYYYRNYAY\n",
    "YQYYYYGDGGNVKKKRKSAVSEPSSQPASINPPSKPISRQ\n",
    "\n",
    ">WP_288310007.1 diacylglycerol kinase family protein [Prevotella pectinovora]\n",
    "MPQKKIAFIMNPISGTVKKAGIPKLIDEYLDKDTFSYSILNTEYAGHATLLARKACEDNCDVVVAVGGDG\n",
    "TINEIGRALIDTNTAMGIIPCGSGNGLARHLMLPMDIKKCIMIINKCMTHDLDYGVIDGHPFFCTCGMGF\n",
    "DAYISMRFAEAGKRGPVTYLENILKSGLKYEAEEYTIEAEEIGTIHKRAYLVSCANASQYGNNAYIAPQA\n",
    "SMSDGLLDVIIMEPFDMIDAPQISIDMFNKTINKNPKVKTFKSSHILVHRKNEGVIHYDGDPVIAGKDID\n",
    "ITLHHKGIKIVVNPEADKSRRKPNMVQNAFCDLFNDIYAVRSDITKQGKHIQTINKLLLKKLNK\n",
    "\n",
    ">WP_286828957.1 MULTISPECIES: diacylglycerol kinase family protein [Kordiimonas]\n",
    "MSERVAIIRNRFAGQGKSSLVDRIAEKLRRGGQHVRMLDTEYAGHATELATKIAATGEADVIVAAGGDGT\n",
    "IREVAEGAYGHKVPVGIIPAGSANVLARELGYMKSGQVSARHVANALLSRDIVDLYPFEVERDGRVQLGL\n",
    "CWVGVGFDAEVLRNVSPSLKEKIGRASFVPAIIQALVGDSSLPDITWHMHRNTKGTCGWALLSNIRRYAG\n",
    "PFIVTKKTTYNSHGLACLMSQGHGAWPRILDQLAIGLRRFDKRAGVWVLEKATLHLGSDQTPVQMDGDFL\n",
    "GFGEVAVTPKKHPLPFRAFVRR\n",
    "\n",
    ">WP_283268727.1 MULTISPECIES: diacylglycerol kinase family protein [unclassified Acinetobacter]\n",
    "MSQNLRPLSLIYNQKSGFHAAQQDEQYERLMTLWTQYGFEIQVFELNQQVNFDEMMTSVLSRHQQADLRG\n",
    "VVVAAGGDGTLNAVAKKLMHTDIPMGIMPLGTFNYVARALNIPIDLGLAAEVIATGIEHKVHVATLNDQI\n",
    "YLNNASLGLYPLFIKKRELYNQRFGRFPLNAYTSGLDVLLREHKSLKLAVTVDGQKYPVATPLVFFGNNQ\n",
    "LQLSDMKLRIAECAANGKLAGVVVAKSDRLSLLKMLWTLIQGKIDQASDVYSFCAEQIQVDCKKKKLTVA\n",
    "VDGELMEMQTPLKFAVEKSALKVMVPNAVASV\n",
    "\n",
    ">WP_248460666.1 MULTISPECIES: diacylglycerol kinase family protein [Acetobacteraceae]\n",
    "MQKLMNVVQSALIHNPNSRKNAQDKGQFVRMARQKMGDFCVSALNDSHLPAHLTELKSRGVDLIAISGGD\n",
    "GTVSACLTAIASVYHDCPLPSVAILPSGNTNLIAGDVGFGLHGEAAIDRLLRPEGLKSCIRTPIRLSWPD\n",
    "GERPSVLGMFGGCTGYARAVRIAHSPNVLKFAPHDLAVFFTLFSSMASLLFRRSRHSWMNGDRLSWSAEG\n",
    "TGLPVPGREGRSFLFMTTALEKLSHGIWPFWNEDTSRDGFHFLDVHAFPEALPKACFNLLRGRAPEWLRA\n",
    "HKDYTSATARAMQLETDSDFVLDGEVFPVSAGGRLKLEEGPAFRFVHV\n",
    "\n",
    ">WP_202283271.1 MULTISPECIES: CpsD/CapB family tyrosine-protein kinase [Bacillus cereus group]\n",
    "MFGRKKRKPLRQLITHKEPKSRITEQYRNIRTNIEFTSIDNHIRSIVVTSANPGEGKTTTISNLAVVFGQ\n",
    "QGKKVLLIGADLRKPTIQNLFAVHSPNGLTNLLSGQAKFMQCIQKTDIENVYVMAAGPIPPNPAELLGSR\n",
    "AMDELLLEAYNMFDIILIDTPPVLAVTDAQILANKCDGSVLVVRSEKTEKDKIVKTKQILDKASGKLLGV\n",
    "VLNDKREEKGQYGYY\n",
    "\n",
    ">WP_134995977.1 CpsD/CapB family tyrosine-protein kinase [Bacillus cereus]\n",
    "MALNLFKKKKNHRQRRQLIAHQQPKSPISEQYRNIRTNIEFAAIDTNLHSLMVTSANPSEGKTTTTANMA\n",
    "VVFAQQGKKVLLIDADMRKPAMHQMFQVDNIFGLTNVLTNSERLEKCVQTTSVDNLHFLACGPIPPNPAE\n",
    "LLGSKSMKELLGQAYSIYDLVIFDMPPILAVTDAQIMANVCDASILVVRSESTEKETAVKAKGLLESAKG\n",
    "KLLGVVLNDREREEGLYYYYGAN\n",
    "\n",
    "\"\"\""
   ]
  },
  {
   "cell_type": "markdown",
   "metadata": {},
   "source": [
    "Below is the search for the orignial pattern (later noted to be incorrect in lecture on 3/26)"
   ]
  },
  {
   "cell_type": "code",
   "execution_count": 3,
   "metadata": {},
   "outputs": [
    {
     "name": "stdout",
     "output_type": "stream",
     "text": [
      "There are no matches\n",
      "There are no matches\n"
     ]
    }
   ],
   "source": [
    "pattern = r'G.G.{2}G[NC].{0,5}[DE]' \n",
    "#GXGXXG(N/C).....(D/E), from the original question\n",
    "#G- matches the character G\n",
    "#. - matches character except newline\n",
    "#G- matches the character G\n",
    "#. {2}- matches character except newline, twice\n",
    "#G- matches the character G\n",
    "#[NC]- matches either N or C\n",
    "#.{0,5}- matches any character except newline 0-5 times\n",
    "#[DE]- matches either D or E\n",
    "match = re.search(pattern, TyrKin, flags=re.DOTALL)\n",
    "if match:\n",
    "    print('There is a match')\n",
    "else:\n",
    "    print('There are no matches')\n",
    "\n",
    "match = re.search(pattern, ABL1, flags=re.DOTALL)\n",
    "if match:\n",
    "    print('There is a match')\n",
    "else:\n",
    "    print('There are no matches')"
   ]
  },
  {
   "cell_type": "code",
   "execution_count": 4,
   "metadata": {},
   "outputs": [],
   "source": [
    "matches = re.finditer(pattern, ABL1)\n",
    "#using finditer to find and iterate over matches over multiple lines\n",
    "\n",
    "for match in matches:\n",
    "    print(f'match {match.group()}\\n')\n",
    "\n"
   ]
  },
  {
   "cell_type": "code",
   "execution_count": 5,
   "metadata": {},
   "outputs": [],
   "source": [
    "matches = re.finditer(pattern, TyrKin)\n",
    "#using finditer to find and iterate over matches over multiple lines\n",
    "\n",
    "for match in matches:\n",
    "    print(f'match {match.group()}\\n')"
   ]
  },
  {
   "cell_type": "markdown",
   "metadata": {},
   "source": [
    "Here below is the corrected pattern provided after the lecture on 3/26"
   ]
  },
  {
   "cell_type": "code",
   "execution_count": 11,
   "metadata": {},
   "outputs": [
    {
     "name": "stdout",
     "output_type": "stream",
     "text": [
      "There are no matches\n",
      "There are no matches\n"
     ]
    }
   ],
   "source": [
    "#GXXXAGG is the given pattern\n",
    "#in the same manner as above I will define my regex pattern \n",
    "corrPattern = r'G...AG{2}'\n",
    "match = re.search(corrPattern, TyrKin)\n",
    "if match:\n",
    "    print('There is a match')\n",
    "else:\n",
    "    print('There are no matches')\n",
    "\n",
    "match = re.search(corrPattern, ABL1)\n",
    "if match:\n",
    "    print('There is a match')\n",
    "else:\n",
    "    print('There are no matches')\n",
    "\n",
    "#still do not appear to be any matches. "
   ]
  }
 ],
 "metadata": {
  "kernelspec": {
   "display_name": "base",
   "language": "python",
   "name": "python3"
  },
  "language_info": {
   "codemirror_mode": {
    "name": "ipython",
    "version": 3
   },
   "file_extension": ".py",
   "mimetype": "text/x-python",
   "name": "python",
   "nbconvert_exporter": "python",
   "pygments_lexer": "ipython3",
   "version": "3.11.5"
  }
 },
 "nbformat": 4,
 "nbformat_minor": 2
}
