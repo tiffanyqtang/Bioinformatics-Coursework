{
 "cells": [
  {
   "cell_type": "markdown",
   "metadata": {},
   "source": [
    "Perform the following operations and submit your code(as an archived/compressed file).\n",
    "s = 'AASDH 5\n",
    "ABCA8 3\n",
    "ABCB4 3\n",
    "ABCB5 4\n",
    "ABCB7 4\n",
    "ABCB8 4\n",
    "ABCB9 5\n",
    "ABCC1 5\n",
    "ABCC9 3\n",
    "ABCG1 5\n",
    "ABHD11 6\n",
    "ABHD12B 3\n",
    "ABI1 11\n",
    "ABI2 5\n",
    "ABL2 8\n",
    "ABLIM1 3\n",
    "ABLIM2 8\n",
    "ABR 5\n",
    "ABTB1 3\n",
    "ACACA 4\n",
    "ACAD10 3'\n",
    "1. Split the string. (0.5pt)\n",
    "\n",
    "2. Remove the newline characters.(0.5pt)\n",
    "\n",
    "3. Turn it into a dictionary. (1.5pt)\n",
    "\n",
    "4. Filter the dictionary based on the condition that the value in each item is '3'. (1.5pt)\n",
    "\n",
    "5. Create a new dictionary.(0.5pt)\n",
    "\n",
    "6. Print new dictionary.(0.5pt)"
   ]
  },
  {
   "cell_type": "code",
   "execution_count": 22,
   "metadata": {},
   "outputs": [],
   "source": [
    "#Here we are assigning the variable s with a string\n",
    "s = \"\"\"AASDH 5\n",
    "ABCA8 3\n",
    "ABCB4 3\n",
    "ABCB5 4\n",
    "ABCB7 4\n",
    "ABCB8 4\n",
    "ABCB9 5\n",
    "ABCC1 5\n",
    "ABCC9 3\n",
    "ABCG1 5\n",
    "ABHD11 6\n",
    "ABHD12B 3\n",
    "ABI1 11\n",
    "ABI2 5\n",
    "ABL2 8\n",
    "ABLIM1 3\n",
    "ABLIM2 8\n",
    "ABR 5\n",
    "ABTB1 3\n",
    "ACACA 4\n",
    "ACAD10 3\"\"\""
   ]
  },
  {
   "cell_type": "markdown",
   "metadata": {},
   "source": [
    "When I use the split method it also removes the delimeter and returns back a list of your split items. "
   ]
  },
  {
   "cell_type": "code",
   "execution_count": 23,
   "metadata": {},
   "outputs": [
    {
     "name": "stdout",
     "output_type": "stream",
     "text": [
      "['AASDH 5', 'ABCA8 3', 'ABCB4 3', 'ABCB5 4', 'ABCB7 4', 'ABCB8 4', 'ABCB9 5', 'ABCC1 5', 'ABCC9 3', 'ABCG1 5', 'ABHD11 6', 'ABHD12B 3', 'ABI1 11', 'ABI2 5', 'ABL2 8', 'ABLIM1 3', 'ABLIM2 8', 'ABR 5', 'ABTB1 3', 'ACACA 4', 'ACAD10 3']\n"
     ]
    }
   ],
   "source": [
    "#Here I am going to split the string at each newline '/n'\"\n",
    "splitS = s.split(\"\\n\")#splitS is of type list, which also effectively removes the newline character\n",
    "print(splitS)#checking to see the output"
   ]
  },
  {
   "cell_type": "markdown",
   "metadata": {},
   "source": [
    "Below I am going to use a list comprehension to split my list into a dictionary.\n",
    "I am splitting each line up by the space, the first variable in the line will be the dictionary key, the second will be the dictionary value."
   ]
  },
  {
   "cell_type": "code",
   "execution_count": 24,
   "metadata": {},
   "outputs": [
    {
     "name": "stdout",
     "output_type": "stream",
     "text": [
      "AASDH:5\n",
      "ABCA8:3\n",
      "ABCB4:3\n",
      "ABCB5:4\n",
      "ABCB7:4\n",
      "ABCB8:4\n",
      "ABCB9:5\n",
      "ABCC1:5\n",
      "ABCC9:3\n",
      "ABCG1:5\n",
      "ABHD11:6\n",
      "ABHD12B:3\n",
      "ABI1:11\n",
      "ABI2:5\n",
      "ABL2:8\n",
      "ABLIM1:3\n",
      "ABLIM2:8\n",
      "ABR:5\n",
      "ABTB1:3\n",
      "ACACA:4\n",
      "ACAD10:3\n"
     ]
    }
   ],
   "source": [
    "dictS = dict(line.split(' ') for line in splitS) \n",
    "\n",
    "for a, b in dictS.items(): #a print statement to check the output\n",
    "    print(f\"{a}:{b}\")"
   ]
  },
  {
   "cell_type": "markdown",
   "metadata": {},
   "source": [
    "Below I am going to create a dictionary of filtered items from the previous dictionary, where the only values are 3. I am creating the dictionary using list comprehension.\n",
    "\n",
    "I am printing it using a for loop. "
   ]
  },
  {
   "cell_type": "code",
   "execution_count": 28,
   "metadata": {},
   "outputs": [
    {
     "name": "stdout",
     "output_type": "stream",
     "text": [
      "ABCA8: 3\n",
      "ABCB4: 3\n",
      "ABCC9: 3\n",
      "ABHD12B: 3\n",
      "ABLIM1: 3\n",
      "ABTB1: 3\n",
      "ACAD10: 3\n"
     ]
    }
   ],
   "source": [
    "dictOnly3 = {key: value for key, value in dictS.items() if value == '3'}\n",
    "for a, b in dictOnly3.items():\n",
    "    print(f'{a}: {b}')"
   ]
  }
 ],
 "metadata": {
  "kernelspec": {
   "display_name": "base",
   "language": "python",
   "name": "python3"
  },
  "language_info": {
   "codemirror_mode": {
    "name": "ipython",
    "version": 3
   },
   "file_extension": ".py",
   "mimetype": "text/x-python",
   "name": "python",
   "nbconvert_exporter": "python",
   "pygments_lexer": "ipython3",
   "version": "3.11.5"
  }
 },
 "nbformat": 4,
 "nbformat_minor": 2
}
