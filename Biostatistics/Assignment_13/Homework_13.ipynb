{
 "cells": [
  {
   "cell_type": "markdown",
   "id": "324c9fa9-bc0f-40f6-ae5b-864ca67c6aaa",
   "metadata": {},
   "source": [
    "This is an important problem with political implications !\n",
    "Attached is an op-ed article from the washington post\n",
    "(https://www.washingtonpost.com/news/volokh-conspiracy/wp/2015/10/06/zero-correlation-between-state-homicide-rate-and-state-gun-laws/ )\n",
    "that claimed there was no correlation between gun-control and homicide rates.\n",
    "But this argument is based on faulty use (abuse) of statistics. You are\n",
    "going to prove it. \n",
    "\n",
    "Extract the data from the plot (gun_homicide_graph.jpg ,\n",
    "using Web Plot Digitizer (https://automeris.io/WebPlotDigitizer/ ),\n",
    "worth learning, as it will be useful in other real-life applications,\n",
    "(an example output is provided in here data_extracted_from_graph.csv.xlsx)"
   ]
  },
  {
   "cell_type": "markdown",
   "id": "f8d6647a-db96-40d7-acbb-6017707c7a16",
   "metadata": {},
   "source": [
    "**1)  How well does your extracted data files compare with the data in the\n",
    "excel file of the raw data. What would you use to compare the two sets of data ?**\n",
    "      "
   ]
  },
  {
   "cell_type": "code",
   "execution_count": 1,
   "id": "b2c6b668-a81a-4dc8-8e7e-e749bcac8287",
   "metadata": {},
   "outputs": [],
   "source": [
    "library(readxl) # to read the excel file\n",
    "library(energy) # for the distance correlation package"
   ]
  },
  {
   "cell_type": "code",
   "execution_count": 23,
   "id": "3d599bf5-2314-4904-a710-ab970a9715d1",
   "metadata": {},
   "outputs": [
    {
     "name": "stderr",
     "output_type": "stream",
     "text": [
      "\u001b[1m\u001b[22mNew names:\n",
      "\u001b[36m•\u001b[39m `` -> `...7`\n",
      "\u001b[36m•\u001b[39m `` -> `...8`\n",
      "\u001b[36m•\u001b[39m `` -> `...9`\n",
      "\u001b[36m•\u001b[39m `` -> `...10`\n",
      "\u001b[36m•\u001b[39m `` -> `...11`\n",
      "\u001b[36m•\u001b[39m `` -> `...12`\n",
      "\u001b[36m•\u001b[39m `` -> `...13`\n",
      "\u001b[36m•\u001b[39m `` -> `...15`\n",
      "\u001b[36m•\u001b[39m `` -> `...16`\n"
     ]
    },
    {
     "data": {
      "text/html": [
       "<table class=\"dataframe\">\n",
       "<caption>A tibble: 6 × 17</caption>\n",
       "<thead>\n",
       "\t<tr><th scope=col>Jurisdiction</th><th scope=col>Homicide rate</th><th scope=col>Gun accident rate</th><th scope=col>Sum</th><th scope=col>Brady score</th><th scope=col>Brady grade</th><th scope=col>...7</th><th scope=col>...8</th><th scope=col>...9</th><th scope=col>...10</th><th scope=col>...11</th><th scope=col>...12</th><th scope=col>...13</th><th scope=col>Nat'l Journal score</th><th scope=col>...15</th><th scope=col>...16</th><th scope=col>(Hidden colums G through M are the components of the National Journal score)</th></tr>\n",
       "\t<tr><th scope=col>&lt;chr&gt;</th><th scope=col>&lt;dbl&gt;</th><th scope=col>&lt;dbl&gt;</th><th scope=col>&lt;dbl&gt;</th><th scope=col>&lt;dbl&gt;</th><th scope=col>&lt;chr&gt;</th><th scope=col>&lt;dbl&gt;</th><th scope=col>&lt;dbl&gt;</th><th scope=col>&lt;dbl&gt;</th><th scope=col>&lt;dbl&gt;</th><th scope=col>&lt;dbl&gt;</th><th scope=col>&lt;dbl&gt;</th><th scope=col>&lt;dbl&gt;</th><th scope=col>&lt;dbl&gt;</th><th scope=col>&lt;lgl&gt;</th><th scope=col>&lt;dbl&gt;</th><th scope=col>&lt;chr&gt;</th></tr>\n",
       "</thead>\n",
       "<tbody>\n",
       "\t<tr><td>Alabama   </td><td>7.1</td><td>0.44</td><td>7.54</td><td> 3.5</td><td>D‐</td><td>0</td><td>0</td><td>0</td><td>0</td><td>0.5</td><td>0</td><td>0</td><td>0.5</td><td>NA</td><td>NA</td><td>Homicide rate: Proquest Statistical Abstract of the United States, 2015 (2012 data, from Justice Department)      </td></tr>\n",
       "\t<tr><td><span style=white-space:pre-wrap>Alaska    </span></td><td>4.1</td><td>0.00</td><td>4.10</td><td>-7.0</td><td>F </td><td>0</td><td>0</td><td>0</td><td>0</td><td>0.0</td><td>0</td><td>0</td><td>0.0</td><td>NA</td><td>NA</td><td>Brady score &amp; grade: http://www.bradycampaign.org/sites/default/files/SCGLM-Final10-spreads-points.pdf (2013 data)</td></tr>\n",
       "\t<tr><td><span style=white-space:pre-wrap>Arizona   </span></td><td>5.5</td><td>0.10</td><td>5.60</td><td>-8.0</td><td>F </td><td>0</td><td>0</td><td>0</td><td>0</td><td>0.0</td><td>0</td><td>0</td><td>0.0</td><td>NA</td><td>NA</td><td><span style=white-space:pre-wrap>Washington, D.C. Brady score &amp; grade: My own estimate, based on Brady's procedures, and likely an underestimate   </span></td></tr>\n",
       "\t<tr><td>Arkansas  </td><td>5.9</td><td>0.41</td><td>6.31</td><td> 1.0</td><td>F </td><td>0</td><td>0</td><td>0</td><td>0</td><td>0.5</td><td>1</td><td>0</td><td>1.5</td><td>NA</td><td>NA</td><td>Gun accident rate: CDC WISQARS Fatal Injury Reports, 1999-2013, for National, Regional, and States (2011-13 data) </td></tr>\n",
       "\t<tr><td>California</td><td>5.0</td><td>0.08</td><td>5.08</td><td>75.0</td><td>A‐</td><td>1</td><td>1</td><td>1</td><td>1</td><td>1.0</td><td>1</td><td>1</td><td>7.0</td><td>NA</td><td>NA</td><td>NA                                                                                                                </td></tr>\n",
       "\t<tr><td>Colorado  </td><td>3.1</td><td>0.18</td><td>3.28</td><td>14.5</td><td>C </td><td>0</td><td>1</td><td>0</td><td>0</td><td>0.5</td><td>0</td><td>0</td><td>1.5</td><td>NA</td><td>NA</td><td>NA                                                                                                                </td></tr>\n",
       "</tbody>\n",
       "</table>\n"
      ],
      "text/latex": [
       "A tibble: 6 × 17\n",
       "\\begin{tabular}{lllllllllllllllll}\n",
       " Jurisdiction & Homicide rate & Gun accident rate & Sum & Brady score & Brady grade & ...7 & ...8 & ...9 & ...10 & ...11 & ...12 & ...13 & Nat'l Journal score & ...15 & ...16 & (Hidden colums G through M are the components of the National Journal score)\\\\\n",
       " <chr> & <dbl> & <dbl> & <dbl> & <dbl> & <chr> & <dbl> & <dbl> & <dbl> & <dbl> & <dbl> & <dbl> & <dbl> & <dbl> & <lgl> & <dbl> & <chr>\\\\\n",
       "\\hline\n",
       "\t Alabama    & 7.1 & 0.44 & 7.54 &  3.5 & D‐ & 0 & 0 & 0 & 0 & 0.5 & 0 & 0 & 0.5 & NA & NA & Homicide rate: Proquest Statistical Abstract of the United States, 2015 (2012 data, from Justice Department)      \\\\\n",
       "\t Alaska     & 4.1 & 0.00 & 4.10 & -7.0 & F  & 0 & 0 & 0 & 0 & 0.0 & 0 & 0 & 0.0 & NA & NA & Brady score \\& grade: http://www.bradycampaign.org/sites/default/files/SCGLM-Final10-spreads-points.pdf (2013 data)\\\\\n",
       "\t Arizona    & 5.5 & 0.10 & 5.60 & -8.0 & F  & 0 & 0 & 0 & 0 & 0.0 & 0 & 0 & 0.0 & NA & NA & Washington, D.C. Brady score \\& grade: My own estimate, based on Brady's procedures, and likely an underestimate   \\\\\n",
       "\t Arkansas   & 5.9 & 0.41 & 6.31 &  1.0 & F  & 0 & 0 & 0 & 0 & 0.5 & 1 & 0 & 1.5 & NA & NA & Gun accident rate: CDC WISQARS Fatal Injury Reports, 1999-2013, for National, Regional, and States (2011-13 data) \\\\\n",
       "\t California & 5.0 & 0.08 & 5.08 & 75.0 & A‐ & 1 & 1 & 1 & 1 & 1.0 & 1 & 1 & 7.0 & NA & NA & NA                                                                                                                \\\\\n",
       "\t Colorado   & 3.1 & 0.18 & 3.28 & 14.5 & C  & 0 & 1 & 0 & 0 & 0.5 & 0 & 0 & 1.5 & NA & NA & NA                                                                                                                \\\\\n",
       "\\end{tabular}\n"
      ],
      "text/markdown": [
       "\n",
       "A tibble: 6 × 17\n",
       "\n",
       "| Jurisdiction &lt;chr&gt; | Homicide rate &lt;dbl&gt; | Gun accident rate &lt;dbl&gt; | Sum &lt;dbl&gt; | Brady score &lt;dbl&gt; | Brady grade &lt;chr&gt; | ...7 &lt;dbl&gt; | ...8 &lt;dbl&gt; | ...9 &lt;dbl&gt; | ...10 &lt;dbl&gt; | ...11 &lt;dbl&gt; | ...12 &lt;dbl&gt; | ...13 &lt;dbl&gt; | Nat'l Journal score &lt;dbl&gt; | ...15 &lt;lgl&gt; | ...16 &lt;dbl&gt; | (Hidden colums G through M are the components of the National Journal score) &lt;chr&gt; |\n",
       "|---|---|---|---|---|---|---|---|---|---|---|---|---|---|---|---|---|\n",
       "| Alabama    | 7.1 | 0.44 | 7.54 |  3.5 | D‐ | 0 | 0 | 0 | 0 | 0.5 | 0 | 0 | 0.5 | NA | NA | Homicide rate: Proquest Statistical Abstract of the United States, 2015 (2012 data, from Justice Department)       |\n",
       "| Alaska     | 4.1 | 0.00 | 4.10 | -7.0 | F  | 0 | 0 | 0 | 0 | 0.0 | 0 | 0 | 0.0 | NA | NA | Brady score &amp; grade: http://www.bradycampaign.org/sites/default/files/SCGLM-Final10-spreads-points.pdf (2013 data) |\n",
       "| Arizona    | 5.5 | 0.10 | 5.60 | -8.0 | F  | 0 | 0 | 0 | 0 | 0.0 | 0 | 0 | 0.0 | NA | NA | Washington, D.C. Brady score &amp; grade: My own estimate, based on Brady's procedures, and likely an underestimate    |\n",
       "| Arkansas   | 5.9 | 0.41 | 6.31 |  1.0 | F  | 0 | 0 | 0 | 0 | 0.5 | 1 | 0 | 1.5 | NA | NA | Gun accident rate: CDC WISQARS Fatal Injury Reports, 1999-2013, for National, Regional, and States (2011-13 data)  |\n",
       "| California | 5.0 | 0.08 | 5.08 | 75.0 | A‐ | 1 | 1 | 1 | 1 | 1.0 | 1 | 1 | 7.0 | NA | NA | NA                                                                                                                 |\n",
       "| Colorado   | 3.1 | 0.18 | 3.28 | 14.5 | C  | 0 | 1 | 0 | 0 | 0.5 | 0 | 0 | 1.5 | NA | NA | NA                                                                                                                 |\n",
       "\n"
      ],
      "text/plain": [
       "  Jurisdiction Homicide rate Gun accident rate Sum  Brady score Brady grade\n",
       "1 Alabama      7.1           0.44              7.54  3.5        D‐         \n",
       "2 Alaska       4.1           0.00              4.10 -7.0        F          \n",
       "3 Arizona      5.5           0.10              5.60 -8.0        F          \n",
       "4 Arkansas     5.9           0.41              6.31  1.0        F          \n",
       "5 California   5.0           0.08              5.08 75.0        A‐         \n",
       "6 Colorado     3.1           0.18              3.28 14.5        C          \n",
       "  ...7 ...8 ...9 ...10 ...11 ...12 ...13 Nat'l Journal score ...15 ...16\n",
       "1 0    0    0    0     0.5   0     0     0.5                 NA    NA   \n",
       "2 0    0    0    0     0.0   0     0     0.0                 NA    NA   \n",
       "3 0    0    0    0     0.0   0     0     0.0                 NA    NA   \n",
       "4 0    0    0    0     0.5   1     0     1.5                 NA    NA   \n",
       "5 1    1    1    1     1.0   1     1     7.0                 NA    NA   \n",
       "6 0    1    0    0     0.5   0     0     1.5                 NA    NA   \n",
       "  (Hidden colums G through M are the components of the National Journal score)                                      \n",
       "1 Homicide rate: Proquest Statistical Abstract of the United States, 2015 (2012 data, from Justice Department)      \n",
       "2 Brady score & grade: http://www.bradycampaign.org/sites/default/files/SCGLM-Final10-spreads-points.pdf (2013 data)\n",
       "3 Washington, D.C. Brady score & grade: My own estimate, based on Brady's procedures, and likely an underestimate   \n",
       "4 Gun accident rate: CDC WISQARS Fatal Injury Reports, 1999-2013, for National, Regional, and States (2011-13 data) \n",
       "5 NA                                                                                                                \n",
       "6 NA                                                                                                                "
      ]
     },
     "metadata": {},
     "output_type": "display_data"
    },
    {
     "data": {
      "text/html": [
       "<table class=\"dataframe\">\n",
       "<caption>A data.frame: 6 × 2</caption>\n",
       "<thead>\n",
       "\t<tr><th></th><th scope=col>Sum</th><th scope=col>Brady score</th></tr>\n",
       "\t<tr><th></th><th scope=col>&lt;dbl&gt;</th><th scope=col>&lt;dbl&gt;</th></tr>\n",
       "</thead>\n",
       "<tbody>\n",
       "\t<tr><th scope=row>1</th><td>5.065889</td><td>75.02203</td></tr>\n",
       "\t<tr><th scope=row>2</th><td>4.097795</td><td>70.00000</td></tr>\n",
       "\t<tr><th scope=row>3</th><td>4.395003</td><td>68.41410</td></tr>\n",
       "\t<tr><th scope=row>4</th><td>1.784129</td><td>60.22026</td></tr>\n",
       "\t<tr><th scope=row>5</th><td>2.081456</td><td>58.37004</td></tr>\n",
       "\t<tr><th scope=row>6</th><td>3.506703</td><td>65.77093</td></tr>\n",
       "</tbody>\n",
       "</table>\n"
      ],
      "text/latex": [
       "A data.frame: 6 × 2\n",
       "\\begin{tabular}{r|ll}\n",
       "  & Sum & Brady score\\\\\n",
       "  & <dbl> & <dbl>\\\\\n",
       "\\hline\n",
       "\t1 & 5.065889 & 75.02203\\\\\n",
       "\t2 & 4.097795 & 70.00000\\\\\n",
       "\t3 & 4.395003 & 68.41410\\\\\n",
       "\t4 & 1.784129 & 60.22026\\\\\n",
       "\t5 & 2.081456 & 58.37004\\\\\n",
       "\t6 & 3.506703 & 65.77093\\\\\n",
       "\\end{tabular}\n"
      ],
      "text/markdown": [
       "\n",
       "A data.frame: 6 × 2\n",
       "\n",
       "| <!--/--> | Sum &lt;dbl&gt; | Brady score &lt;dbl&gt; |\n",
       "|---|---|---|\n",
       "| 1 | 5.065889 | 75.02203 |\n",
       "| 2 | 4.097795 | 70.00000 |\n",
       "| 3 | 4.395003 | 68.41410 |\n",
       "| 4 | 1.784129 | 60.22026 |\n",
       "| 5 | 2.081456 | 58.37004 |\n",
       "| 6 | 3.506703 | 65.77093 |\n",
       "\n"
      ],
      "text/plain": [
       "  Sum      Brady score\n",
       "1 5.065889 75.02203   \n",
       "2 4.097795 70.00000   \n",
       "3 4.395003 68.41410   \n",
       "4 1.784129 60.22026   \n",
       "5 2.081456 58.37004   \n",
       "6 3.506703 65.77093   "
      ]
     },
     "metadata": {},
     "output_type": "display_data"
    }
   ],
   "source": [
    "# Given extracted data \n",
    "given_data <- read_excel(\"stategundata.xlsx\")\n",
    "\n",
    "# My extracted data\n",
    "tiff_data <- read.csv(\"tiff_extracted_from_graph.csv\", header = FALSE)\n",
    "colnames(tiff_data) <- c(\"Sum\", \"Brady score\") # rename cols\n",
    "head(given_data) # just to look \n",
    "head(tiff_data)\n",
    "# for the tiff_data, first column (X) is Homicides + fatal gun acidents per 100,000 people\n",
    "# second column (Y) is Brady campaign gun law score for state"
   ]
  },
  {
   "cell_type": "code",
   "execution_count": 36,
   "id": "39924232-2310-4379-8707-19399b5b1350",
   "metadata": {},
   "outputs": [
    {
     "data": {
      "image/png": "[encoded data removed]",
      "text/plain": [
       "plot without title"
      ]
     },
     "metadata": {
      "image/png": {
       "height": 420,
       "width": 420
      }
     },
     "output_type": "display_data"
    }
   ],
   "source": [
    "library(ggplot2)\n",
    "# # Trouble shooting code below, plotted each individually \n",
    "# plot1 <- ggplot(given_data, aes(x = Sum, y = `Brady score`)) +\n",
    "#   geom_point()\n",
    "\n",
    "# print(plot1)\n",
    "\n",
    "# plot2 <- ggplot(tiff_data, aes(x = V1, y = V2)) +\n",
    "#   geom_point()\n",
    "# print(plot2)\n",
    "# Both plot separately\n",
    "\n",
    "#Making a scatter plot and plotting both on the same graph\n",
    "combined_plot <-ggplot(given_data, aes(x= Sum, y =`Brady score`)) +\n",
    "    geom_point() + # plots given data in black\n",
    "    geom_point(data = tiff_data, color='red') +  #plots tiff extracted data in red\n",
    "    theme_minimal()\n",
    "print(combined_plot)\n"
   ]
  },
  {
   "cell_type": "markdown",
   "id": "7131ab56-424d-4347-b826-190dbcf405f4",
   "metadata": {},
   "source": [
    "From the scatter plots, it is evident that the extracted data closely mirrors the raw given data. The two datasets appear nearly identical, with very little variation between them."
   ]
  },
  {
   "cell_type": "markdown",
   "id": "6367804d-0c75-488e-aabf-e2424bb5b81f",
   "metadata": {},
   "source": [
    "      \n",
    "**2) Analyze the data (excel sheet with data is provided) using Pearson's\n",
    "correlation.**\n",
    "      "
   ]
  },
  {
   "cell_type": "code",
   "execution_count": 32,
   "id": "ef8a59f1-19fe-4496-8478-87d44c6c1424",
   "metadata": {},
   "outputs": [
    {
     "name": "stdout",
     "output_type": "stream",
     "text": [
      "[1] 0.03197742\n"
     ]
    }
   ],
   "source": [
    "pearson_corr <- cor(given_data$Sum, given_data$`Brady score`, method = \"pearson\")\n",
    "print(pearson_corr)"
   ]
  },
  {
   "cell_type": "markdown",
   "id": "6fb63cd9-c2a2-45bc-955c-7469a41c3726",
   "metadata": {},
   "source": [
    "A Pearson correlation coefficient of 0.0319 indicates a very weak positive relationship between the Sum (homicide rate) and Brady score (gun laws). This value is close to 0, suggesting almost no linear correlation between the two variables."
   ]
  },
  {
   "cell_type": "markdown",
   "id": "030a7982-5595-4d03-bd9c-22024210508d",
   "metadata": {},
   "source": [
    "**3) Analyze the data using distance correlation (install the energy package).**  "
   ]
  },
  {
   "cell_type": "code",
   "execution_count": 34,
   "id": "83070c24-2216-486a-9705-6866d545f6a0",
   "metadata": {},
   "outputs": [
    {
     "name": "stdout",
     "output_type": "stream",
     "text": [
      "[1] 0.162894\n"
     ]
    }
   ],
   "source": [
    "library(energy)\n",
    "distance_corr <- dcor(given_data$Sum, given_data$`Brady score`)\n",
    "print(distance_corr)"
   ]
  },
  {
   "cell_type": "markdown",
   "id": "4376e43f-3ff9-4977-aad6-6223f3c59242",
   "metadata": {},
   "source": [
    "A value around 0.16 suggests a low, but possibly non-negligible, relationship, though it’s not strong.\n",
    "Since distance correlation can capture non-linear patterns that Pearson’s correlation misses, it suggests there may be subtle non-linear effects in the data that Pearson's correlation (which only looks for linear relationships) did not detect."
   ]
  },
  {
   "cell_type": "markdown",
   "id": "817c1bf0-b95a-42ef-87f9-201ebfeb9243",
   "metadata": {},
   "source": [
    "**4)  What mistake did the author make?**\n",
    "          "
   ]
  },
  {
   "cell_type": "markdown",
   "id": "6aa10139-aa7f-4e3c-b6c6-925bd332042d",
   "metadata": {},
   "source": [
    "The author relied solely on Pearson's correlation (0.032) to conclude that there was no relationship between gun laws and homicide rates. Pearson's correlation only measures linear relationships, meaning it can miss non-linear associations. By doing so, the author ignored the possibility of more complex relationships between the variables. \n",
    "\n",
    "The distance correlation (0.163), which can detect both linear and non-linear associations. Even though this value suggests a weak relationship, it highlights the presence of some association that Pearson's correlation missed. This challenges the claim that there is \"zero correlation\" and suggests that the relationship between gun laws and homicide rates may be more nuanced.\n",
    "\n"
   ]
  },
  {
   "cell_type": "markdown",
   "id": "4b829e35-e2d5-4ff4-b087-bb9b6448a951",
   "metadata": {},
   "source": [
    "**5)  How would you fix the article? (and show there is a correlation between gun laws and homicide rates)**\n",
    "\n",
    "Remember distance correlation is zero if and only if there is no correlation. \n",
    "It is always positive, unlike pearson's correlation, which can also take on\n",
    "negative values (so you cannot see negative correlation easily, better gun laws\n",
    "lead to lower deaths by gun). \n"
   ]
  },
  {
   "cell_type": "markdown",
   "id": "bc76c54a-7b1d-434d-a5e9-8bd37c4eafcb",
   "metadata": {},
   "source": [
    "The article originally claims “zero correlation” based on Pearson’s correlation, which only measures linear relationships. However, using distance correlation—which captures both linear and non-linear dependencies—shows a positive value (0.163). Since distance correlation is zero only when no relationship exists, this result indicates some level of association between gun laws and homicide rates."
   ]
  },
  {
   "cell_type": "code",
   "execution_count": null,
   "id": "0ab6ecb8-572a-4fa6-84c8-04e4ea2cc4ed",
   "metadata": {},
   "outputs": [],
   "source": []
  }
 ],
 "metadata": {
  "kernelspec": {
   "display_name": "R",
   "language": "R",
   "name": "ir"
  },
  "language_info": {
   "codemirror_mode": "r",
   "file_extension": ".r",
   "mimetype": "text/x-r-source",
   "name": "R",
   "pygments_lexer": "r",
   "version": "4.4.2"
  }
 },
 "nbformat": 4,
 "nbformat_minor": 5
}
