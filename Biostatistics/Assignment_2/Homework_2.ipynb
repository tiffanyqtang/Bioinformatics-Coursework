{
 "cells": [
  {
   "cell_type": "markdown",
   "id": "aa4ec4eb-f842-4601-85ef-5d818a2fb8c3",
   "metadata": {},
   "source": [
    "## Homework 1\n",
    "### Tiffany Tang\n",
    "### tt2405"
   ]
  },
  {
   "cell_type": "markdown",
   "id": "be32cb45-1f14-40ac-8d95-c84a797f8c3d",
   "metadata": {},
   "source": [
    "#### 1. First uncompress the file using \"gunzip weight-height.csv.gz\".\n",
    "\n",
    "**I used the unzipped file provided to us**"
   ]
  },
  {
   "cell_type": "code",
   "execution_count": null,
   "id": "55170a40-fdb1-4864-b360-24826a735487",
   "metadata": {},
   "outputs": [],
   "source": []
  },
  {
   "cell_type": "markdown",
   "id": "2e4c8ddb-9427-4c5e-a368-7fb3890b8d2a",
   "metadata": {},
   "source": [
    "#### 2. Import data from this file into the data frame \"wh\"\n",
    "\n",
    "- wh <- read.csv(\"weight-height.csv\",header=TRUE)\n",
    "\n",
    "- You can read the compressed file directly, but you sometimes need to check contents after importing, so best to have an uncompressed version at hand to use with excel to check the import"
   ]
  },
  {
   "cell_type": "code",
   "execution_count": 1,
   "id": "60ddc22c-d4f2-4284-869d-83053425aa57",
   "metadata": {},
   "outputs": [],
   "source": [
    "wh <- read.csv(\"weight-height.csv\", header = TRUE)"
   ]
  },
  {
   "cell_type": "code",
   "execution_count": null,
   "id": "7003a05b-6d0e-42cf-958f-46f35147590d",
   "metadata": {},
   "outputs": [],
   "source": []
  },
  {
   "cell_type": "markdown",
   "id": "324d1333-e312-48d2-8992-a9925e6cddaf",
   "metadata": {},
   "source": [
    "#### 3. How many males and females are in this file ? (hint: use the command summary(wh))"
   ]
  },
  {
   "cell_type": "code",
   "execution_count": 2,
   "id": "f3b46edd-e50d-4ffa-becd-38e2396c9413",
   "metadata": {},
   "outputs": [
    {
     "data": {
      "text/plain": [
       "    Gender              Height          Weight     \n",
       " Length:10000       Min.   :54.26   Min.   : 64.7  \n",
       " Class :character   1st Qu.:63.51   1st Qu.:135.8  \n",
       " Mode  :character   Median :66.32   Median :161.2  \n",
       "                    Mean   :66.37   Mean   :161.4  \n",
       "                    3rd Qu.:69.17   3rd Qu.:187.2  \n",
       "                    Max.   :79.00   Max.   :270.0  "
      ]
     },
     "metadata": {},
     "output_type": "display_data"
    }
   ],
   "source": [
    "summary(wh) #shows us the columns\n",
    "#know that total amount of people is 10,000, so male and female must total this"
   ]
  },
  {
   "cell_type": "code",
   "execution_count": 4,
   "id": "276ad0df-c94a-4d42-a183-a454dc341785",
   "metadata": {},
   "outputs": [
    {
     "data": {
      "text/html": [
       "<table class=\"dataframe\">\n",
       "<caption>A data.frame: 6 × 3</caption>\n",
       "<thead>\n",
       "\t<tr><th></th><th scope=col>Gender</th><th scope=col>Height</th><th scope=col>Weight</th></tr>\n",
       "\t<tr><th></th><th scope=col>&lt;chr&gt;</th><th scope=col>&lt;dbl&gt;</th><th scope=col>&lt;dbl&gt;</th></tr>\n",
       "</thead>\n",
       "<tbody>\n",
       "\t<tr><th scope=row>1</th><td>Male</td><td>73.84702</td><td>241.8936</td></tr>\n",
       "\t<tr><th scope=row>2</th><td>Male</td><td>68.78190</td><td>162.3105</td></tr>\n",
       "\t<tr><th scope=row>3</th><td>Male</td><td>74.11011</td><td>212.7409</td></tr>\n",
       "\t<tr><th scope=row>4</th><td>Male</td><td>71.73098</td><td>220.0425</td></tr>\n",
       "\t<tr><th scope=row>5</th><td>Male</td><td>69.88180</td><td>206.3498</td></tr>\n",
       "\t<tr><th scope=row>6</th><td>Male</td><td>67.25302</td><td>152.2122</td></tr>\n",
       "</tbody>\n",
       "</table>\n"
      ],
      "text/latex": [
       "A data.frame: 6 × 3\n",
       "\\begin{tabular}{r|lll}\n",
       "  & Gender & Height & Weight\\\\\n",
       "  & <chr> & <dbl> & <dbl>\\\\\n",
       "\\hline\n",
       "\t1 & Male & 73.84702 & 241.8936\\\\\n",
       "\t2 & Male & 68.78190 & 162.3105\\\\\n",
       "\t3 & Male & 74.11011 & 212.7409\\\\\n",
       "\t4 & Male & 71.73098 & 220.0425\\\\\n",
       "\t5 & Male & 69.88180 & 206.3498\\\\\n",
       "\t6 & Male & 67.25302 & 152.2122\\\\\n",
       "\\end{tabular}\n"
      ],
      "text/markdown": [
       "\n",
       "A data.frame: 6 × 3\n",
       "\n",
       "| <!--/--> | Gender &lt;chr&gt; | Height &lt;dbl&gt; | Weight &lt;dbl&gt; |\n",
       "|---|---|---|---|\n",
       "| 1 | Male | 73.84702 | 241.8936 |\n",
       "| 2 | Male | 68.78190 | 162.3105 |\n",
       "| 3 | Male | 74.11011 | 212.7409 |\n",
       "| 4 | Male | 71.73098 | 220.0425 |\n",
       "| 5 | Male | 69.88180 | 206.3498 |\n",
       "| 6 | Male | 67.25302 | 152.2122 |\n",
       "\n"
      ],
      "text/plain": [
       "  Gender Height   Weight  \n",
       "1 Male   73.84702 241.8936\n",
       "2 Male   68.78190 162.3105\n",
       "3 Male   74.11011 212.7409\n",
       "4 Male   71.73098 220.0425\n",
       "5 Male   69.88180 206.3498\n",
       "6 Male   67.25302 152.2122"
      ]
     },
     "metadata": {},
     "output_type": "display_data"
    }
   ],
   "source": [
    "head(wh) #just to get a look at the data and the pattern I need for grep"
   ]
  },
  {
   "cell_type": "code",
   "execution_count": 15,
   "id": "0c4f2779-ae94-46b4-8633-a14647be81b4",
   "metadata": {},
   "outputs": [
    {
     "name": "stdout",
     "output_type": "stream",
     "text": [
      "Number of males: 5000 \n",
      "Number of females: 5000 \n"
     ]
    }
   ],
   "source": [
    "#I am going to use grep to find the amounts of matches for male and female\n",
    "num_males <- length(grep(\"Male\", wh$Gender)) #use grep to find match for 'Male\" in column 'Gender'\n",
    "num_females <- length(grep(\"Female\", wh$Gender)) #use grep to find match for 'Female' in column 'Gender'\n",
    "cat(\"Number of males:\", num_males, \"\\n\")\n",
    "cat(\"Number of females:\", num_females, \"\\n\")"
   ]
  },
  {
   "cell_type": "markdown",
   "id": "d89eb473-71af-4f00-af9f-71c505432b81",
   "metadata": {},
   "source": [
    "**There are 5000 males and 5000 females**"
   ]
  },
  {
   "cell_type": "code",
   "execution_count": null,
   "id": "cf0ba5a1-531a-47de-926e-d1d02dcce347",
   "metadata": {},
   "outputs": [],
   "source": []
  },
  {
   "cell_type": "markdown",
   "id": "1c6d655c-06c3-4141-b564-150aa646877b",
   "metadata": {},
   "source": [
    "#### 4. Find the mean and standard deviation in height and weight of the whole group and the males and females separately."
   ]
  },
  {
   "cell_type": "code",
   "execution_count": 21,
   "id": "ea2e9d95-91cf-4f63-9f1b-a9bb1ac99787",
   "metadata": {},
   "outputs": [
    {
     "name": "stdout",
     "output_type": "stream",
     "text": [
      "Mean Height: 66.37 \n",
      "Standard Deviation Height: 3.85 \n",
      "Mean Weight: 161.44 \n",
      "Standard Deviation Weight: 32.11 \n"
     ]
    }
   ],
   "source": [
    "#whole group\n",
    "#this information is also provided in the summary\n",
    "mean_height <- mean(wh$Height)\n",
    "mean_weight <- mean(wh$Weight)\n",
    "\n",
    "sd_height <- sd(wh$Height)\n",
    "sd_weight <- sd(wh$Weight)\n",
    "\n",
    "cat(\"Mean Height:\", round(mean_height, 2), \"\\n\")\n",
    "cat(\"Standard Deviation Height:\", round(sd_height, 2), \"\\n\")\n",
    "cat(\"Mean Weight:\", round(mean_weight, 2), \"\\n\")\n",
    "cat(\"Standard Deviation Weight:\", round(sd_weight, 2), \"\\n\")"
   ]
  },
  {
   "cell_type": "code",
   "execution_count": 28,
   "id": "fba2d8d5-ba59-458b-b205-92211ffe5cae",
   "metadata": {},
   "outputs": [
    {
     "name": "stdout",
     "output_type": "stream",
     "text": [
      "Mean Height Males: 69.03 \n",
      "Standard Deviation Height Males: 2.86 \n",
      "Mean Weight Males: 187.02 \n",
      "Standard Deviation Weight Males: 19.78 \n"
     ]
    }
   ],
   "source": [
    "#Just the males:\n",
    "wh_males <- wh[wh$Gender == \"Male\", ]#this creates a dataframe of just males\n",
    "#create a dataframe from rows in the column that match Male under Gender, then get all columns\n",
    "\n",
    "mean_height_male <- mean(wh_males$Height)\n",
    "mean_weight_male <- mean(wh_males$Weight)\n",
    "\n",
    "sd_height_male <- sd(wh_males$Height)\n",
    "sd_weight_male <- sd(wh_males$Weight)\n",
    "\n",
    "cat(\"Mean Height Males:\", round(mean_height_male, 2), \"\\n\")\n",
    "cat(\"Standard Deviation Height Males:\", round(sd_height_male, 2), \"\\n\")\n",
    "cat(\"Mean Weight Males:\", round(mean_weight_male, 2), \"\\n\")\n",
    "cat(\"Standard Deviation Weight Males:\", round(sd_weight_male, 2), \"\\n\")"
   ]
  },
  {
   "cell_type": "code",
   "execution_count": 29,
   "id": "bdbb23c8-59a1-49ef-89b2-cade2ba337f6",
   "metadata": {},
   "outputs": [
    {
     "name": "stdout",
     "output_type": "stream",
     "text": [
      "Mean Height Females: 63.71 \n",
      "Standard Deviation Height Females: 2.7 \n",
      "Mean Weight Females: 135.86 \n",
      "Standard Deviation Weight Females: 19.02 \n"
     ]
    }
   ],
   "source": [
    "#Just the Females\n",
    "#following same procedure as I did for males\n",
    "wh_females <- wh[wh$Gender == \"Female\", ]#Same method as above for females\n",
    "\n",
    "mean_height_female <- mean(wh_females$Height)\n",
    "mean_weight_female <- mean(wh_females$Weight)\n",
    "\n",
    "sd_height_female <- sd(wh_females$Height)\n",
    "sd_weight_female <- sd(wh_females$Weight)\n",
    "\n",
    "cat(\"Mean Height Females:\", round(mean_height_female, 2), \"\\n\")\n",
    "cat(\"Standard Deviation Height Females:\", round(sd_height_female, 2), \"\\n\")\n",
    "cat(\"Mean Weight Females:\", round(mean_weight_female, 2), \"\\n\")\n",
    "cat(\"Standard Deviation Weight Females:\", round(sd_weight_female, 2), \"\\n\")"
   ]
  },
  {
   "cell_type": "markdown",
   "id": "0539509a-6abe-41f5-a4e6-b59068bb19c4",
   "metadata": {},
   "source": [
    "**For the whole group:**\n",
    "- Mean Height: 66.37 \n",
    "- Standard Deviation Height: 3.85 \n",
    "- Mean Weight: 161.44 \n",
    "- Standard Deviation Weight: 32.11\n",
    "\n",
    "**For Males**\n",
    "- Mean Height Males: 69.03 \n",
    "- Standard Deviation Height Males: 2.86 \n",
    "- Mean Weight Males: 187.02 \n",
    "- Standard Deviation Weight Males: 19.78\n",
    "\n",
    "**For Females**\n",
    "- Mean Height Females: 63.71 \n",
    "- Standard Deviation Height Females: 2.7 \n",
    "- Mean Weight Females: 135.86 \n",
    "- Standard Deviation Weight Females: 19.02 "
   ]
  },
  {
   "cell_type": "code",
   "execution_count": null,
   "id": "a161a3e6-0ff4-4936-8578-58f6c6af4532",
   "metadata": {},
   "outputs": [],
   "source": []
  },
  {
   "cell_type": "markdown",
   "id": "965e4a11-3a5f-4c02-b9ea-a5686009aaaf",
   "metadata": {},
   "source": [
    "#### 5. Is variability greater in height or in weight ? \n",
    "In all instances, the standard deviation is larger for wieght than height- this shows that there is greater variability in weight, regardless of gender. "
   ]
  },
  {
   "cell_type": "code",
   "execution_count": null,
   "id": "12b643a6-3ca8-4768-bcd2-c7ea25405585",
   "metadata": {},
   "outputs": [],
   "source": []
  },
  {
   "cell_type": "markdown",
   "id": "cbdb488c-e43d-4961-b96b-f36ee2182b5f",
   "metadata": {},
   "source": [
    "#### 6. What can the variability tell you about which variables are more easily influenced ?\n",
    "Higher variability means that the values deviate more widely from the mean. This means that outside factors can have a greater impact on the variable. Eg. Weight is more variable than height, weight can easily be impacted by things like diet. Lower variability means it more consistent through individuals. Lower variability suggests that a variable is more consistent throughtout a population. Eg. In our example, height is more consistent between people of that population than weight is- and less likely to be impacted by outside factors than weight. "
   ]
  },
  {
   "cell_type": "code",
   "execution_count": null,
   "id": "5363d41e-a7bc-4709-8d9c-f08a5db8755c",
   "metadata": {},
   "outputs": [],
   "source": []
  },
  {
   "cell_type": "markdown",
   "id": "6d680731-b1be-4c48-8af7-2f11aaa07cd8",
   "metadata": {},
   "source": [
    "#### 7. Height and weight have increased over the years. So if you were to go back 50 years, which measurement would you guess has changed most, compared to today's numbers, height or weight (remember you are comparing height and weight which use different units, so what is the best metric to use here ?\n",
    "\n",
    "Since we see that weight has a higher variability, I would guess that weight has changed more in the last 50 years compared to height. The best metric to use to verify this would be percent change in comparing the changes in means between the two. See what percent each mean has increased by  (for both height and weight). "
   ]
  },
  {
   "cell_type": "code",
   "execution_count": null,
   "id": "1b92f566-e465-4fa7-ae6d-743a70df39c8",
   "metadata": {},
   "outputs": [],
   "source": []
  }
 ],
 "metadata": {
  "kernelspec": {
   "display_name": "R",
   "language": "R",
   "name": "ir"
  },
  "language_info": {
   "codemirror_mode": "r",
   "file_extension": ".r",
   "mimetype": "text/x-r-source",
   "name": "R",
   "pygments_lexer": "r",
   "version": "4.1.2"
  }
 },
 "nbformat": 4,
 "nbformat_minor": 5
}
